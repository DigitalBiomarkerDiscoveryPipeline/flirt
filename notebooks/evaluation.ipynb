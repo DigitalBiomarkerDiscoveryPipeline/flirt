{
 "metadata": {
  "language_info": {
   "codemirror_mode": {
    "name": "ipython",
    "version": 3
   },
   "file_extension": ".py",
   "mimetype": "text/x-python",
   "name": "python",
   "nbconvert_exporter": "python",
   "pygments_lexer": "ipython3",
   "version": "3.6.12-final"
  },
  "orig_nbformat": 2,
  "kernelspec": {
   "name": "python3",
   "display_name": "Python 3.6.12 64-bit ('semesterproject': conda)",
   "metadata": {
    "interpreter": {
     "hash": "b1213a8dbc01a2bbcdeb4e02d2d3f5411d6dec13eff8952fed902e4513bf8e24"
    }
   }
  }
 },
 "nbformat": 4,
 "nbformat_minor": 2,
 "cells": [
  {
   "source": [
    "# WESAD Validation Notebook for FLIRT\n"
   ],
   "cell_type": "markdown",
   "metadata": {}
  },
  {
   "cell_type": "code",
   "execution_count": 1,
   "metadata": {},
   "outputs": [],
   "source": [
    "# Import Packages\n",
    "import pandas as pd\n",
    "import numpy as np\n",
    "\n",
    "import matplotlib; matplotlib.use('agg')\n",
    "import matplotlib.pyplot as plt\n",
    "\n",
    "import multiprocessing\n",
    "from joblib import Parallel, delayed\n",
    "from tqdm.autonotebook import trange\n",
    "\n",
    "from sklearn.preprocessing import StandardScaler\n",
    "from sklearn.metrics import f1_score\n",
    "from sklearn.metrics import confusion_matrix\n",
    "from sklearn import utils, model_selection, metrics\n",
    "\n",
    "from datetime import datetime, timedelta, timezone\n",
    "from typing import List\n",
    "import lightgbm as lgb\n",
    "import glob2\n",
    "import os \n",
    "\n",
    "import sys\n",
    "sys.path.insert(1, '/home/fefespinola/ETHZ_Fall_2020/flirt-1')\n",
    "import flirt.simple"
   ]
  },
  {
   "source": [
    "The following function retrieves all HRV, EDA and ACC features per subject using the FLIRT pipeline\n"
   ],
   "cell_type": "code",
   "metadata": {},
   "execution_count": 2,
   "outputs": [
    {
     "output_type": "error",
     "ename": "SyntaxError",
     "evalue": "invalid syntax (<ipython-input-2-c9c2e5945b79>, line 1)",
     "traceback": [
      "\u001b[0;36m  File \u001b[0;32m\"<ipython-input-2-c9c2e5945b79>\"\u001b[0;36m, line \u001b[0;32m1\u001b[0m\n\u001b[0;31m    The following function retrieves all HRV, EDA and ACC features per subject using the FLIRT pipeline\u001b[0m\n\u001b[0m                ^\u001b[0m\n\u001b[0;31mSyntaxError\u001b[0m\u001b[0;31m:\u001b[0m invalid syntax\n"
     ]
    }
   ]
  },
  {
   "cell_type": "code",
   "execution_count": 2,
   "metadata": {},
   "outputs": [],
   "source": [
    "def get_features_per_subject(path, window_length):\n",
    "    features = flirt.simple.get_features_for_empatica_archive(zip_file_path = path,\n",
    "                                      window_length = window_length,\n",
    "                                      window_step_size = 0.25,\n",
    "                                      hrv_features = True,\n",
    "                                      eda_features = True,\n",
    "                                      acc_features = True,\n",
    "                                      bvp_features = True,\n",
    "                                      temp_features = True,\n",
    "                                      debug = True)\n",
    "    return features"
   ]
  },
  {
   "source": [
    "The following function determines the time offsets of the start and end of each relevant analysis period (baseline, stress, amusement). These offsets are combined with the timestamp stating the start of recording, to determine the absolute timestamps of the sections of interest for each subject. "
   ],
   "cell_type": "markdown",
   "metadata": {}
  },
  {
   "cell_type": "code",
   "execution_count": 3,
   "metadata": {},
   "outputs": [],
   "source": [
    "def find_label_timestamps(csv_path, StartingTime):\n",
    "\n",
    "    ID = csv_path.split('/', 3)[2]\n",
    "    df_timestamp = pd.read_csv(glob2.glob('project_data/WESAD/' + ID + '/*quest.csv')[0], delimiter = ';', header = 1).iloc[:2, :].dropna(axis = 1)\n",
    "    print('===================================')\n",
    "    print('Printing the timestamp for {0}'.format(ID))\n",
    "    print('===================================')\n",
    "    print(df_timestamp.head())\n",
    "    \n",
    "    # Start/End of experiment periods\n",
    "    print('\\nStart of the baseline: ' + str(df_timestamp['Base'][0]))\n",
    "    print('End of the baseline: ' + str(df_timestamp['Base'][1]))\n",
    "    print('Start of the fun: ' + str(df_timestamp['Fun'][0]))\n",
    "    print('End of the fun: ' + str(df_timestamp['Fun'][1]))\n",
    "    print('Start of the stress: ' + str(df_timestamp['TSST'][0]))\n",
    "    print('End of the stress: ' + str(df_timestamp['TSST'][1]))\n",
    "    \n",
    "    # Get start and end time and assign label into a dict\n",
    "    lab_dict = {'Base':0, 'TSST':1, 'Fun':2}\n",
    "    labels_times_dict = {}\n",
    "    for mode in df_timestamp.columns.tolist():\n",
    "        print('mode', mode)\n",
    "        if mode=='Base' or mode=='Fun' or mode=='TSST':\n",
    "            labels_times_dict[mode] = [StartingTime + timedelta(minutes = int(str(df_timestamp[mode][0]).split(\".\")[0]))+ timedelta                                         (seconds = int(str(df_timestamp[mode][0]).split(\".\")[1])), \n",
    "                                    StartingTime + timedelta(minutes = int(str(df_timestamp[mode][1]).split(\".\")[0])) + timedelta                                           (seconds = int(str(df_timestamp[mode][1]).split(\".\")[1])), lab_dict[mode]]\n",
    "            \n",
    "            #labels_times_dict[mode] = [StartingTime + timedelta(minutes = float(df_timestamp[mode][0])), \n",
    "                                  #StartingTime + timedelta(minutes = float(df_timestamp[mode][1])), lab_dict[mode]]\n",
    "        \n",
    "    return labels_times_dict"
   ]
  },
  {
   "cell_type": "code",
   "execution_count": 4,
   "metadata": {},
   "outputs": [],
   "source": [
    "import ast\n",
    "from dateutil.parser import parse\n",
    "\n",
    "def find_label_start_time(csv_path):\n",
    "    ID = csv_path.split('/', 3)[2]\n",
    "    timestamp = open(glob2.glob('project_data/WESAD/' + ID + '/*respiban.txt')[0], \"r\")\n",
    "    for i in range(2):\n",
    "        line = (timestamp.readline())\n",
    "        line = line.strip()[2:]\n",
    "        if i==1:\n",
    "            dict = ast.literal_eval(line)\n",
    "            start_time_str = dict['00:07:80:D8:AB:58']['time']\n",
    "            date_str = dict['00:07:80:D8:AB:58']['date']\n",
    "            datetime_str = date_str + \" \" + start_time_str\n",
    "            #print(datetime_str)\n",
    "            date_time_obj = parse(datetime_str)\n",
    "            #print(date_time_obj)\n",
    "            start_time = date_time_obj\n",
    "            utc_time = start_time - timedelta(hours=2)\n",
    "\n",
    "    timestamp.close()\n",
    "\n",
    "    #df_timestamp = pd.read_table(glob2.glob('project_data/WESAD/' + ID + '/*respiban.txt')[0], delim_whitespace=True)#.iloc[:2, :].dropna(axis = 1)\n",
    "    print('===================================')\n",
    "    print('Printing the timestamp for {0}'.format(ID))\n",
    "    print('===================================')\n",
    "    #print(df_timestamp.head())\n",
    "    return utc_time"
   ]
  },
  {
   "source": [
    "Plots the training and validation classification metric evolution with the number of iterations. "
   ],
   "cell_type": "markdown",
   "metadata": {}
  },
  {
   "cell_type": "code",
   "execution_count": 5,
   "metadata": {
    "tags": []
   },
   "outputs": [
    {
     "output_type": "stream",
     "name": "stdout",
     "text": [
      "===================================\nPrinting the timestamp for S10\n===================================\n2017-07-25 07:25:01\n===================================\nPrinting the timestamp for S11\n===================================\n2017-07-25 11:33:01\n===================================\nPrinting the timestamp for S13\n===================================\n2017-08-08 11:33:01\n===================================\nPrinting the timestamp for S14\n===================================\n2017-08-09 07:31:01\n===================================\nPrinting the timestamp for S15\n===================================\n2017-08-10 07:30:01\n===================================\nPrinting the timestamp for S16\n===================================\n2017-08-10 12:21:01\n===================================\nPrinting the timestamp for S17\n===================================\n2017-08-11 07:39:01\n===================================\nPrinting the timestamp for S2\n===================================\n2017-05-22 07:39:01\n===================================\nPrinting the timestamp for S3\n===================================\n2017-05-24 11:26:01\n===================================\nPrinting the timestamp for S4\n===================================\n2017-06-13 08:57:01\n===================================\nPrinting the timestamp for S5\n===================================\n2017-06-13 12:42:01\n===================================\nPrinting the timestamp for S6\n===================================\n2017-06-14 11:40:01\n===================================\nPrinting the timestamp for S7\n===================================\n2017-07-06 11:30:01\n===================================\nPrinting the timestamp for S8\n===================================\n2017-07-10 11:28:01\n===================================\nPrinting the timestamp for S9\n===================================\n2017-07-11 11:26:01\n"
     ]
    }
   ],
   "source": [
    "os.chdir('/home/fefespinola/ETHZ_Fall_2020/') #local directory where the script is\n",
    "File_Path = glob2.glob('project_data/WESAD/**/*_readme.txt', recursive=True)\n",
    "for subject_path in File_Path:\n",
    "    start_time = find_label_start_time(subject_path)\n",
    "    print(start_time)"
   ]
  },
  {
   "source": [
    "def render_metric(eval_results, metric_name):\n",
    "    ax = lgb.plot_metric(evals_result, metric=metric_name, figsize=(10, 5))\n",
    "    #plt.show()\n",
    "    plt.savefig('/home/fefespinola/ETHZ_Fall_2020/plots/render_metric_all_ekf_feat.png')"
   ],
   "cell_type": "code",
   "metadata": {},
   "execution_count": 6,
   "outputs": []
  },
  {
   "source": [
    "Plots the 10 top important classification features, i.e. the ones that influence the output the most."
   ],
   "cell_type": "markdown",
   "metadata": {}
  },
  {
   "cell_type": "code",
   "execution_count": 7,
   "metadata": {},
   "outputs": [],
   "source": [
    "def render_plot_importance(gbm, importance_type, max_features=10, ignore_zero=True, precision=3):\n",
    "    ax = lgb.plot_importance(gbm, importance_type=importance_type,\n",
    "                             max_num_features=max_features,\n",
    "                             ignore_zero=ignore_zero, figsize=(12, 8),\n",
    "                             precision=precision)\n",
    "    #plt.show()\n",
    "    plt.savefig('/home/fefespinola/ETHZ_Fall_2020/plots/feature_importance_all_ekf_feat.png')\n"
   ]
  },
  {
   "source": [
    "Main function that calls the above functions, determines the relevant data to use (i.e. that within the useful recording periods of baseline, stress and amusement) using the timestampp offsets, assignes the appropriate label to each sample and returns the full data with training samples and the corresponding labels."
   ],
   "cell_type": "markdown",
   "metadata": {}
  },
  {
   "cell_type": "code",
   "execution_count": 8,
   "metadata": {},
   "outputs": [],
   "source": [
    "def main():\n",
    "    os.chdir('/home/fefespinola/ETHZ_Fall_2020/') #local directory where the script is\n",
    "    df_all = pd.DataFrame(None)\n",
    "    #relevant_features = pd.DataFrame(None)\n",
    "    File_Path = glob2.glob('project_data/WESAD/**/*_readme.txt', recursive=True)\n",
    "    window_length = 60 # in seconds\n",
    "    window_shift = 0.25 # in seconds\n",
    "    for subject_path in File_Path:\n",
    "        print(subject_path)\n",
    "        print(subject_path.split('/', 3)[2])\n",
    "        ID = subject_path.split('/', 3)[2]\n",
    "        zip_path = glob2.glob('project_data/WESAD/' + ID + '/*_Data.zip')[0]\n",
    "        print(zip_path)\n",
    "        features = get_features_per_subject(zip_path, window_length)\n",
    "        features.index.name = 'timedata'\n",
    "        E4Time = features.index[0]\n",
    "        print(E4Time)\n",
    "        StartingTime = find_label_start_time(subject_path)\n",
    "        print(StartingTime)\n",
    "        labels_times = find_label_timestamps(subject_path, StartingTime)\n",
    "        #features.index.tz_localize(tz='UTC')\n",
    "        relevant_features = features.loc[\n",
    "            ((features.index.tz_localize(tz=None) >= labels_times['Base'][0]) & (features.index.tz_localize(tz=None) <= labels_times['Base'][1])) \n",
    "            | ((features.index.tz_localize(tz=None) >= labels_times['Fun'][0]) & (features.index.tz_localize(tz=None) <= labels_times['Fun'][1])) \n",
    "            | ((features.index.tz_localize(tz=None) >= labels_times['TSST'][0]) & (features.index.tz_localize(tz=None) <= labels_times['TSST'][1]))]\n",
    "\n",
    "        relevant_features.insert(0, 'ID', ID)\n",
    "        relevant_features['label'] = np.zeros(len(relevant_features))\n",
    "        relevant_features.loc[(relevant_features.index.tz_localize(tz=None)>=labels_times['Fun'][0]) &\n",
    "                                (relevant_features.index.tz_localize(tz=None)<=labels_times['Fun'][1]), 'label'] = labels_times['Fun'][2]\n",
    "        relevant_features.loc[(relevant_features.index.tz_localize(tz=None)>=labels_times['TSST'][0]) & \n",
    "                            (relevant_features.index.tz_localize(tz=None)<=labels_times['TSST'][1]), 'label'] = labels_times['TSST'][2]\n",
    "\n",
    "        # concatenate all subjects and add IDs\n",
    "        df_all = pd.concat((df_all, relevant_features))\n",
    "    \n",
    "    print(df_all)\n",
    "\n",
    "    return df_all"
   ]
  },
  {
   "source": [
    "This function generates and saves feature matrices for the individual physiological signals "
   ],
   "cell_type": "markdown",
   "metadata": {}
  },
  {
   "cell_type": "code",
   "execution_count": 9,
   "metadata": {},
   "outputs": [],
   "source": [
    "def __get_subset_features(df_all, feature_name: str, eda_method:str='lpf'):\n",
    "    \n",
    "    if feature_name=='physio':\n",
    "        small_df = df_all.loc[:, df_all.columns.str.startswith('hrv')&df_all.columns.str.startswith   ('eda')&df_all.columns.str.startswith('bvp')&df_all.columns.str.startswith('temp')]\n",
    "        filename = 'features_all_' + features_name +'_' + eda_method + '_feat.csv'\n",
    "    else:\n",
    "        small_df = df_all.loc[:, df_all.columns.str.startswith(feature_name)]\n",
    "        if feature_name=='eda':\n",
    "            filename = 'features_all_' + features_name +'_' + eda_method + '_feat.csv'\n",
    "        else:\n",
    "            filename = 'features_all_' + features_name + '_feat.csv'\n",
    "    small_df.to_csv(filename)\n"
   ]
  },
  {
   "source": [
    "The following function retrieves the correct training and testing data for LOSO cross-validation. It also deals with missing data (inf and nan), and scales the features."
   ],
   "cell_type": "markdown",
   "metadata": {}
  },
  {
   "cell_type": "code",
   "execution_count": 10,
   "metadata": {},
   "outputs": [],
   "source": [
    "def __get_train_valid_data(df_all, cv_subject):\n",
    "    scaler = StandardScaler()\n",
    "\n",
    "    #training data\n",
    "    X_train = df_all.loc[df_all['ID']!=cv_subject]  # 500 entities, each contains 10 features\n",
    "    X_train = X_train.iloc[:, 1:len(df_all.columns)-1]\n",
    "    X_train = X_train.replace([np.nan, np.inf, -np.inf], -1000)\n",
    "    X_train = scaler.fit_transform(X_train)\n",
    "    y_train = df_all.loc[df_all['ID']!=cv_subject, ['label']]  # binary target\n",
    "    train_data = lgb.Dataset(X_train, label=y_train)\n",
    "\n",
    "    #validation data\n",
    "    X_test = df_all.loc[df_all['ID']==cv_subject]  # 500 entities, each contains 10 features\n",
    "    X_test = X_test.iloc[:, 1:len(df_all.columns)-1]\n",
    "    X_test = X_test.replace([np.nan, np.inf, -np.inf], -1000)\n",
    "    X_test = scaler.transform(X_test)\n",
    "    y_test = df_all.loc[df_all['ID']==cv_subject, ['label']]   # binary target\n",
    "    test_data = lgb.Dataset(X_test, label=y_test, reference=train_data)\n",
    "\n",
    "    return X_train, y_train, train_data, X_test, y_test, test_data\n",
    " "
   ]
  },
  {
   "source": [
    "Run the evaluation script to retrieve the labeled data and train classifier to output f1-score"
   ],
   "cell_type": "markdown",
   "metadata": {}
  },
  {
   "cell_type": "code",
   "execution_count": 11,
   "metadata": {
    "tags": []
   },
   "outputs": [
    {
     "output_type": "stream",
     "name": "stdout",
     "text": [
      "project_data/WESAD/S10/S10_readme.txt\n",
      "S10\n",
      "project_data/WESAD/S10/S10_E4_Data.zip\n",
      "Reading files\n",
      "Calculating HRV features\n",
      "Cleaning data...\n",
      "Calculate td features\n"
     ]
    },
    {
     "output_type": "display_data",
     "data": {
      "text/plain": "HBox(children=(HTML(value=''), FloatProgress(value=0.0, max=5028.0), HTML(value='')))",
      "application/vnd.jupyter.widget-view+json": {
       "version_major": 2,
       "version_minor": 0,
       "model_id": "01dd40111b6d48d19bb0332e59cab959"
      }
     },
     "metadata": {}
    },
    {
     "output_type": "stream",
     "name": "stdout",
     "text": [
      "\n",
      "Calculate fd features\n"
     ]
    },
    {
     "output_type": "display_data",
     "data": {
      "text/plain": "HBox(children=(HTML(value=''), FloatProgress(value=0.0, max=5028.0), HTML(value='')))",
      "application/vnd.jupyter.widget-view+json": {
       "version_major": 2,
       "version_minor": 0,
       "model_id": "c59b13e5a64a464882f033dd29fb0d02"
      }
     },
     "metadata": {}
    },
    {
     "output_type": "stream",
     "name": "stdout",
     "text": [
      "\n",
      "Calculate stat features\n"
     ]
    },
    {
     "output_type": "display_data",
     "data": {
      "text/plain": "HBox(children=(HTML(value=''), FloatProgress(value=0.0, max=5028.0), HTML(value='')))",
      "application/vnd.jupyter.widget-view+json": {
       "version_major": 2,
       "version_minor": 0,
       "model_id": "cad1b3a00c354556a75701e7739b8675"
      }
     },
     "metadata": {}
    },
    {
     "output_type": "stream",
     "name": "stdout",
     "text": [
      "\n",
      "Calculating EDA features\n"
     ]
    },
    {
     "output_type": "display_data",
     "data": {
      "text/plain": "HBox(children=(HTML(value='EDA features'), FloatProgress(value=0.0, max=27287.0), HTML(value='')))",
      "application/vnd.jupyter.widget-view+json": {
       "version_major": 2,
       "version_minor": 0,
       "model_id": "c9648ddad89245928558eee85c9a3f80"
      }
     },
     "metadata": {}
    },
    {
     "output_type": "stream",
     "name": "stdout",
     "text": [
      "\n",
      "Calculating ACC features\n"
     ]
    },
    {
     "output_type": "display_data",
     "data": {
      "text/plain": "HBox(children=(HTML(value=''), FloatProgress(value=0.0, max=27291.0), HTML(value='')))",
      "application/vnd.jupyter.widget-view+json": {
       "version_major": 2,
       "version_minor": 0,
       "model_id": "f615b654c4784435801b7a67426ee692"
      }
     },
     "metadata": {}
    },
    {
     "output_type": "stream",
     "name": "stdout",
     "text": [
      "\n",
      "Calculating BVP features\n"
     ]
    },
    {
     "output_type": "display_data",
     "data": {
      "text/plain": "HBox(children=(HTML(value=''), FloatProgress(value=0.0, max=27291.0), HTML(value='')))",
      "application/vnd.jupyter.widget-view+json": {
       "version_major": 2,
       "version_minor": 0,
       "model_id": "4e3be0faf1c748bfb199fb6c6056349b"
      }
     },
     "metadata": {}
    },
    {
     "output_type": "stream",
     "name": "stdout",
     "text": [
      "\n",
      "Calculating temperature features\n"
     ]
    },
    {
     "output_type": "display_data",
     "data": {
      "text/plain": "HBox(children=(HTML(value=''), FloatProgress(value=0.0, max=27287.0), HTML(value='')))",
      "application/vnd.jupyter.widget-view+json": {
       "version_major": 2,
       "version_minor": 0,
       "model_id": "43479362abbb41638555066a1d62700e"
      }
     },
     "metadata": {}
    },
    {
     "output_type": "stream",
     "name": "stdout",
     "text": [
      "\n",
      "2017-07-25 07:06:08+00:00\n",
      "===================================\n",
      "Printing the timestamp for S10\n",
      "===================================\n",
      "2017-07-25 07:25:01\n",
      "===================================\n",
      "Printing the timestamp for S10\n",
      "===================================\n",
      "   # ORDER  Base    Fun  Medi 1   TSST  Medi 2  bRead  fRead  sRead\n",
      "0  # START   2.5  27.53   38.42  54.30   83.17  23.39  34.58  71.22\n",
      "1    # END  22.5  34.25   45.40  66.55   90.15  24.50  36.15  72.27\n",
      "\n",
      "Start of the baseline: 2.5\n",
      "End of the baseline: 22.5\n",
      "Start of the fun: 27.53\n",
      "End of the fun: 34.25\n",
      "Start of the stress: 54.3\n",
      "End of the stress: 66.55\n",
      "mode # ORDER\n",
      "mode Base\n",
      "mode Fun\n",
      "mode Medi 1\n",
      "mode TSST\n",
      "mode Medi 2\n",
      "mode bRead\n",
      "mode fRead\n",
      "mode sRead\n",
      "project_data/WESAD/S11/S11_readme.txt\n",
      "S11\n",
      "project_data/WESAD/S11/S11_E4_Data.zip\n",
      "Reading files\n",
      "Calculating HRV features\n",
      "Cleaning data...\n",
      "Calculate td features\n"
     ]
    },
    {
     "output_type": "display_data",
     "data": {
      "text/plain": "HBox(children=(HTML(value=''), FloatProgress(value=0.0, max=3118.0), HTML(value='')))",
      "application/vnd.jupyter.widget-view+json": {
       "version_major": 2,
       "version_minor": 0,
       "model_id": "be3d51b6a9f84bdda0355c556b21adf1"
      }
     },
     "metadata": {}
    },
    {
     "output_type": "stream",
     "name": "stdout",
     "text": [
      "\n",
      "Calculate fd features\n"
     ]
    },
    {
     "output_type": "display_data",
     "data": {
      "text/plain": "HBox(children=(HTML(value=''), FloatProgress(value=0.0, max=3118.0), HTML(value='')))",
      "application/vnd.jupyter.widget-view+json": {
       "version_major": 2,
       "version_minor": 0,
       "model_id": "4fbacaae86114a98bb1c5d2822750615"
      }
     },
     "metadata": {}
    },
    {
     "output_type": "stream",
     "name": "stdout",
     "text": [
      "\nCalculate stat features\n"
     ]
    },
    {
     "output_type": "display_data",
     "data": {
      "text/plain": "HBox(children=(HTML(value=''), FloatProgress(value=0.0, max=3118.0), HTML(value='')))",
      "application/vnd.jupyter.widget-view+json": {
       "version_major": 2,
       "version_minor": 0,
       "model_id": "0b8dee95f9a94f1697484fb202023c19"
      }
     },
     "metadata": {}
    },
    {
     "output_type": "stream",
     "name": "stdout",
     "text": [
      "\n",
      "Calculating EDA features\n"
     ]
    },
    {
     "output_type": "display_data",
     "data": {
      "text/plain": "HBox(children=(HTML(value='EDA features'), FloatProgress(value=0.0, max=25841.0), HTML(value='')))",
      "application/vnd.jupyter.widget-view+json": {
       "version_major": 2,
       "version_minor": 0,
       "model_id": "88dbbc4a89be41b78929fc8985590d2d"
      }
     },
     "metadata": {}
    },
    {
     "output_type": "stream",
     "name": "stdout",
     "text": [
      "\n",
      "Calculating ACC features\n"
     ]
    },
    {
     "output_type": "display_data",
     "data": {
      "text/plain": "HBox(children=(HTML(value=''), FloatProgress(value=0.0, max=25842.0), HTML(value='')))",
      "application/vnd.jupyter.widget-view+json": {
       "version_major": 2,
       "version_minor": 0,
       "model_id": "3140a3583d79444db9ee4e16a6f7f445"
      }
     },
     "metadata": {}
    },
    {
     "output_type": "stream",
     "name": "stdout",
     "text": [
      "\n",
      "Calculating BVP features\n"
     ]
    },
    {
     "output_type": "display_data",
     "data": {
      "text/plain": "HBox(children=(HTML(value=''), FloatProgress(value=0.0, max=25842.0), HTML(value='')))",
      "application/vnd.jupyter.widget-view+json": {
       "version_major": 2,
       "version_minor": 0,
       "model_id": "fcf77a053d9d4061bd0f9f5829b8e157"
      }
     },
     "metadata": {}
    },
    {
     "output_type": "stream",
     "name": "stdout",
     "text": [
      "\n",
      "Calculating temperature features\n"
     ]
    },
    {
     "output_type": "display_data",
     "data": {
      "text/plain": "HBox(children=(HTML(value=''), FloatProgress(value=0.0, max=25839.0), HTML(value='')))",
      "application/vnd.jupyter.widget-view+json": {
       "version_major": 2,
       "version_minor": 0,
       "model_id": "635b77241ecc4cc884a145aacf30ba10"
      }
     },
     "metadata": {}
    },
    {
     "output_type": "stream",
     "name": "stdout",
     "text": [
      "\n",
      "2017-07-25 11:15:19+00:00\n",
      "===================================\n",
      "Printing the timestamp for S11\n",
      "===================================\n",
      "2017-07-25 11:33:01\n",
      "===================================\n",
      "Printing the timestamp for S11\n",
      "===================================\n",
      "   # ORDER   Base   TSST  Medi 1    Fun  Medi 2  bRead  sRead  fRead\n",
      "0  # START   2.23  32.45   60.30  69.27   79.09  22.55  48.00  76.28\n",
      "1    # END  22.23  44.25   67.25  75.55   86.05  24.05  49.12  77.38\n",
      "\n",
      "Start of the baseline: 2.23\n",
      "End of the baseline: 22.23\n",
      "Start of the fun: 69.27\n",
      "End of the fun: 75.55\n",
      "Start of the stress: 32.45\n",
      "End of the stress: 44.25\n",
      "mode # ORDER\n",
      "mode Base\n",
      "mode TSST\n",
      "mode Medi 1\n",
      "mode Fun\n",
      "mode Medi 2\n",
      "mode bRead\n",
      "mode sRead\n",
      "mode fRead\n",
      "project_data/WESAD/S13/S13_readme.txt\n",
      "S13\n",
      "project_data/WESAD/S13/S13_E4_Data.zip\n",
      "Reading files\n",
      "Calculating HRV features\n",
      "Cleaning data...\n",
      "Calculate td features\n"
     ]
    },
    {
     "output_type": "display_data",
     "data": {
      "text/plain": "HBox(children=(HTML(value=''), FloatProgress(value=0.0, max=2732.0), HTML(value='')))",
      "application/vnd.jupyter.widget-view+json": {
       "version_major": 2,
       "version_minor": 0,
       "model_id": "a4f2becb5170448eb2b779b6c05a8214"
      }
     },
     "metadata": {}
    },
    {
     "output_type": "stream",
     "name": "stdout",
     "text": [
      "\n",
      "Calculate fd features\n"
     ]
    },
    {
     "output_type": "display_data",
     "data": {
      "text/plain": "HBox(children=(HTML(value=''), FloatProgress(value=0.0, max=2732.0), HTML(value='')))",
      "application/vnd.jupyter.widget-view+json": {
       "version_major": 2,
       "version_minor": 0,
       "model_id": "492d5f9991ff4e5c804719d0eea5efa3"
      }
     },
     "metadata": {}
    },
    {
     "output_type": "stream",
     "name": "stdout",
     "text": [
      "\n",
      "Calculate stat features\n"
     ]
    },
    {
     "output_type": "display_data",
     "data": {
      "text/plain": "HBox(children=(HTML(value=''), FloatProgress(value=0.0, max=2732.0), HTML(value='')))",
      "application/vnd.jupyter.widget-view+json": {
       "version_major": 2,
       "version_minor": 0,
       "model_id": "a8134d54e06648ba957170a4f377f6a4"
      }
     },
     "metadata": {}
    },
    {
     "output_type": "stream",
     "name": "stdout",
     "text": [
      "\n",
      "Calculating EDA features\n"
     ]
    },
    {
     "output_type": "display_data",
     "data": {
      "text/plain": "HBox(children=(HTML(value='EDA features'), FloatProgress(value=0.0, max=27449.0), HTML(value='')))",
      "application/vnd.jupyter.widget-view+json": {
       "version_major": 2,
       "version_minor": 0,
       "model_id": "b71f42b432334d64a08cfa5852c7a230"
      }
     },
     "metadata": {}
    },
    {
     "output_type": "stream",
     "name": "stdout",
     "text": [
      "\n",
      "Calculating ACC features\n"
     ]
    },
    {
     "output_type": "display_data",
     "data": {
      "text/plain": "HBox(children=(HTML(value=''), FloatProgress(value=0.0, max=27451.0), HTML(value='')))",
      "application/vnd.jupyter.widget-view+json": {
       "version_major": 2,
       "version_minor": 0,
       "model_id": "113fe42978ad41b0b6566a3e86965939"
      }
     },
     "metadata": {}
    },
    {
     "output_type": "stream",
     "name": "stdout",
     "text": [
      "\n",
      "Calculating BVP features\n"
     ]
    },
    {
     "output_type": "display_data",
     "data": {
      "text/plain": "HBox(children=(HTML(value=''), FloatProgress(value=0.0, max=27451.0), HTML(value='')))",
      "application/vnd.jupyter.widget-view+json": {
       "version_major": 2,
       "version_minor": 0,
       "model_id": "ea3c64e4e1a840bc8c4ea2e0e2dcf145"
      }
     },
     "metadata": {}
    },
    {
     "output_type": "stream",
     "name": "stdout",
     "text": [
      "\n",
      "Calculating temperature features\n"
     ]
    },
    {
     "output_type": "display_data",
     "data": {
      "text/plain": "HBox(children=(HTML(value=''), FloatProgress(value=0.0, max=27447.0), HTML(value='')))",
      "application/vnd.jupyter.widget-view+json": {
       "version_major": 2,
       "version_minor": 0,
       "model_id": "1dc89307618b49c598c31d3ba8480251"
      }
     },
     "metadata": {}
    },
    {
     "output_type": "stream",
     "name": "stdout",
     "text": [
      "\n",
      "2017-08-08 11:14:07+00:00\n",
      "===================================\n",
      "Printing the timestamp for S13\n",
      "===================================\n",
      "2017-08-08 11:33:01\n",
      "===================================\n",
      "Printing the timestamp for S13\n",
      "===================================\n",
      "   # ORDER   Base    Fun  Medi 1   TSST  Medi 2  bRead  fRead  sRead\n",
      "0  # START   2.28  28.44   40.07  55.21   83.28  22.53   36.2  71.30\n",
      "1    # END  22.28  35.26   47.05  66.45   90.25  24.02   37.0  72.38\n",
      "\n",
      "Start of the baseline: 2.28\n",
      "End of the baseline: 22.28\n",
      "Start of the fun: 28.44\n",
      "End of the fun: 35.26\n",
      "Start of the stress: 55.21\n",
      "End of the stress: 66.45\n",
      "mode # ORDER\n",
      "mode Base\n",
      "mode Fun\n",
      "mode Medi 1\n",
      "mode TSST\n",
      "mode Medi 2\n",
      "mode bRead\n",
      "mode fRead\n",
      "mode sRead\n",
      "project_data/WESAD/S14/S14_readme.txt\n",
      "S14\n",
      "project_data/WESAD/S14/S14_E4_Data.zip\n",
      "Reading files\n",
      "Calculating HRV features\n",
      "Cleaning data...\n",
      "Calculate td features\n"
     ]
    },
    {
     "output_type": "display_data",
     "data": {
      "text/plain": "HBox(children=(HTML(value=''), FloatProgress(value=0.0, max=4820.0), HTML(value='')))",
      "application/vnd.jupyter.widget-view+json": {
       "version_major": 2,
       "version_minor": 0,
       "model_id": "fe26f6812b03442d8b69a91414eef7ad"
      }
     },
     "metadata": {}
    },
    {
     "output_type": "stream",
     "name": "stdout",
     "text": [
      "\n",
      "Calculate fd features\n"
     ]
    },
    {
     "output_type": "display_data",
     "data": {
      "text/plain": "HBox(children=(HTML(value=''), FloatProgress(value=0.0, max=4820.0), HTML(value='')))",
      "application/vnd.jupyter.widget-view+json": {
       "version_major": 2,
       "version_minor": 0,
       "model_id": "c15f100f36a14645a744518e62561475"
      }
     },
     "metadata": {}
    },
    {
     "output_type": "stream",
     "name": "stdout",
     "text": [
      "\n",
      "Calculate stat features\n"
     ]
    },
    {
     "output_type": "display_data",
     "data": {
      "text/plain": "HBox(children=(HTML(value=''), FloatProgress(value=0.0, max=4820.0), HTML(value='')))",
      "application/vnd.jupyter.widget-view+json": {
       "version_major": 2,
       "version_minor": 0,
       "model_id": "a355b7df9e8b4fc3b1ce89f82d87e222"
      }
     },
     "metadata": {}
    },
    {
     "output_type": "stream",
     "name": "stdout",
     "text": [
      "\n",
      "Calculating EDA features\n"
     ]
    },
    {
     "output_type": "display_data",
     "data": {
      "text/plain": "HBox(children=(HTML(value='EDA features'), FloatProgress(value=0.0, max=27941.0), HTML(value='')))",
      "application/vnd.jupyter.widget-view+json": {
       "version_major": 2,
       "version_minor": 0,
       "model_id": "57c12b9415fe4c3590847d86106dbfcc"
      }
     },
     "metadata": {}
    },
    {
     "output_type": "stream",
     "name": "stdout",
     "text": [
      "\n",
      "Calculating ACC features\n"
     ]
    },
    {
     "output_type": "display_data",
     "data": {
      "text/plain": "HBox(children=(HTML(value=''), FloatProgress(value=0.0, max=27945.0), HTML(value='')))",
      "application/vnd.jupyter.widget-view+json": {
       "version_major": 2,
       "version_minor": 0,
       "model_id": "afedffb9c9ed43bebec8d3ccedc41d91"
      }
     },
     "metadata": {}
    },
    {
     "output_type": "stream",
     "name": "stdout",
     "text": [
      "\n",
      "Calculating BVP features\n"
     ]
    },
    {
     "output_type": "display_data",
     "data": {
      "text/plain": "HBox(children=(HTML(value=''), FloatProgress(value=0.0, max=27946.0), HTML(value='')))",
      "application/vnd.jupyter.widget-view+json": {
       "version_major": 2,
       "version_minor": 0,
       "model_id": "ac84f666bc954b429bd432be144a7787"
      }
     },
     "metadata": {}
    },
    {
     "output_type": "stream",
     "name": "stdout",
     "text": [
      "\n",
      "Calculating temperature features\n"
     ]
    },
    {
     "output_type": "display_data",
     "data": {
      "text/plain": "HBox(children=(HTML(value=''), FloatProgress(value=0.0, max=27943.0), HTML(value='')))",
      "application/vnd.jupyter.widget-view+json": {
       "version_major": 2,
       "version_minor": 0,
       "model_id": "bb8fa0065f5c4aac96166f64816d1750"
      }
     },
     "metadata": {}
    },
    {
     "output_type": "stream",
     "name": "stdout",
     "text": [
      "\n",
      "2017-08-09 07:10:31+00:00\n",
      "===================================\n",
      "Printing the timestamp for S14\n",
      "===================================\n",
      "2017-08-09 07:31:01\n",
      "===================================\n",
      "Printing the timestamp for S14\n",
      "===================================\n",
      "   # ORDER  Base   TSST  Medi 2    Fun  Medi 1  bRead  sRead  fRead\n",
      "0  # START   2.0  33.18   62.22  73.24   84.29  22.14  49.47  80.36\n",
      "1    # END  22.0  44.53   69.19  79.56   91.26  23.37  51.02  81.50\n",
      "\n",
      "Start of the baseline: 2.0\n",
      "End of the baseline: 22.0\n",
      "Start of the fun: 73.24\n",
      "End of the fun: 79.56\n",
      "Start of the stress: 33.18\n",
      "End of the stress: 44.53\n",
      "mode # ORDER\n",
      "mode Base\n",
      "mode TSST\n",
      "mode Medi 2\n",
      "mode Fun\n",
      "mode Medi 1\n",
      "mode bRead\n",
      "mode sRead\n",
      "mode fRead\n",
      "project_data/WESAD/S15/S15_readme.txt\n",
      "S15\n",
      "project_data/WESAD/S15/S15_E4_Data.zip\n",
      "Reading files\n",
      "Calculating HRV features\n",
      "Cleaning data...\n",
      "Calculate td features\n"
     ]
    },
    {
     "output_type": "display_data",
     "data": {
      "text/plain": "HBox(children=(HTML(value=''), FloatProgress(value=0.0, max=3308.0), HTML(value='')))",
      "application/vnd.jupyter.widget-view+json": {
       "version_major": 2,
       "version_minor": 0,
       "model_id": "a4e2584888484279a872bf2235de18ad"
      }
     },
     "metadata": {}
    },
    {
     "output_type": "stream",
     "name": "stdout",
     "text": [
      "\n",
      "Calculate fd features\n"
     ]
    },
    {
     "output_type": "display_data",
     "data": {
      "text/plain": "HBox(children=(HTML(value=''), FloatProgress(value=0.0, max=3308.0), HTML(value='')))",
      "application/vnd.jupyter.widget-view+json": {
       "version_major": 2,
       "version_minor": 0,
       "model_id": "e1a7379711d745b880f5156618bd2346"
      }
     },
     "metadata": {}
    },
    {
     "output_type": "stream",
     "name": "stdout",
     "text": [
      "\n",
      "Calculate stat features\n"
     ]
    },
    {
     "output_type": "display_data",
     "data": {
      "text/plain": "HBox(children=(HTML(value=''), FloatProgress(value=0.0, max=3308.0), HTML(value='')))",
      "application/vnd.jupyter.widget-view+json": {
       "version_major": 2,
       "version_minor": 0,
       "model_id": "b0d1a62ba1d7403d97382cff93e01dd5"
      }
     },
     "metadata": {}
    },
    {
     "output_type": "stream",
     "name": "stdout",
     "text": [
      "\n",
      "Calculating EDA features\n"
     ]
    },
    {
     "output_type": "display_data",
     "data": {
      "text/plain": "HBox(children=(HTML(value='EDA features'), FloatProgress(value=0.0, max=26567.0), HTML(value='')))",
      "application/vnd.jupyter.widget-view+json": {
       "version_major": 2,
       "version_minor": 0,
       "model_id": "28a88f8c74534568914b02e5c5738be5"
      }
     },
     "metadata": {}
    },
    {
     "output_type": "stream",
     "name": "stdout",
     "text": [
      "\n",
      "Calculating ACC features\n"
     ]
    },
    {
     "output_type": "display_data",
     "data": {
      "text/plain": "HBox(children=(HTML(value=''), FloatProgress(value=0.0, max=26571.0), HTML(value='')))",
      "application/vnd.jupyter.widget-view+json": {
       "version_major": 2,
       "version_minor": 0,
       "model_id": "c226d2e164454f269d2119614a629b0c"
      }
     },
     "metadata": {}
    },
    {
     "output_type": "stream",
     "name": "stdout",
     "text": [
      "\n",
      "Calculating BVP features\n"
     ]
    },
    {
     "output_type": "display_data",
     "data": {
      "text/plain": "HBox(children=(HTML(value=''), FloatProgress(value=0.0, max=26572.0), HTML(value='')))",
      "application/vnd.jupyter.widget-view+json": {
       "version_major": 2,
       "version_minor": 0,
       "model_id": "0772afe2f01e482ead9627e0f732bae7"
      }
     },
     "metadata": {}
    },
    {
     "output_type": "stream",
     "name": "stdout",
     "text": [
      "\n",
      "Calculating temperature features\n"
     ]
    },
    {
     "output_type": "display_data",
     "data": {
      "text/plain": "HBox(children=(HTML(value=''), FloatProgress(value=0.0, max=26567.0), HTML(value='')))",
      "application/vnd.jupyter.widget-view+json": {
       "version_major": 2,
       "version_minor": 0,
       "model_id": "06880fe3ab824052be189e4c15d5d671"
      }
     },
     "metadata": {}
    },
    {
     "output_type": "stream",
     "name": "stdout",
     "text": [
      "\n",
      "2017-08-10 07:11:56+00:00\n",
      "===================================\n",
      "Printing the timestamp for S15\n",
      "===================================\n",
      "2017-08-10 07:30:01\n",
      "===================================\n",
      "Printing the timestamp for S15\n",
      "===================================\n",
      "   # ORDER   Base    Fun  Medi 1   TSST  Medi 2  bRead  fRead  sRead\n",
      "0  # START   4.25  29.26   40.11  54.14   80.38   24.5  36.27  68.43\n",
      "1    # END  24.20  35.58   47.08  66.00   87.35   26.0  37.33  69.50\n",
      "\n",
      "Start of the baseline: 4.25\n",
      "End of the baseline: 24.2\n",
      "Start of the fun: 29.26\n",
      "End of the fun: 35.58\n",
      "Start of the stress: 54.14\n",
      "End of the stress: 66.0\n",
      "mode # ORDER\n",
      "mode Base\n",
      "mode Fun\n",
      "mode Medi 1\n",
      "mode TSST\n",
      "mode Medi 2\n",
      "mode bRead\n",
      "mode fRead\n",
      "mode sRead\n",
      "project_data/WESAD/S16/S16_readme.txt\n",
      "S16\n",
      "project_data/WESAD/S16/S16_E4_Data.zip\n",
      "Reading files\n",
      "Calculating HRV features\n",
      "Cleaning data...\n",
      "Calculate td features\n"
     ]
    },
    {
     "output_type": "display_data",
     "data": {
      "text/plain": "HBox(children=(HTML(value=''), FloatProgress(value=0.0, max=3743.0), HTML(value='')))",
      "application/vnd.jupyter.widget-view+json": {
       "version_major": 2,
       "version_minor": 0,
       "model_id": "f83cbba30ad24c0caf1375e36cddaf32"
      }
     },
     "metadata": {}
    },
    {
     "output_type": "stream",
     "name": "stdout",
     "text": [
      "\n",
      "Calculate fd features\n"
     ]
    },
    {
     "output_type": "display_data",
     "data": {
      "text/plain": "HBox(children=(HTML(value=''), FloatProgress(value=0.0, max=3743.0), HTML(value='')))",
      "application/vnd.jupyter.widget-view+json": {
       "version_major": 2,
       "version_minor": 0,
       "model_id": "814881bd0eea439da10cdb6e9e22d7be"
      }
     },
     "metadata": {}
    },
    {
     "output_type": "stream",
     "name": "stdout",
     "text": [
      "\n",
      "Calculate stat features\n"
     ]
    },
    {
     "output_type": "display_data",
     "data": {
      "text/plain": "HBox(children=(HTML(value=''), FloatProgress(value=0.0, max=3743.0), HTML(value='')))",
      "application/vnd.jupyter.widget-view+json": {
       "version_major": 2,
       "version_minor": 0,
       "model_id": "5c4fbb74633442fd90e469553afd35cf"
      }
     },
     "metadata": {}
    },
    {
     "output_type": "stream",
     "name": "stdout",
     "text": [
      "\n",
      "Calculating EDA features\n"
     ]
    },
    {
     "output_type": "display_data",
     "data": {
      "text/plain": "HBox(children=(HTML(value='EDA features'), FloatProgress(value=0.0, max=28427.0), HTML(value='')))",
      "application/vnd.jupyter.widget-view+json": {
       "version_major": 2,
       "version_minor": 0,
       "model_id": "a1cd8d8b21164577a71a29d0e9525a60"
      }
     },
     "metadata": {}
    },
    {
     "output_type": "stream",
     "name": "stdout",
     "text": [
      "\n",
      "Calculating ACC features\n"
     ]
    },
    {
     "output_type": "display_data",
     "data": {
      "text/plain": "HBox(children=(HTML(value=''), FloatProgress(value=0.0, max=28429.0), HTML(value='')))",
      "application/vnd.jupyter.widget-view+json": {
       "version_major": 2,
       "version_minor": 0,
       "model_id": "da4e36d50ea243a3baa6942844445f5c"
      }
     },
     "metadata": {}
    },
    {
     "output_type": "stream",
     "name": "stdout",
     "text": [
      "\n",
      "Calculating BVP features\n"
     ]
    },
    {
     "output_type": "display_data",
     "data": {
      "text/plain": "HBox(children=(HTML(value=''), FloatProgress(value=0.0, max=28429.0), HTML(value='')))",
      "application/vnd.jupyter.widget-view+json": {
       "version_major": 2,
       "version_minor": 0,
       "model_id": "9598413a67b14698a67baf5d50904342"
      }
     },
     "metadata": {}
    },
    {
     "output_type": "stream",
     "name": "stdout",
     "text": [
      "\n",
      "Calculating temperature features\n"
     ]
    },
    {
     "output_type": "display_data",
     "data": {
      "text/plain": "HBox(children=(HTML(value=''), FloatProgress(value=0.0, max=28423.0), HTML(value='')))",
      "application/vnd.jupyter.widget-view+json": {
       "version_major": 2,
       "version_minor": 0,
       "model_id": "34caf37d2b1e46e98089c1fc5aad80a5"
      }
     },
     "metadata": {}
    },
    {
     "output_type": "stream",
     "name": "stdout",
     "text": [
      "\n",
      "2017-08-10 12:00:25+00:00\n",
      "===================================\n",
      "Printing the timestamp for S16\n",
      "===================================\n",
      "2017-08-10 12:21:01\n",
      "===================================\n",
      "Printing the timestamp for S16\n",
      "===================================\n",
      "   # ORDER  Base   TSST  Medi 1    Fun  Medi 2  bRead  sRead  fRead\n",
      "0  # START   3.0  34.30   63.15  73.22   84.56  23.28  50.36  80.30\n",
      "1    # END  23.0  46.03   70.10  79.50   91.53  24.43  51.53  81.43\n",
      "\n",
      "Start of the baseline: 3.0\n",
      "End of the baseline: 23.0\n",
      "Start of the fun: 73.22\n",
      "End of the fun: 79.5\n",
      "Start of the stress: 34.3\n",
      "End of the stress: 46.03\n",
      "mode # ORDER\n",
      "mode Base\n",
      "mode TSST\n",
      "mode Medi 1\n",
      "mode Fun\n",
      "mode Medi 2\n",
      "mode bRead\n",
      "mode sRead\n",
      "mode fRead\n",
      "project_data/WESAD/S17/S17_readme.txt\n",
      "S17\n",
      "project_data/WESAD/S17/S17_E4_Data.zip\n",
      "Reading files\n",
      "Calculating HRV features\n",
      "Cleaning data...\n",
      "Calculate td features\n"
     ]
    },
    {
     "output_type": "display_data",
     "data": {
      "text/plain": "HBox(children=(HTML(value=''), FloatProgress(value=0.0, max=1951.0), HTML(value='')))",
      "application/vnd.jupyter.widget-view+json": {
       "version_major": 2,
       "version_minor": 0,
       "model_id": "14e0a3540fa349168c2f89624213aece"
      }
     },
     "metadata": {}
    },
    {
     "output_type": "stream",
     "name": "stdout",
     "text": [
      "\n",
      "Calculate fd features\n"
     ]
    },
    {
     "output_type": "display_data",
     "data": {
      "text/plain": "HBox(children=(HTML(value=''), FloatProgress(value=0.0, max=1951.0), HTML(value='')))",
      "application/vnd.jupyter.widget-view+json": {
       "version_major": 2,
       "version_minor": 0,
       "model_id": "6de0fe68942341e1bfb49e9f90dad1c0"
      }
     },
     "metadata": {}
    },
    {
     "output_type": "stream",
     "name": "stdout",
     "text": [
      "\n",
      "Calculate stat features\n"
     ]
    },
    {
     "output_type": "display_data",
     "data": {
      "text/plain": "HBox(children=(HTML(value=''), FloatProgress(value=0.0, max=1951.0), HTML(value='')))",
      "application/vnd.jupyter.widget-view+json": {
       "version_major": 2,
       "version_minor": 0,
       "model_id": "8450b58edc76435e8a012afe7284933f"
      }
     },
     "metadata": {}
    },
    {
     "output_type": "stream",
     "name": "stdout",
     "text": [
      "\n",
      "Calculating EDA features\n"
     ]
    },
    {
     "output_type": "display_data",
     "data": {
      "text/plain": "HBox(children=(HTML(value='EDA features'), FloatProgress(value=0.0, max=28925.0), HTML(value='')))",
      "application/vnd.jupyter.widget-view+json": {
       "version_major": 2,
       "version_minor": 0,
       "model_id": "efd9b8d03b5a476782b2bce12c1626c3"
      }
     },
     "metadata": {}
    },
    {
     "output_type": "stream",
     "name": "stdout",
     "text": [
      "\n",
      "Calculating ACC features\n"
     ]
    },
    {
     "output_type": "display_data",
     "data": {
      "text/plain": "HBox(children=(HTML(value=''), FloatProgress(value=0.0, max=28927.0), HTML(value='')))",
      "application/vnd.jupyter.widget-view+json": {
       "version_major": 2,
       "version_minor": 0,
       "model_id": "3c88cd1e957340259b84771a9854682f"
      }
     },
     "metadata": {}
    },
    {
     "output_type": "stream",
     "name": "stdout",
     "text": [
      "\n",
      "Calculating BVP features\n"
     ]
    },
    {
     "output_type": "display_data",
     "data": {
      "text/plain": "HBox(children=(HTML(value=''), FloatProgress(value=0.0, max=28927.0), HTML(value='')))",
      "application/vnd.jupyter.widget-view+json": {
       "version_major": 2,
       "version_minor": 0,
       "model_id": "8f0247cb25074952a21bfc09810c2f47"
      }
     },
     "metadata": {}
    },
    {
     "output_type": "stream",
     "name": "stdout",
     "text": [
      "\n",
      "Calculating temperature features\n"
     ]
    },
    {
     "output_type": "display_data",
     "data": {
      "text/plain": "HBox(children=(HTML(value=''), FloatProgress(value=0.0, max=28919.0), HTML(value='')))",
      "application/vnd.jupyter.widget-view+json": {
       "version_major": 2,
       "version_minor": 0,
       "model_id": "6c4db41546b7434184a98017b042f8d5"
      }
     },
     "metadata": {}
    },
    {
     "output_type": "stream",
     "name": "stdout",
     "text": [
      "\n",
      "2017-08-11 07:20:22+00:00\n",
      "===================================\n",
      "Printing the timestamp for S17\n",
      "===================================\n",
      "2017-08-11 07:39:01\n",
      "===================================\n",
      "Printing the timestamp for S17\n",
      "===================================\n",
      "   # ORDER   Base    Fun  Medi 1   TSST  Medi 2  bRead  fRead  sRead\n",
      "0  # START   3.02  30.30   43.53  60.02   89.09  23.37  38.02  77.02\n",
      "1    # END  23.03  37.02   49.50  72.25   96.03  24.55  39.19  78.21\n",
      "\n",
      "Start of the baseline: 3.02\n",
      "End of the baseline: 23.03\n",
      "Start of the fun: 30.3\n",
      "End of the fun: 37.02\n",
      "Start of the stress: 60.02\n",
      "End of the stress: 72.25\n",
      "mode # ORDER\n",
      "mode Base\n",
      "mode Fun\n",
      "mode Medi 1\n",
      "mode TSST\n",
      "mode Medi 2\n",
      "mode bRead\n",
      "mode fRead\n",
      "mode sRead\n",
      "project_data/WESAD/S2/S2_readme.txt\n",
      "S2\n",
      "project_data/WESAD/S2/S2_E4_Data.zip\n",
      "Reading files\n",
      "Calculating HRV features\n",
      "Cleaning data...\n",
      "Calculate td features\n"
     ]
    },
    {
     "output_type": "display_data",
     "data": {
      "text/plain": "HBox(children=(HTML(value=''), FloatProgress(value=0.0, max=3314.0), HTML(value='')))",
      "application/vnd.jupyter.widget-view+json": {
       "version_major": 2,
       "version_minor": 0,
       "model_id": "12e5c4f762cc47a9aafb0095c2bd18e9"
      }
     },
     "metadata": {}
    },
    {
     "output_type": "stream",
     "name": "stdout",
     "text": [
      "\n",
      "Calculate fd features\n"
     ]
    },
    {
     "output_type": "display_data",
     "data": {
      "text/plain": "HBox(children=(HTML(value=''), FloatProgress(value=0.0, max=3314.0), HTML(value='')))",
      "application/vnd.jupyter.widget-view+json": {
       "version_major": 2,
       "version_minor": 0,
       "model_id": "f40fdc00225a4d1db0d62ca7a3980fe5"
      }
     },
     "metadata": {}
    },
    {
     "output_type": "stream",
     "name": "stdout",
     "text": [
      "\n",
      "Calculate stat features\n"
     ]
    },
    {
     "output_type": "display_data",
     "data": {
      "text/plain": "HBox(children=(HTML(value=''), FloatProgress(value=0.0, max=3314.0), HTML(value='')))",
      "application/vnd.jupyter.widget-view+json": {
       "version_major": 2,
       "version_minor": 0,
       "model_id": "9d12d78f287e425ca47915fd03ad65fb"
      }
     },
     "metadata": {}
    },
    {
     "output_type": "stream",
     "name": "stdout",
     "text": [
      "\n",
      "Calculating EDA features\n"
     ]
    },
    {
     "output_type": "display_data",
     "data": {
      "text/plain": "HBox(children=(HTML(value='EDA features'), FloatProgress(value=0.0, max=31493.0), HTML(value='')))",
      "application/vnd.jupyter.widget-view+json": {
       "version_major": 2,
       "version_minor": 0,
       "model_id": "57df3a34e95d4207abf22a674d9d478d"
      }
     },
     "metadata": {}
    },
    {
     "output_type": "stream",
     "name": "stdout",
     "text": [
      "\n",
      "Calculating ACC features\n"
     ]
    },
    {
     "output_type": "display_data",
     "data": {
      "text/plain": "HBox(children=(HTML(value=''), FloatProgress(value=0.0, max=31497.0), HTML(value='')))",
      "application/vnd.jupyter.widget-view+json": {
       "version_major": 2,
       "version_minor": 0,
       "model_id": "c6f7613e651e471c8ac4a0a26eb24427"
      }
     },
     "metadata": {}
    },
    {
     "output_type": "stream",
     "name": "stdout",
     "text": [
      "\n",
      "Calculating BVP features\n"
     ]
    },
    {
     "output_type": "display_data",
     "data": {
      "text/plain": "HBox(children=(HTML(value=''), FloatProgress(value=0.0, max=31497.0), HTML(value='')))",
      "application/vnd.jupyter.widget-view+json": {
       "version_major": 2,
       "version_minor": 0,
       "model_id": "555c39818971410b8c162f400bf673b1"
      }
     },
     "metadata": {}
    },
    {
     "output_type": "stream",
     "name": "stdout",
     "text": [
      "\n",
      "Calculating temperature features\n"
     ]
    },
    {
     "output_type": "display_data",
     "data": {
      "text/plain": "HBox(children=(HTML(value=''), FloatProgress(value=0.0, max=31495.0), HTML(value='')))",
      "application/vnd.jupyter.widget-view+json": {
       "version_major": 2,
       "version_minor": 0,
       "model_id": "19e1ecf9b9224c11ad7bbb82ba69d5f6"
      }
     },
     "metadata": {}
    },
    {
     "output_type": "stream",
     "name": "stdout",
     "text": [
      "\n",
      "2017-05-22 07:16:25+00:00\n",
      "===================================\n",
      "Printing the timestamp for S2\n",
      "===================================\n",
      "2017-05-22 07:39:01\n",
      "===================================\n",
      "Printing the timestamp for S2\n",
      "===================================\n",
      "   # ORDER   Base   TSST  Medi 1    Fun  Medi 2  sRead  fRead\n",
      "0  # START   7.08  39.55   70.19  81.25   93.38  54.42  89.51\n",
      "1    # END  26.32  50.30   77.10  87.47  100.15  56.07  91.15\n",
      "\n",
      "Start of the baseline: 7.08\n",
      "End of the baseline: 26.32\n",
      "Start of the fun: 81.25\n",
      "End of the fun: 87.47\n",
      "Start of the stress: 39.55\n",
      "End of the stress: 50.3\n",
      "mode # ORDER\n",
      "mode Base\n",
      "mode TSST\n",
      "mode Medi 1\n",
      "mode Fun\n",
      "mode Medi 2\n",
      "mode sRead\n",
      "mode fRead\n",
      "project_data/WESAD/S3/S3_readme.txt\n",
      "S3\n",
      "project_data/WESAD/S3/S3_E4_Data.zip\n",
      "Reading files\n",
      "Calculating HRV features\n",
      "Cleaning data...\n",
      "Calculate td features\n"
     ]
    },
    {
     "output_type": "display_data",
     "data": {
      "text/plain": "HBox(children=(HTML(value=''), FloatProgress(value=0.0, max=1751.0), HTML(value='')))",
      "application/vnd.jupyter.widget-view+json": {
       "version_major": 2,
       "version_minor": 0,
       "model_id": "f25f238370104ff88a5f5493a7ac2f25"
      }
     },
     "metadata": {}
    },
    {
     "output_type": "stream",
     "name": "stdout",
     "text": [
      "\n",
      "Calculate fd features\n"
     ]
    },
    {
     "output_type": "display_data",
     "data": {
      "text/plain": "HBox(children=(HTML(value=''), FloatProgress(value=0.0, max=1751.0), HTML(value='')))",
      "application/vnd.jupyter.widget-view+json": {
       "version_major": 2,
       "version_minor": 0,
       "model_id": "3b4592ac8f644262abd87f46c3e50cca"
      }
     },
     "metadata": {}
    },
    {
     "output_type": "stream",
     "name": "stdout",
     "text": [
      "\nCalculate stat features\n"
     ]
    },
    {
     "output_type": "display_data",
     "data": {
      "text/plain": "HBox(children=(HTML(value=''), FloatProgress(value=0.0, max=1751.0), HTML(value='')))",
      "application/vnd.jupyter.widget-view+json": {
       "version_major": 2,
       "version_minor": 0,
       "model_id": "cc5934cdf57340d5a13ea5fd59ea8b06"
      }
     },
     "metadata": {}
    },
    {
     "output_type": "stream",
     "name": "stdout",
     "text": [
      "\n",
      "Calculating EDA features\n"
     ]
    },
    {
     "output_type": "display_data",
     "data": {
      "text/plain": "HBox(children=(HTML(value='EDA features'), FloatProgress(value=0.0, max=30893.0), HTML(value='')))",
      "application/vnd.jupyter.widget-view+json": {
       "version_major": 2,
       "version_minor": 0,
       "model_id": "2f1e09fc643f4340a178ac10099c5d36"
      }
     },
     "metadata": {}
    },
    {
     "output_type": "stream",
     "name": "stdout",
     "text": [
      "\n",
      "Calculating ACC features\n"
     ]
    },
    {
     "output_type": "display_data",
     "data": {
      "text/plain": "HBox(children=(HTML(value=''), FloatProgress(value=0.0, max=30894.0), HTML(value='')))",
      "application/vnd.jupyter.widget-view+json": {
       "version_major": 2,
       "version_minor": 0,
       "model_id": "5eb975c291e54daeaaa0fbf5319d839a"
      }
     },
     "metadata": {}
    },
    {
     "output_type": "stream",
     "name": "stdout",
     "text": [
      "\n",
      "Calculating BVP features\n"
     ]
    },
    {
     "output_type": "display_data",
     "data": {
      "text/plain": "HBox(children=(HTML(value=''), FloatProgress(value=0.0, max=30895.0), HTML(value='')))",
      "application/vnd.jupyter.widget-view+json": {
       "version_major": 2,
       "version_minor": 0,
       "model_id": "e109bba6e9be478c8fc474fac713fdfa"
      }
     },
     "metadata": {}
    },
    {
     "output_type": "stream",
     "name": "stdout",
     "text": [
      "\n",
      "Calculating temperature features\n"
     ]
    },
    {
     "output_type": "display_data",
     "data": {
      "text/plain": "HBox(children=(HTML(value=''), FloatProgress(value=0.0, max=30887.0), HTML(value='')))",
      "application/vnd.jupyter.widget-view+json": {
       "version_major": 2,
       "version_minor": 0,
       "model_id": "401d82e0b5ca4ffbb355ab350f87a4b4"
      }
     },
     "metadata": {}
    },
    {
     "output_type": "stream",
     "name": "stdout",
     "text": [
      "\n",
      "2017-05-24 11:09:48+00:00\n",
      "===================================\n",
      "Printing the timestamp for S3\n",
      "===================================\n",
      "2017-05-24 11:26:01\n",
      "===================================\n",
      "Printing the timestamp for S3\n",
      "===================================\n",
      "   # ORDER   Base   TSST  Medi 1    Fun  Medi 2  bRead  sRead  fRead\n",
      "0  # START   6.44  38.15   72.28  84.15   97.49  26.27  54.04  93.15\n",
      "1    # END  26.04  49.15   79.30  90.50  104.27  28.00  55.31  94.42\n",
      "\n",
      "Start of the baseline: 6.44\n",
      "End of the baseline: 26.04\n",
      "Start of the fun: 84.15\n",
      "End of the fun: 90.5\n",
      "Start of the stress: 38.15\n",
      "End of the stress: 49.15\n",
      "mode # ORDER\n",
      "mode Base\n",
      "mode TSST\n",
      "mode Medi 1\n",
      "mode Fun\n",
      "mode Medi 2\n",
      "mode bRead\n",
      "mode sRead\n",
      "mode fRead\n",
      "project_data/WESAD/S4/S4_readme.txt\n",
      "S4\n",
      "project_data/WESAD/S4/S4_E4_Data.zip\n",
      "Reading files\n",
      "Calculating HRV features\n",
      "Cleaning data...\n",
      "Calculate td features\n"
     ]
    },
    {
     "output_type": "display_data",
     "data": {
      "text/plain": "HBox(children=(HTML(value=''), FloatProgress(value=0.0, max=3123.0), HTML(value='')))",
      "application/vnd.jupyter.widget-view+json": {
       "version_major": 2,
       "version_minor": 0,
       "model_id": "0e7fa0b301d74d44b0c987279f0923fd"
      }
     },
     "metadata": {}
    },
    {
     "output_type": "stream",
     "name": "stdout",
     "text": [
      "\n",
      "Calculate fd features\n"
     ]
    },
    {
     "output_type": "display_data",
     "data": {
      "text/plain": "HBox(children=(HTML(value=''), FloatProgress(value=0.0, max=3123.0), HTML(value='')))",
      "application/vnd.jupyter.widget-view+json": {
       "version_major": 2,
       "version_minor": 0,
       "model_id": "c3102228e196480aa4d9e6d8fe4854a4"
      }
     },
     "metadata": {}
    },
    {
     "output_type": "stream",
     "name": "stdout",
     "text": [
      "\n",
      "Calculate stat features\n"
     ]
    },
    {
     "output_type": "display_data",
     "data": {
      "text/plain": "HBox(children=(HTML(value=''), FloatProgress(value=0.0, max=3123.0), HTML(value='')))",
      "application/vnd.jupyter.widget-view+json": {
       "version_major": 2,
       "version_minor": 0,
       "model_id": "bf183503d7c64eb386b251fab556118c"
      }
     },
     "metadata": {}
    },
    {
     "output_type": "stream",
     "name": "stdout",
     "text": [
      "\n",
      "Calculating EDA features\n"
     ]
    },
    {
     "output_type": "display_data",
     "data": {
      "text/plain": "HBox(children=(HTML(value='EDA features'), FloatProgress(value=0.0, max=31997.0), HTML(value='')))",
      "application/vnd.jupyter.widget-view+json": {
       "version_major": 2,
       "version_minor": 0,
       "model_id": "5285fe4f734c42bbba5c30f9bd09a261"
      }
     },
     "metadata": {}
    },
    {
     "output_type": "stream",
     "name": "stdout",
     "text": [
      "\n",
      "Calculating ACC features\n"
     ]
    },
    {
     "output_type": "display_data",
     "data": {
      "text/plain": "HBox(children=(HTML(value=''), FloatProgress(value=0.0, max=31998.0), HTML(value='')))",
      "application/vnd.jupyter.widget-view+json": {
       "version_major": 2,
       "version_minor": 0,
       "model_id": "b1cbb4dfa87342fc93b042be7076c387"
      }
     },
     "metadata": {}
    },
    {
     "output_type": "stream",
     "name": "stdout",
     "text": [
      "\n",
      "Calculating BVP features\n"
     ]
    },
    {
     "output_type": "display_data",
     "data": {
      "text/plain": "HBox(children=(HTML(value=''), FloatProgress(value=0.0, max=31998.0), HTML(value='')))",
      "application/vnd.jupyter.widget-view+json": {
       "version_major": 2,
       "version_minor": 0,
       "model_id": "bc0263bb50da4f1a8a4c51f9ba4c732e"
      }
     },
     "metadata": {}
    },
    {
     "output_type": "stream",
     "name": "stdout",
     "text": [
      "\n",
      "Calculating temperature features\n"
     ]
    },
    {
     "output_type": "display_data",
     "data": {
      "text/plain": "HBox(children=(HTML(value=''), FloatProgress(value=0.0, max=31991.0), HTML(value='')))",
      "application/vnd.jupyter.widget-view+json": {
       "version_major": 2,
       "version_minor": 0,
       "model_id": "98b65a46af884c50b0cb2a6fa91df383"
      }
     },
     "metadata": {}
    },
    {
     "output_type": "stream",
     "name": "stdout",
     "text": [
      "\n",
      "2017-06-13 08:34:40+00:00\n",
      "===================================\n",
      "Printing the timestamp for S4\n",
      "===================================\n",
      "2017-06-13 08:57:01\n",
      "===================================\n",
      "Printing the timestamp for S4\n",
      "===================================\n",
      "   # ORDER   Base    Fun  Medi 1   TSST  Medi 2  bRead  fRead  sRead\n",
      "0  # START   5.52  31.39   45.52  61.20   95.43  25.55  41.55  76.00\n",
      "1    # END  25.30  38.11   53.00  72.15  102.40  27.06  43.07  77.04\n",
      "\n",
      "Start of the baseline: 5.52\n",
      "End of the baseline: 25.3\n",
      "Start of the fun: 31.39\n",
      "End of the fun: 38.11\n",
      "Start of the stress: 61.2\n",
      "End of the stress: 72.15\n",
      "mode # ORDER\n",
      "mode Base\n",
      "mode Fun\n",
      "mode Medi 1\n",
      "mode TSST\n",
      "mode Medi 2\n",
      "mode bRead\n",
      "mode fRead\n",
      "mode sRead\n",
      "project_data/WESAD/S5/S5_readme.txt\n",
      "S5\n",
      "project_data/WESAD/S5/S5_E4_Data.zip\n",
      "Reading files\n",
      "Calculating HRV features\n",
      "Cleaning data...\n",
      "Calculate td features\n"
     ]
    },
    {
     "output_type": "display_data",
     "data": {
      "text/plain": "HBox(children=(HTML(value=''), FloatProgress(value=0.0, max=1166.0), HTML(value='')))",
      "application/vnd.jupyter.widget-view+json": {
       "version_major": 2,
       "version_minor": 0,
       "model_id": "b43d9aecec434cb398707e8c8112e662"
      }
     },
     "metadata": {}
    },
    {
     "output_type": "stream",
     "name": "stdout",
     "text": [
      "\nCalculate fd features\n"
     ]
    },
    {
     "output_type": "display_data",
     "data": {
      "text/plain": "HBox(children=(HTML(value=''), FloatProgress(value=0.0, max=1166.0), HTML(value='')))",
      "application/vnd.jupyter.widget-view+json": {
       "version_major": 2,
       "version_minor": 0,
       "model_id": "e3b87fcf5643476285a7eadb2b6a8697"
      }
     },
     "metadata": {}
    },
    {
     "output_type": "stream",
     "name": "stdout",
     "text": [
      "\n",
      "Calculate stat features\n"
     ]
    },
    {
     "output_type": "display_data",
     "data": {
      "text/plain": "HBox(children=(HTML(value=''), FloatProgress(value=0.0, max=1166.0), HTML(value='')))",
      "application/vnd.jupyter.widget-view+json": {
       "version_major": 2,
       "version_minor": 0,
       "model_id": "53bb9b4c4afa4d5d9d6d924bf2e82526"
      }
     },
     "metadata": {}
    },
    {
     "output_type": "stream",
     "name": "stdout",
     "text": [
      "\n",
      "Calculating EDA features\n"
     ]
    },
    {
     "output_type": "display_data",
     "data": {
      "text/plain": "HBox(children=(HTML(value='EDA features'), FloatProgress(value=0.0, max=30203.0), HTML(value='')))",
      "application/vnd.jupyter.widget-view+json": {
       "version_major": 2,
       "version_minor": 0,
       "model_id": "a97231d1a63746d6a94e51acb7cd8c50"
      }
     },
     "metadata": {}
    },
    {
     "output_type": "stream",
     "name": "stdout",
     "text": [
      "\n",
      "Calculating ACC features\n"
     ]
    },
    {
     "output_type": "display_data",
     "data": {
      "text/plain": "HBox(children=(HTML(value=''), FloatProgress(value=0.0, max=30203.0), HTML(value='')))",
      "application/vnd.jupyter.widget-view+json": {
       "version_major": 2,
       "version_minor": 0,
       "model_id": "2852d4ddd11f4972838e1eb1a0bfee27"
      }
     },
     "metadata": {}
    },
    {
     "output_type": "stream",
     "name": "stdout",
     "text": [
      "\n",
      "Calculating BVP features\n"
     ]
    },
    {
     "output_type": "display_data",
     "data": {
      "text/plain": "HBox(children=(HTML(value=''), FloatProgress(value=0.0, max=30203.0), HTML(value='')))",
      "application/vnd.jupyter.widget-view+json": {
       "version_major": 2,
       "version_minor": 0,
       "model_id": "cd294d4bbace473b84d1ac6ca14139ff"
      }
     },
     "metadata": {}
    },
    {
     "output_type": "stream",
     "name": "stdout",
     "text": [
      "\n",
      "Calculating temperature features\n"
     ]
    },
    {
     "output_type": "display_data",
     "data": {
      "text/plain": "HBox(children=(HTML(value=''), FloatProgress(value=0.0, max=30199.0), HTML(value='')))",
      "application/vnd.jupyter.widget-view+json": {
       "version_major": 2,
       "version_minor": 0,
       "model_id": "b830899a32f54c82bd8ce268ff546f03"
      }
     },
     "metadata": {}
    },
    {
     "output_type": "stream",
     "name": "stdout",
     "text": [
      "\n",
      "2017-06-13 12:23:13+00:00\n",
      "===================================\n",
      "Printing the timestamp for S5\n",
      "===================================\n",
      "2017-06-13 12:42:01\n",
      "===================================\n",
      "Printing the timestamp for S5\n",
      "===================================\n",
      "   # ORDER   Base    Fun  Medi 1   TSST  Medi 2  bRead  fRead  sRead\n",
      "0  # START   5.37  32.00   45.43  61.00   92.15  26.15  41.15  75.28\n",
      "1    # END  25.55  38.34   52.40  72.05   99.12  27.47  42.45  76.32\n",
      "\n",
      "Start of the baseline: 5.37\n",
      "End of the baseline: 25.55\n",
      "Start of the fun: 32.0\n",
      "End of the fun: 38.34\n",
      "Start of the stress: 61.0\n",
      "End of the stress: 72.05\n",
      "mode # ORDER\n",
      "mode Base\n",
      "mode Fun\n",
      "mode Medi 1\n",
      "mode TSST\n",
      "mode Medi 2\n",
      "mode bRead\n",
      "mode fRead\n",
      "mode sRead\n",
      "project_data/WESAD/S6/S6_readme.txt\n",
      "S6\n",
      "project_data/WESAD/S6/S6_E4_Data.zip\n",
      "Reading files\n",
      "Calculating HRV features\n",
      "Cleaning data...\n",
      "Calculate td features\n"
     ]
    },
    {
     "output_type": "display_data",
     "data": {
      "text/plain": "HBox(children=(HTML(value=''), FloatProgress(value=0.0, max=2670.0), HTML(value='')))",
      "application/vnd.jupyter.widget-view+json": {
       "version_major": 2,
       "version_minor": 0,
       "model_id": "8f0496f125774eb39daa69641ea5c545"
      }
     },
     "metadata": {}
    },
    {
     "output_type": "stream",
     "name": "stdout",
     "text": [
      "\n",
      "Calculate fd features\n"
     ]
    },
    {
     "output_type": "display_data",
     "data": {
      "text/plain": "HBox(children=(HTML(value=''), FloatProgress(value=0.0, max=2670.0), HTML(value='')))",
      "application/vnd.jupyter.widget-view+json": {
       "version_major": 2,
       "version_minor": 0,
       "model_id": "51b4f809640644629575c05fe08283ef"
      }
     },
     "metadata": {}
    },
    {
     "output_type": "stream",
     "name": "stdout",
     "text": [
      "\n",
      "Calculate stat features\n"
     ]
    },
    {
     "output_type": "display_data",
     "data": {
      "text/plain": "HBox(children=(HTML(value=''), FloatProgress(value=0.0, max=2670.0), HTML(value='')))",
      "application/vnd.jupyter.widget-view+json": {
       "version_major": 2,
       "version_minor": 0,
       "model_id": "ccfa553d69d64ff8bc6042e94efacedf"
      }
     },
     "metadata": {}
    },
    {
     "output_type": "stream",
     "name": "stdout",
     "text": [
      "\n",
      "Calculating EDA features\n"
     ]
    },
    {
     "output_type": "display_data",
     "data": {
      "text/plain": "HBox(children=(HTML(value='EDA features'), FloatProgress(value=0.0, max=33293.0), HTML(value='')))",
      "application/vnd.jupyter.widget-view+json": {
       "version_major": 2,
       "version_minor": 0,
       "model_id": "00e97dd068384784a6e9b015e1e6209d"
      }
     },
     "metadata": {}
    },
    {
     "output_type": "stream",
     "name": "stdout",
     "text": [
      "\n",
      "Calculating ACC features\n"
     ]
    },
    {
     "output_type": "display_data",
     "data": {
      "text/plain": "HBox(children=(HTML(value=''), FloatProgress(value=0.0, max=33294.0), HTML(value='')))",
      "application/vnd.jupyter.widget-view+json": {
       "version_major": 2,
       "version_minor": 0,
       "model_id": "560c035179cd4dbea9f954626b686807"
      }
     },
     "metadata": {}
    },
    {
     "output_type": "stream",
     "name": "stdout",
     "text": [
      "\n",
      "Calculating BVP features\n"
     ]
    },
    {
     "output_type": "display_data",
     "data": {
      "text/plain": "HBox(children=(HTML(value=''), FloatProgress(value=0.0, max=33295.0), HTML(value='')))",
      "application/vnd.jupyter.widget-view+json": {
       "version_major": 2,
       "version_minor": 0,
       "model_id": "cbdeb9d709c94fc680c79f3b1f2ecb80"
      }
     },
     "metadata": {}
    },
    {
     "output_type": "stream",
     "name": "stdout",
     "text": [
      "\n",
      "Calculating temperature features\n"
     ]
    },
    {
     "output_type": "display_data",
     "data": {
      "text/plain": "HBox(children=(HTML(value=''), FloatProgress(value=0.0, max=33287.0), HTML(value='')))",
      "application/vnd.jupyter.widget-view+json": {
       "version_major": 2,
       "version_minor": 0,
       "model_id": "d073db5ebab545aa991dfd166e32477f"
      }
     },
     "metadata": {}
    },
    {
     "output_type": "stream",
     "name": "stdout",
     "text": [
      "\n",
      "2017-06-14 11:21:38+00:00\n",
      "===================================\n",
      "Printing the timestamp for S6\n",
      "===================================\n",
      "2017-06-14 11:40:01\n",
      "===================================\n",
      "Printing the timestamp for S6\n",
      "===================================\n",
      "   # ORDER   Base   TSST  Medi 1    Fun  Medi 2  bRead  sRead   fRead\n",
      "0  # START  11.17  41.15   75.54  93.05   109.0  31.35  56.12  104.36\n",
      "1    # END  31.17  52.25   82.51  99.37   115.5  32.53  57.22  106.05\n",
      "\n",
      "Start of the baseline: 11.17\n",
      "End of the baseline: 31.17\n",
      "Start of the fun: 93.05\n",
      "End of the fun: 99.37\n",
      "Start of the stress: 41.15\n",
      "End of the stress: 52.25\n",
      "mode # ORDER\n",
      "mode Base\n",
      "mode TSST\n",
      "mode Medi 1\n",
      "mode Fun\n",
      "mode Medi 2\n",
      "mode bRead\n",
      "mode sRead\n",
      "mode fRead\n",
      "project_data/WESAD/S7/S7_readme.txt\n",
      "S7\n",
      "project_data/WESAD/S7/S7_E4_Data.zip\n",
      "Reading files\n",
      "Calculating HRV features\n",
      "Cleaning data...\n",
      "Calculate td features\n"
     ]
    },
    {
     "output_type": "display_data",
     "data": {
      "text/plain": "HBox(children=(HTML(value=''), FloatProgress(value=0.0, max=2815.0), HTML(value='')))",
      "application/vnd.jupyter.widget-view+json": {
       "version_major": 2,
       "version_minor": 0,
       "model_id": "b6f3feefd2824a2c8a50bf4d186b4722"
      }
     },
     "metadata": {}
    },
    {
     "output_type": "stream",
     "name": "stdout",
     "text": [
      "\n",
      "Calculate fd features\n"
     ]
    },
    {
     "output_type": "display_data",
     "data": {
      "text/plain": "HBox(children=(HTML(value=''), FloatProgress(value=0.0, max=2815.0), HTML(value='')))",
      "application/vnd.jupyter.widget-view+json": {
       "version_major": 2,
       "version_minor": 0,
       "model_id": "4afc8f7fb7f641e3bac845eef0bfd638"
      }
     },
     "metadata": {}
    },
    {
     "output_type": "stream",
     "name": "stdout",
     "text": [
      "\n",
      "Calculate stat features\n"
     ]
    },
    {
     "output_type": "display_data",
     "data": {
      "text/plain": "HBox(children=(HTML(value=''), FloatProgress(value=0.0, max=2815.0), HTML(value='')))",
      "application/vnd.jupyter.widget-view+json": {
       "version_major": 2,
       "version_minor": 0,
       "model_id": "313e023acaf24263ba8225f3dcc9bdee"
      }
     },
     "metadata": {}
    },
    {
     "output_type": "stream",
     "name": "stdout",
     "text": [
      "\n",
      "Calculating EDA features\n"
     ]
    },
    {
     "output_type": "display_data",
     "data": {
      "text/plain": "HBox(children=(HTML(value='EDA features'), FloatProgress(value=0.0, max=25973.0), HTML(value='')))",
      "application/vnd.jupyter.widget-view+json": {
       "version_major": 2,
       "version_minor": 0,
       "model_id": "d90ebec6475c4e8e918358ca6638a8bd"
      }
     },
     "metadata": {}
    },
    {
     "output_type": "stream",
     "name": "stdout",
     "text": [
      "\n",
      "Calculating ACC features\n"
     ]
    },
    {
     "output_type": "display_data",
     "data": {
      "text/plain": "HBox(children=(HTML(value=''), FloatProgress(value=0.0, max=25978.0), HTML(value='')))",
      "application/vnd.jupyter.widget-view+json": {
       "version_major": 2,
       "version_minor": 0,
       "model_id": "8fa851e140414a8d88156e6df0b109f5"
      }
     },
     "metadata": {}
    },
    {
     "output_type": "stream",
     "name": "stdout",
     "text": [
      "\n",
      "Calculating BVP features\n"
     ]
    },
    {
     "output_type": "display_data",
     "data": {
      "text/plain": "HBox(children=(HTML(value=''), FloatProgress(value=0.0, max=25978.0), HTML(value='')))",
      "application/vnd.jupyter.widget-view+json": {
       "version_major": 2,
       "version_minor": 0,
       "model_id": "8da943ee8e26479696a89330f38208b7"
      }
     },
     "metadata": {}
    },
    {
     "output_type": "stream",
     "name": "stdout",
     "text": [
      "\n",
      "Calculating temperature features\n"
     ]
    },
    {
     "output_type": "display_data",
     "data": {
      "text/plain": "HBox(children=(HTML(value=''), FloatProgress(value=0.0, max=25975.0), HTML(value='')))",
      "application/vnd.jupyter.widget-view+json": {
       "version_major": 2,
       "version_minor": 0,
       "model_id": "f52aa3850bc34c83a728900953bb5431"
      }
     },
     "metadata": {}
    },
    {
     "output_type": "stream",
     "name": "stdout",
     "text": [
      "\n",
      "2017-07-06 11:12:04+00:00\n",
      "===================================\n",
      "Printing the timestamp for S7\n",
      "===================================\n",
      "2017-07-06 11:30:01\n",
      "===================================\n",
      "Printing the timestamp for S7\n",
      "===================================\n",
      "   # ORDER   Base    Fun  Medi 1  TSST  Medi 2  bRead  fRead  sRead\n",
      "0  # START   2.14  26.24   37.21  52.1   78.07  22.36  33.30  66.37\n",
      "1    # END  22.20  32.56   44.18  63.1   85.00  23.46  34.43  67.41\n",
      "\n",
      "Start of the baseline: 2.14\n",
      "End of the baseline: 22.2\n",
      "Start of the fun: 26.24\n",
      "End of the fun: 32.56\n",
      "Start of the stress: 52.1\n",
      "End of the stress: 63.1\n",
      "mode # ORDER\n",
      "mode Base\n",
      "mode Fun\n",
      "mode Medi 1\n",
      "mode TSST\n",
      "mode Medi 2\n",
      "mode bRead\n",
      "mode fRead\n",
      "mode sRead\n",
      "project_data/WESAD/S8/S8_readme.txt\n",
      "S8\n",
      "project_data/WESAD/S8/S8_E4_Data.zip\n",
      "Reading files\n",
      "Calculating HRV features\n",
      "Cleaning data...\n",
      "Calculate td features\n"
     ]
    },
    {
     "output_type": "display_data",
     "data": {
      "text/plain": "HBox(children=(HTML(value=''), FloatProgress(value=0.0, max=2254.0), HTML(value='')))",
      "application/vnd.jupyter.widget-view+json": {
       "version_major": 2,
       "version_minor": 0,
       "model_id": "bb8473defdce400ab9aa6888f292f9ee"
      }
     },
     "metadata": {}
    },
    {
     "output_type": "stream",
     "name": "stdout",
     "text": [
      "\n",
      "Calculate fd features\n"
     ]
    },
    {
     "output_type": "display_data",
     "data": {
      "text/plain": "HBox(children=(HTML(value=''), FloatProgress(value=0.0, max=2254.0), HTML(value='')))",
      "application/vnd.jupyter.widget-view+json": {
       "version_major": 2,
       "version_minor": 0,
       "model_id": "a9b086db54e74d81bc838ca7dd5c826c"
      }
     },
     "metadata": {}
    },
    {
     "output_type": "stream",
     "name": "stdout",
     "text": [
      "\n",
      "Calculate stat features\n"
     ]
    },
    {
     "output_type": "display_data",
     "data": {
      "text/plain": "HBox(children=(HTML(value=''), FloatProgress(value=0.0, max=2254.0), HTML(value='')))",
      "application/vnd.jupyter.widget-view+json": {
       "version_major": 2,
       "version_minor": 0,
       "model_id": "7bc37d7d55184d4a9011d090cfe8544b"
      }
     },
     "metadata": {}
    },
    {
     "output_type": "stream",
     "name": "stdout",
     "text": [
      "\n",
      "Calculating EDA features\n"
     ]
    },
    {
     "output_type": "display_data",
     "data": {
      "text/plain": "HBox(children=(HTML(value='EDA features'), FloatProgress(value=0.0, max=26549.0), HTML(value='')))",
      "application/vnd.jupyter.widget-view+json": {
       "version_major": 2,
       "version_minor": 0,
       "model_id": "c90167db6f5b48b6abf93e06898102b5"
      }
     },
     "metadata": {}
    },
    {
     "output_type": "stream",
     "name": "stdout",
     "text": [
      "\n",
      "Calculating ACC features\n"
     ]
    },
    {
     "output_type": "display_data",
     "data": {
      "text/plain": "HBox(children=(HTML(value=''), FloatProgress(value=0.0, max=26554.0), HTML(value='')))",
      "application/vnd.jupyter.widget-view+json": {
       "version_major": 2,
       "version_minor": 0,
       "model_id": "ed1eced4f29e48588683e635eaeadd6f"
      }
     },
     "metadata": {}
    },
    {
     "output_type": "stream",
     "name": "stdout",
     "text": [
      "\n",
      "Calculating BVP features\n"
     ]
    },
    {
     "output_type": "display_data",
     "data": {
      "text/plain": "HBox(children=(HTML(value=''), FloatProgress(value=0.0, max=26554.0), HTML(value='')))",
      "application/vnd.jupyter.widget-view+json": {
       "version_major": 2,
       "version_minor": 0,
       "model_id": "a706965d5fb445af9923c6eab79f7a4a"
      }
     },
     "metadata": {}
    },
    {
     "output_type": "stream",
     "name": "stdout",
     "text": [
      "\n",
      "Calculating temperature features\n"
     ]
    },
    {
     "output_type": "display_data",
     "data": {
      "text/plain": "HBox(children=(HTML(value=''), FloatProgress(value=0.0, max=26551.0), HTML(value='')))",
      "application/vnd.jupyter.widget-view+json": {
       "version_major": 2,
       "version_minor": 0,
       "model_id": "db43047df9504fa2a605401a6891ba28"
      }
     },
     "metadata": {}
    },
    {
     "output_type": "stream",
     "name": "stdout",
     "text": [
      "\n",
      "2017-07-10 11:11:40+00:00\n",
      "===================================\n",
      "Printing the timestamp for S8\n",
      "===================================\n",
      "2017-07-10 11:28:01\n",
      "===================================\n",
      "Printing the timestamp for S8\n",
      "===================================\n",
      "   # ORDER   Base   Fun  Medi 1  TSST  Medi 2  bRead  fRead  sRead\n",
      "0  # START   3.56  29.0   39.52  56.1   82.54  24.16  36.03  70.49\n",
      "1    # END  23.45  35.3   46.52  67.4   89.50  25.25  37.15  72.00\n",
      "\n",
      "Start of the baseline: 3.56\n",
      "End of the baseline: 23.45\n",
      "Start of the fun: 29.0\n",
      "End of the fun: 35.3\n",
      "Start of the stress: 56.1\n",
      "End of the stress: 67.4\n",
      "mode # ORDER\n",
      "mode Base\n",
      "mode Fun\n",
      "mode Medi 1\n",
      "mode TSST\n",
      "mode Medi 2\n",
      "mode bRead\n",
      "mode fRead\n",
      "mode sRead\n",
      "project_data/WESAD/S9/S9_readme.txt\n",
      "S9\n",
      "project_data/WESAD/S9/S9_E4_Data.zip\n",
      "Reading files\n",
      "Calculating HRV features\n",
      "Cleaning data...\n",
      "Calculate td features\n"
     ]
    },
    {
     "output_type": "display_data",
     "data": {
      "text/plain": "HBox(children=(HTML(value=''), FloatProgress(value=0.0, max=3212.0), HTML(value='')))",
      "application/vnd.jupyter.widget-view+json": {
       "version_major": 2,
       "version_minor": 0,
       "model_id": "eb1823f9c9034975ae36dfcf97a7abd7"
      }
     },
     "metadata": {}
    },
    {
     "output_type": "stream",
     "name": "stdout",
     "text": [
      "\n",
      "Calculate fd features\n"
     ]
    },
    {
     "output_type": "display_data",
     "data": {
      "text/plain": "HBox(children=(HTML(value=''), FloatProgress(value=0.0, max=3212.0), HTML(value='')))",
      "application/vnd.jupyter.widget-view+json": {
       "version_major": 2,
       "version_minor": 0,
       "model_id": "b3e4b78e0ef244d9bb062aef2231e932"
      }
     },
     "metadata": {}
    },
    {
     "output_type": "stream",
     "name": "stdout",
     "text": [
      "\nCalculate stat features\n"
     ]
    },
    {
     "output_type": "display_data",
     "data": {
      "text/plain": "HBox(children=(HTML(value=''), FloatProgress(value=0.0, max=3212.0), HTML(value='')))",
      "application/vnd.jupyter.widget-view+json": {
       "version_major": 2,
       "version_minor": 0,
       "model_id": "83cfc19b5f83408cbf883b375aa4c901"
      }
     },
     "metadata": {}
    },
    {
     "output_type": "stream",
     "name": "stdout",
     "text": [
      "\n",
      "Calculating EDA features\n"
     ]
    },
    {
     "output_type": "display_data",
     "data": {
      "text/plain": "HBox(children=(HTML(value='EDA features'), FloatProgress(value=0.0, max=24911.0), HTML(value='')))",
      "application/vnd.jupyter.widget-view+json": {
       "version_major": 2,
       "version_minor": 0,
       "model_id": "f5f906e508434706b34b73a7cccfdcfe"
      }
     },
     "metadata": {}
    },
    {
     "output_type": "stream",
     "name": "stdout",
     "text": [
      "\n",
      "Calculating ACC features\n"
     ]
    },
    {
     "output_type": "display_data",
     "data": {
      "text/plain": "HBox(children=(HTML(value=''), FloatProgress(value=0.0, max=24915.0), HTML(value='')))",
      "application/vnd.jupyter.widget-view+json": {
       "version_major": 2,
       "version_minor": 0,
       "model_id": "281e61c5fe144843a625b0c808ec7b56"
      }
     },
     "metadata": {}
    },
    {
     "output_type": "stream",
     "name": "stdout",
     "text": [
      "\n",
      "Calculating BVP features\n"
     ]
    },
    {
     "output_type": "display_data",
     "data": {
      "text/plain": "HBox(children=(HTML(value=''), FloatProgress(value=0.0, max=24915.0), HTML(value='')))",
      "application/vnd.jupyter.widget-view+json": {
       "version_major": 2,
       "version_minor": 0,
       "model_id": "da31f05f07e84582a03967827436ecd7"
      }
     },
     "metadata": {}
    },
    {
     "output_type": "stream",
     "name": "stdout",
     "text": [
      "\n",
      "Calculating temperature features\n"
     ]
    },
    {
     "output_type": "display_data",
     "data": {
      "text/plain": "HBox(children=(HTML(value=''), FloatProgress(value=0.0, max=24911.0), HTML(value='')))",
      "application/vnd.jupyter.widget-view+json": {
       "version_major": 2,
       "version_minor": 0,
       "model_id": "48aa125e443c4f83a1567e237be5e09a"
      }
     },
     "metadata": {}
    },
    {
     "output_type": "stream",
     "name": "stdout",
     "text": [
      "\n",
      "2017-07-11 11:11:41+00:00\n",
      "===================================\n",
      "Printing the timestamp for S9\n",
      "===================================\n",
      "2017-07-11 11:26:01\n",
      "===================================\n",
      "Printing the timestamp for S9\n",
      "===================================\n",
      "   # ORDER   Base   TSST  Medi 1    Fun  Medi 2  bRead  sRead  fRead\n",
      "0  # START   1.48  31.45   59.02  68.11   78.45  22.16  46.49   75.3\n",
      "1    # END  21.48  42.50   66.00  74.43   85.40  23.36  48.11   76.5\n",
      "\n",
      "Start of the baseline: 1.48\n",
      "End of the baseline: 21.48\n",
      "Start of the fun: 68.11\n",
      "End of the fun: 74.43\n",
      "Start of the stress: 31.45\n",
      "End of the stress: 42.5\n",
      "mode # ORDER\n",
      "mode Base\n",
      "mode TSST\n",
      "mode Medi 1\n",
      "mode Fun\n",
      "mode Medi 2\n",
      "mode bRead\n",
      "mode sRead\n",
      "mode fRead\n",
      "                                   ID  hrv_hrv_mean_nni  hrv_hrv_median_nni  \\\n",
      "timedata                                                                      \n",
      "2017-07-25 07:27:06+00:00         S10        638.976476          632.251877   \n",
      "2017-07-25 07:27:06.250000+00:00  S10        639.185703          632.785956   \n",
      "2017-07-25 07:27:06.500000+00:00  S10        639.971309          635.787627   \n",
      "2017-07-25 07:27:06.750000+00:00  S10        640.823815          639.075718   \n",
      "2017-07-25 07:27:07+00:00         S10        641.424154          640.654000   \n",
      "...                               ...               ...                 ...   \n",
      "2017-07-11 12:40:43+00:00          S9        695.187414          687.531000   \n",
      "2017-07-11 12:40:43.250000+00:00   S9        695.138053          687.531000   \n",
      "2017-07-11 12:40:43.500000+00:00   S9        695.088692          687.531000   \n",
      "2017-07-11 12:40:43.750000+00:00   S9        694.983087          687.531000   \n",
      "2017-07-11 12:40:44+00:00          S9        694.826389          687.531000   \n",
      "\n",
      "                                  hrv_hrv_range_nni  hrv_hrv_sdsd  \\\n",
      "timedata                                                            \n",
      "2017-07-25 07:27:06+00:00                   218.760     37.361875   \n",
      "2017-07-25 07:27:06.250000+00:00            218.760     37.463529   \n",
      "2017-07-25 07:27:06.500000+00:00            218.760     37.823169   \n",
      "2017-07-25 07:27:06.750000+00:00            218.760     38.212755   \n",
      "2017-07-25 07:27:07+00:00                   218.760     38.468266   \n",
      "...                                             ...           ...   \n",
      "2017-07-11 12:40:43+00:00                   312.515     45.553728   \n",
      "2017-07-11 12:40:43.250000+00:00            312.515     45.685850   \n",
      "2017-07-11 12:40:43.500000+00:00            312.515     45.817972   \n",
      "2017-07-11 12:40:43.750000+00:00            312.515     45.916189   \n",
      "2017-07-11 12:40:44+00:00                   312.515     45.983606   \n",
      "\n",
      "                                  hrv_hrv_rmssd  hrv_hrv_nni_50  \\\n",
      "timedata                                                          \n",
      "2017-07-25 07:27:06+00:00             37.373983        7.924528   \n",
      "2017-07-25 07:27:06.250000+00:00      37.474122        7.992890   \n",
      "2017-07-25 07:27:06.500000+00:00      37.850568        8.377104   \n",
      "2017-07-25 07:27:06.750000+00:00      38.259086        8.797980   \n",
      "2017-07-25 07:27:07+00:00             38.520810        9.000000   \n",
      "...                                         ...             ...   \n",
      "2017-07-11 12:40:43+00:00             45.654974       17.000000   \n",
      "2017-07-11 12:40:43.250000+00:00      45.781697       17.000000   \n",
      "2017-07-11 12:40:43.500000+00:00      45.908419       17.000000   \n",
      "2017-07-11 12:40:43.750000+00:00      46.012217       17.000000   \n",
      "2017-07-11 12:40:44+00:00             46.095189       17.000000   \n",
      "\n",
      "                                  hrv_hrv_pnni_50  hrv_hrv_nni_20  \\\n",
      "timedata                                                            \n",
      "2017-07-25 07:27:06+00:00               14.712681       26.849057   \n",
      "2017-07-25 07:27:06.250000+00:00        14.805193       26.985781   \n",
      "2017-07-25 07:27:06.500000+00:00        15.513156       27.377104   \n",
      "2017-07-25 07:27:06.750000+00:00        16.292555       27.797980   \n",
      "2017-07-25 07:27:07+00:00               16.733794       28.000000   \n",
      "...                                           ...             ...   \n",
      "2017-07-11 12:40:43+00:00               29.898634       34.000000   \n",
      "2017-07-11 12:40:43.250000+00:00        30.083815       34.000000   \n",
      "2017-07-11 12:40:43.500000+00:00        30.268997       34.000000   \n",
      "2017-07-11 12:40:43.750000+00:00        30.462238       33.809593   \n",
      "2017-07-11 12:40:44+00:00               30.662800       33.446221   \n",
      "\n",
      "                                  hrv_hrv_pnni_20  ...  temp_n_below_mean  \\\n",
      "timedata                                           ...                      \n",
      "2017-07-25 07:27:06+00:00               49.854862  ...              132.0   \n",
      "2017-07-25 07:27:06.250000+00:00        49.986328  ...              131.0   \n",
      "2017-07-25 07:27:06.500000+00:00        50.698341  ...              130.0   \n",
      "2017-07-25 07:27:06.750000+00:00        51.477740  ...              129.0   \n",
      "2017-07-25 07:27:07+00:00               52.060692  ...              128.0   \n",
      "...                                           ...  ...                ...   \n",
      "2017-07-11 12:40:43+00:00               59.797268  ...               80.0   \n",
      "2017-07-11 12:40:43.250000+00:00        60.167630  ...               80.0   \n",
      "2017-07-11 12:40:43.500000+00:00        60.537993  ...               80.0   \n",
      "2017-07-11 12:40:43.750000+00:00        60.578281  ...               80.0   \n",
      "2017-07-11 12:40:44+00:00               60.318729  ...               80.0   \n",
      "\n",
      "                                  temp_n_sign_changes  temp_iqr  \\\n",
      "timedata                                                          \n",
      "2017-07-25 07:27:06+00:00                         0.0     0.015   \n",
      "2017-07-25 07:27:06.250000+00:00                  0.0     0.010   \n",
      "2017-07-25 07:27:06.500000+00:00                  0.0     0.010   \n",
      "2017-07-25 07:27:06.750000+00:00                  0.0     0.010   \n",
      "2017-07-25 07:27:07+00:00                         0.0     0.010   \n",
      "...                                               ...       ...   \n",
      "2017-07-11 12:40:43+00:00                         0.0     0.040   \n",
      "2017-07-11 12:40:43.250000+00:00                  0.0     0.040   \n",
      "2017-07-11 12:40:43.500000+00:00                  0.0     0.040   \n",
      "2017-07-11 12:40:43.750000+00:00                  0.0     0.040   \n",
      "2017-07-11 12:40:44+00:00                         0.0     0.040   \n",
      "\n",
      "                                  temp_iqr_5_95  temp_pct_5  temp_pct_95  \\\n",
      "timedata                                                                   \n",
      "2017-07-25 07:27:06+00:00                  0.05       33.13        33.18   \n",
      "2017-07-25 07:27:06.250000+00:00           0.05       33.13        33.18   \n",
      "2017-07-25 07:27:06.500000+00:00           0.05       33.13        33.18   \n",
      "2017-07-25 07:27:06.750000+00:00           0.05       33.13        33.18   \n",
      "2017-07-25 07:27:07+00:00                  0.05       33.13        33.18   \n",
      "...                                         ...         ...          ...   \n",
      "2017-07-11 12:40:43+00:00                  0.04       31.01        31.05   \n",
      "2017-07-11 12:40:43.250000+00:00           0.04       31.01        31.05   \n",
      "2017-07-11 12:40:43.500000+00:00           0.04       31.01        31.05   \n",
      "2017-07-11 12:40:43.750000+00:00           0.04       31.01        31.05   \n",
      "2017-07-11 12:40:44+00:00                  0.04       31.01        31.05   \n",
      "\n",
      "                                  temp_entropy  temp_perm_entropy  \\\n",
      "timedata                                                            \n",
      "2017-07-25 07:27:06+00:00             5.480639           0.547990   \n",
      "2017-07-25 07:27:06.250000+00:00      5.480639           0.547990   \n",
      "2017-07-25 07:27:06.500000+00:00      5.480639           0.536115   \n",
      "2017-07-25 07:27:06.750000+00:00      5.480639           0.524001   \n",
      "2017-07-25 07:27:07+00:00             5.480639           0.511640   \n",
      "...                                        ...                ...   \n",
      "2017-07-11 12:40:43+00:00             5.480639           0.795881   \n",
      "2017-07-11 12:40:43.250000+00:00      5.480639           0.795881   \n",
      "2017-07-11 12:40:43.500000+00:00      5.480639           0.795881   \n",
      "2017-07-11 12:40:43.750000+00:00      5.480639           0.795881   \n",
      "2017-07-11 12:40:44+00:00             5.480639           0.795881   \n",
      "\n",
      "                                  temp_svd_entropy  label  \n",
      "timedata                                                   \n",
      "2017-07-25 07:27:06+00:00                 0.002268    0.0  \n",
      "2017-07-25 07:27:06.250000+00:00          0.002300    0.0  \n",
      "2017-07-25 07:27:06.500000+00:00          0.002315    0.0  \n",
      "2017-07-25 07:27:06.750000+00:00          0.002329    0.0  \n",
      "2017-07-25 07:27:07+00:00                 0.002313    0.0  \n",
      "...                                            ...    ...  \n",
      "2017-07-11 12:40:43+00:00                 0.003397    2.0  \n",
      "2017-07-11 12:40:43.250000+00:00          0.003397    2.0  \n",
      "2017-07-11 12:40:43.500000+00:00          0.003397    2.0  \n",
      "2017-07-11 12:40:43.750000+00:00          0.003397    2.0  \n",
      "2017-07-11 12:40:44+00:00                 0.003397    2.0  \n",
      "\n",
      "[135533 rows x 263 columns]\n",
      "                                   ID  eda_phasic_mean  eda_phasic_std  \\\n",
      "timedata                                                                 \n",
      "2017-07-25 07:27:06+00:00         S10         0.004555        0.003431   \n",
      "2017-07-25 07:27:06.250000+00:00  S10         0.004556        0.003431   \n",
      "2017-07-25 07:27:06.500000+00:00  S10         0.004556        0.003431   \n",
      "2017-07-25 07:27:06.750000+00:00  S10         0.004555        0.003431   \n",
      "2017-07-25 07:27:07+00:00         S10         0.004555        0.003431   \n",
      "...                               ...              ...             ...   \n",
      "2017-07-11 12:40:43+00:00          S9         0.003437        0.002551   \n",
      "2017-07-11 12:40:43.250000+00:00   S9         0.003441        0.002549   \n",
      "2017-07-11 12:40:43.500000+00:00   S9         0.003445        0.002548   \n",
      "2017-07-11 12:40:43.750000+00:00   S9         0.003448        0.002547   \n",
      "2017-07-11 12:40:44+00:00          S9         0.003451        0.002546   \n",
      "\n",
      "                                  eda_phasic_min  eda_phasic_max  \\\n",
      "timedata                                                           \n",
      "2017-07-25 07:27:06+00:00               0.000123        0.012281   \n",
      "2017-07-25 07:27:06.250000+00:00        0.000123        0.012281   \n",
      "2017-07-25 07:27:06.500000+00:00        0.000123        0.012281   \n",
      "2017-07-25 07:27:06.750000+00:00        0.000123        0.012281   \n",
      "2017-07-25 07:27:07+00:00               0.000123        0.012281   \n",
      "...                                          ...             ...   \n",
      "2017-07-11 12:40:43+00:00               0.000258        0.009619   \n",
      "2017-07-11 12:40:43.250000+00:00        0.000258        0.009619   \n",
      "2017-07-11 12:40:43.500000+00:00        0.000258        0.009619   \n",
      "2017-07-11 12:40:43.750000+00:00        0.000258        0.009619   \n",
      "2017-07-11 12:40:44+00:00               0.000258        0.009619   \n",
      "\n",
      "                                  eda_phasic_ptp  eda_phasic_sum  \\\n",
      "timedata                                                           \n",
      "2017-07-25 07:27:06+00:00               0.012158        1.093312   \n",
      "2017-07-25 07:27:06.250000+00:00        0.012158        1.093339   \n",
      "2017-07-25 07:27:06.500000+00:00        0.012158        1.093328   \n",
      "2017-07-25 07:27:06.750000+00:00        0.012158        1.093273   \n",
      "2017-07-25 07:27:07+00:00               0.012158        1.093125   \n",
      "...                                          ...             ...   \n",
      "2017-07-11 12:40:43+00:00               0.009361        0.824961   \n",
      "2017-07-11 12:40:43.250000+00:00        0.009361        0.825867   \n",
      "2017-07-11 12:40:43.500000+00:00        0.009361        0.826705   \n",
      "2017-07-11 12:40:43.750000+00:00        0.009361        0.827471   \n",
      "2017-07-11 12:40:44+00:00               0.009361        0.828145   \n",
      "\n",
      "                                  eda_phasic_energy  eda_phasic_skewness  \\\n",
      "timedata                                                                   \n",
      "2017-07-25 07:27:06+00:00                  0.007805             0.814321   \n",
      "2017-07-25 07:27:06.250000+00:00           0.007805             0.814375   \n",
      "2017-07-25 07:27:06.500000+00:00           0.007805             0.814352   \n",
      "2017-07-25 07:27:06.750000+00:00           0.007805             0.814240   \n",
      "2017-07-25 07:27:07+00:00                  0.007805             0.813920   \n",
      "...                                             ...                  ...   \n",
      "2017-07-11 12:40:43+00:00                  0.004397             0.802568   \n",
      "2017-07-11 12:40:43.250000+00:00           0.004402             0.800101   \n",
      "2017-07-11 12:40:43.500000+00:00           0.004406             0.797855   \n",
      "2017-07-11 12:40:43.750000+00:00           0.004410             0.795902   \n",
      "2017-07-11 12:40:44+00:00                  0.004413             0.794326   \n",
      "\n",
      "                                  eda_phasic_kurtosis  ...  temp_n_below_mean  \\\n",
      "timedata                                               ...                      \n",
      "2017-07-25 07:27:06+00:00                   -0.437411  ...              132.0   \n",
      "2017-07-25 07:27:06.250000+00:00            -0.437312  ...              131.0   \n",
      "2017-07-25 07:27:06.500000+00:00            -0.437353  ...              130.0   \n",
      "2017-07-25 07:27:06.750000+00:00            -0.437554  ...              129.0   \n",
      "2017-07-25 07:27:07+00:00                   -0.438106  ...              128.0   \n",
      "...                                               ...  ...                ...   \n",
      "2017-07-11 12:40:43+00:00                   -0.160833  ...               80.0   \n",
      "2017-07-11 12:40:43.250000+00:00            -0.159718  ...               80.0   \n",
      "2017-07-11 12:40:43.500000+00:00            -0.158567  ...               80.0   \n",
      "2017-07-11 12:40:43.750000+00:00            -0.157270  ...               80.0   \n",
      "2017-07-11 12:40:44+00:00                   -0.155823  ...               80.0   \n",
      "\n",
      "                                  temp_n_sign_changes  temp_iqr  \\\n",
      "timedata                                                          \n",
      "2017-07-25 07:27:06+00:00                         0.0     0.015   \n",
      "2017-07-25 07:27:06.250000+00:00                  0.0     0.010   \n",
      "2017-07-25 07:27:06.500000+00:00                  0.0     0.010   \n",
      "2017-07-25 07:27:06.750000+00:00                  0.0     0.010   \n",
      "2017-07-25 07:27:07+00:00                         0.0     0.010   \n",
      "...                                               ...       ...   \n",
      "2017-07-11 12:40:43+00:00                         0.0     0.040   \n",
      "2017-07-11 12:40:43.250000+00:00                  0.0     0.040   \n",
      "2017-07-11 12:40:43.500000+00:00                  0.0     0.040   \n",
      "2017-07-11 12:40:43.750000+00:00                  0.0     0.040   \n",
      "2017-07-11 12:40:44+00:00                         0.0     0.040   \n",
      "\n",
      "                                  temp_iqr_5_95  temp_pct_5  temp_pct_95  \\\n",
      "timedata                                                                   \n",
      "2017-07-25 07:27:06+00:00                  0.05       33.13        33.18   \n",
      "2017-07-25 07:27:06.250000+00:00           0.05       33.13        33.18   \n",
      "2017-07-25 07:27:06.500000+00:00           0.05       33.13        33.18   \n",
      "2017-07-25 07:27:06.750000+00:00           0.05       33.13        33.18   \n",
      "2017-07-25 07:27:07+00:00                  0.05       33.13        33.18   \n",
      "...                                         ...         ...          ...   \n",
      "2017-07-11 12:40:43+00:00                  0.04       31.01        31.05   \n",
      "2017-07-11 12:40:43.250000+00:00           0.04       31.01        31.05   \n",
      "2017-07-11 12:40:43.500000+00:00           0.04       31.01        31.05   \n",
      "2017-07-11 12:40:43.750000+00:00           0.04       31.01        31.05   \n",
      "2017-07-11 12:40:44+00:00                  0.04       31.01        31.05   \n",
      "\n",
      "                                  temp_entropy  temp_perm_entropy  \\\n",
      "timedata                                                            \n",
      "2017-07-25 07:27:06+00:00             5.480639           0.547990   \n",
      "2017-07-25 07:27:06.250000+00:00      5.480639           0.547990   \n",
      "2017-07-25 07:27:06.500000+00:00      5.480639           0.536115   \n",
      "2017-07-25 07:27:06.750000+00:00      5.480639           0.524001   \n",
      "2017-07-25 07:27:07+00:00             5.480639           0.511640   \n",
      "...                                        ...                ...   \n",
      "2017-07-11 12:40:43+00:00             5.480639           0.795881   \n",
      "2017-07-11 12:40:43.250000+00:00      5.480639           0.795881   \n",
      "2017-07-11 12:40:43.500000+00:00      5.480639           0.795881   \n",
      "2017-07-11 12:40:43.750000+00:00      5.480639           0.795881   \n",
      "2017-07-11 12:40:44+00:00             5.480639           0.795881   \n",
      "\n",
      "                                  temp_svd_entropy  label  \n",
      "timedata                                                   \n",
      "2017-07-25 07:27:06+00:00                 0.002268    0.0  \n",
      "2017-07-25 07:27:06.250000+00:00          0.002300    0.0  \n",
      "2017-07-25 07:27:06.500000+00:00          0.002315    0.0  \n",
      "2017-07-25 07:27:06.750000+00:00          0.002329    0.0  \n",
      "2017-07-25 07:27:07+00:00                 0.002313    0.0  \n",
      "...                                            ...    ...  \n",
      "2017-07-11 12:40:43+00:00                 0.003397    2.0  \n",
      "2017-07-11 12:40:43.250000+00:00          0.003397    2.0  \n",
      "2017-07-11 12:40:43.500000+00:00          0.003397    2.0  \n",
      "2017-07-11 12:40:43.750000+00:00          0.003397    2.0  \n",
      "2017-07-11 12:40:44+00:00                 0.003397    2.0  \n",
      "\n",
      "[135533 rows x 218 columns]\n",
      "['S10' 'S11' 'S13' 'S14' 'S15' 'S16' 'S17' 'S2' 'S3' 'S4' 'S5' 'S6' 'S7'\n",
      " 'S8' 'S9']\n",
      "---start classification---\n",
      "135533 218\n",
      "135533 214\n",
      "Columns dropped:  ['acc_acc_x_entropy' 'acc_acc_y_entropy' 'acc_acc_z_entropy' 'bvp_entropy']\n",
      "running 15-fold CV...\n",
      "[[3902   79  820]\n",
      " [ 644 2278  167]\n",
      " [1569    0    0]]\n",
      "[[4784   17    0]\n",
      " [ 177 2624    0]\n",
      " [ 422  468  663]]\n",
      "[[4434  367    0]\n",
      " [ 204 2533    0]\n",
      " [1609    0    0]]\n",
      "[[4633  168    0]\n",
      " [1341 1440    0]\n",
      " [1569    0    0]]\n",
      "[[4578    0  131]\n",
      " [  92 1841  892]\n",
      " [ 193  375 1001]]\n",
      "[[3215    0 1586]\n",
      " [   0 2637  244]\n",
      " [ 390  819  164]]\n",
      "[[4740   65    0]\n",
      " [ 398 2312  263]\n",
      " [ 499 1033  145]]\n",
      "[[4553  104    0]\n",
      " [ 275 2158    0]\n",
      " [1384    0  145]]\n",
      "[[3065 1100  476]\n",
      " [   7 2375  259]\n",
      " [ 100  787  514]]\n",
      "[[4605    0    0]\n",
      " [ 100 2593    0]\n",
      " [1569    0    0]]\n",
      "[[4789    0   84]\n",
      " [ 217 2444    0]\n",
      " [1094  192  291]]\n",
      "[[4175  192  434]\n",
      " [ 413 2268    0]\n",
      " [1097   87  385]]\n",
      "[[1516 3049  188]\n",
      " [   0 2641    0]\n",
      " [  81 1488    0]]\n",
      "[[4757    0    0]\n",
      " [   0 2440  213]\n",
      " [1453    0    0]]\n",
      "[[4548    0  253]\n",
      " [ 547 1172  762]\n",
      " [   0    0 1569]]\n",
      "0.6144896521376755\n"
     ]
    }
   ],
   "source": [
    "if __name__ == '__main__':\n",
    "    df_all = main()\n",
    "    df_all.to_csv('features_all_all_eda_ekf_leda_Newlabel.csv')\n",
    "    df_all = pd.read_csv('/home/fefespinola/ETHZ_Fall_2020/features_all_all_eda_ekf_leda_Newlabel.csv')\n",
    "    df_all.set_index('timedata', inplace=True)\n",
    "    df_all = df_all.loc[:, ~df_all.columns.str.startswith('hrv')]\n",
    "    print(df_all)\n",
    "    ID=df_all.ID\n",
    "    print(ID.unique())\n",
    "\n",
    "    ### for binary classification uncomment line below \n",
    "    #df_all['label'].replace(2, 0, inplace=True)\n",
    "    #print('===== BINARY ====')\n",
    "\n",
    "    print('---start classification---')\n",
    "\n",
    "    df = df_all.replace([np.inf, -np.inf], np.nan) # np.inf leads to problems with some techniques\n",
    "\n",
    "    # Clean columns that contain a lot of nan values \n",
    "    print(len(df), len(df.columns))\n",
    "    df = df.dropna(axis=1, thresh=int(len(df)*0.8))\n",
    "    print(len(df), len(df.columns))\n",
    "    print('Columns dropped: ', df_all.drop(df.columns, axis=1).columns.values)\n",
    "\n",
    "    stats = []\n",
    "\n",
    "    cv = model_selection.LeaveOneGroupOut()\n",
    "\n",
    "    X = df.drop(columns=['label', 'ID'])\n",
    "    y = df['label'].astype('int')\n",
    "    groups = df['ID']\n",
    "    print(\"running %d-fold CV...\" % (cv.get_n_splits(X, y, groups)))\n",
    "\n",
    "    mean_fpr = np.linspace(0, 1, 100)\n",
    "    fig, ax = plt.subplots(figsize=(15, 15))\n",
    "\n",
    "    for train_index, test_index in cv.split(X, y, groups):\n",
    "        X_train, X_test = X.iloc[train_index], X.iloc[test_index]\n",
    "        y_train, y_test = y.iloc[train_index], y.iloc[test_index]\n",
    "\n",
    "        #### for binary classification uncomment line below\n",
    "        #params = {'objective': 'binary', 'is_unbalance': True}\n",
    "        params = {'objective': 'multiclass', 'is_unbalance': True}\n",
    "        model = lgb.LGBMClassifier(**params)\n",
    "        model.fit(X_train, y_train)\n",
    "        y_pred = model.predict(X_test)\n",
    "        stats.append({\n",
    "            'f1': metrics.f1_score(y_test, y_pred, average=\"macro\")})\n",
    "            \n",
    "        #print(metrics.classification_report(y_test, y_pred))\n",
    "        print(confusion_matrix(y_test, y_pred))\n",
    "\n",
    "    stats = pd.DataFrame(stats)\n",
    "    print(stats.f1.mean())\n",
    "\n",
    "    '''\n",
    "    #parameters\n",
    "    param = {'metric': 'auc_mu', 'learning_rate': 0.01, 'num_leaves': 31, 'is_unbalance':True,\n",
    "        'verbose': 1, 'objective':'multiclass', 'num_class':3, 'lambda_l1':0, 'force_col_wise':True}\n",
    "    \n",
    "    subjects = ['S2', 'S3', 'S4', 'S10', 'S11', 'S13', 'S14', 'S15', 'S16', 'S17']\n",
    "\n",
    "    ##### Start Classification\n",
    "    f1_tot = 0\n",
    "    f1_dict = {}\n",
    "    #data with validation set\n",
    "    for subj in subjects:\n",
    "        # get data\n",
    "        print('===Training for LOSO ', subj, '===')\n",
    "        _, _, train_data, X_test, y_test, test_data = __get_train_valid_data(df_all, subj)\n",
    "    \n",
    "        evals_result = {}  # to record eval results for plotting\n",
    "        \n",
    "        #train normally\n",
    "        bst_norm = lgb.train(param, train_data, num_boost_round=550, valid_sets=[train_data, test_data],                        evals_result=evals_result, verbose_eval=10)\n",
    "\n",
    "        best_iteration = np.argmax(evals_result['valid_1']['auc_mu'][2:]) + 1\n",
    "        print ('best iter', best_iteration)\n",
    "        y_pred = bst_norm.predict(X_test, num_iteration=best_iteration)\n",
    "        y_pred = np.argmax(y_pred, axis=1)\n",
    "\n",
    "        f1_metric = f1_score(y_test, y_pred, average='macro')\n",
    "        f1_dict[subj] = f1_metric\n",
    "        print(f1_dict)\n",
    "        f1_tot = f1_tot + f1_metric\n",
    "        print(confusion_matrix(y_test, y_pred))\n",
    "\n",
    "\n",
    "    f1_tot = f1_tot/len(subjects)\n",
    "    print(f1_tot)\n",
    "    #render_metric(evals_result, param['metric'])\n",
    "    #render_plot_importance(bst_norm, importance_type='split')\n",
    "    '''"
   ]
  },
  {
   "source": [
    "# Get relevant features\n"
   ],
   "cell_type": "markdown",
   "metadata": {}
  },
  {
   "cell_type": "code",
   "execution_count": 3,
   "metadata": {},
   "outputs": [],
   "source": []
  },
  {
   "cell_type": "code",
   "execution_count": null,
   "metadata": {},
   "outputs": [],
   "source": []
  }
 ]
}