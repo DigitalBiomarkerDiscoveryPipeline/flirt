{
 "cells": [
  {
   "cell_type": "markdown",
   "metadata": {},
   "source": [
    "# WESAD Validation Notebook for FLIRT\n"
   ]
  },
  {
   "cell_type": "code",
   "execution_count": 1,
   "metadata": {},
   "outputs": [
    {
     "name": "stderr",
     "output_type": "stream",
     "text": [
      "/Users/sfoell/anaconda3/envs/radar/lib/python3.7/site-packages/ipykernel_launcher.py:10: TqdmExperimentalWarning: Using `tqdm.autonotebook.tqdm` in notebook mode. Use `tqdm.tqdm` instead to force console mode (e.g. in jupyter console)\n",
      "  # Remove the CWD from sys.path while we load stuff.\n",
      "/Users/sfoell/anaconda3/envs/radar/lib/python3.7/site-packages/lightgbm/__init__.py:48: UserWarning: Starting from version 2.2.1, the library file in distribution wheels for macOS is built by the Apple Clang (Xcode_8.3.3) compiler.\n",
      "This means that in case of installing LightGBM from PyPI via the ``pip install lightgbm`` command, you don't need to install the gcc compiler anymore.\n",
      "Instead of that, you need to install the OpenMP library, which is required for running LightGBM on the system with the Apple Clang compiler.\n",
      "You can install the OpenMP library by the following command: ``brew install libomp``.\n",
      "  \"You can install the OpenMP library by the following command: ``brew install libomp``.\", UserWarning)\n"
     ]
    }
   ],
   "source": [
    "# Import Packages\n",
    "import pandas as pd\n",
    "import numpy as np\n",
    "\n",
    "import matplotlib; matplotlib.use('agg')\n",
    "import matplotlib.pyplot as plt\n",
    "\n",
    "import multiprocessing\n",
    "from joblib import Parallel, delayed\n",
    "from tqdm.autonotebook import trange\n",
    "\n",
    "from sklearn.preprocessing import StandardScaler\n",
    "from sklearn.metrics import f1_score, classification_report, accuracy_score\n",
    "\n",
    "\n",
    "from datetime import datetime, timedelta\n",
    "from typing import List\n",
    "import lightgbm as lgb\n",
    "import glob2\n",
    "import os \n",
    "\n",
    "from sklearn import utils, model_selection, metrics, preprocessing\n",
    "from sklearn.ensemble import RandomForestClassifier\n",
    "\n",
    "import flirt.simple"
   ]
  },
  {
   "cell_type": "markdown",
   "metadata": {},
   "source": [
    "The following function retrieves all HRV, EDA and ACC features per subject using the FLIRT pipeline\n"
   ]
  },
  {
   "cell_type": "code",
   "execution_count": 9,
   "metadata": {},
   "outputs": [
    {
     "ename": "AttributeError",
     "evalue": "'float' object has no attribute 'split'",
     "output_type": "error",
     "traceback": [
      "\u001b[0;31m---------------------------------------------------------------------------\u001b[0m",
      "\u001b[0;31mAttributeError\u001b[0m                            Traceback (most recent call last)",
      "\u001b[0;32m<ipython-input-9-129559d3afec>\u001b[0m in \u001b[0;36m<module>\u001b[0;34m\u001b[0m\n\u001b[1;32m      1\u001b[0m \u001b[0mtime\u001b[0m \u001b[0;34m=\u001b[0m \u001b[0mfloat\u001b[0m\u001b[0;34m(\u001b[0m\u001b[0;36m1.3\u001b[0m\u001b[0;34m)\u001b[0m\u001b[0;34m\u001b[0m\u001b[0;34m\u001b[0m\u001b[0m\n\u001b[1;32m      2\u001b[0m \u001b[0;34m\u001b[0m\u001b[0m\n\u001b[0;32m----> 3\u001b[0;31m \u001b[0mminutes\u001b[0m\u001b[0;34m,\u001b[0m \u001b[0mseconds\u001b[0m \u001b[0;34m=\u001b[0m \u001b[0mmap\u001b[0m\u001b[0;34m(\u001b[0m\u001b[0mint\u001b[0m\u001b[0;34m,\u001b[0m\u001b[0mtime\u001b[0m\u001b[0;34m.\u001b[0m\u001b[0msplit\u001b[0m\u001b[0;34m(\u001b[0m\u001b[0;34m\".\"\u001b[0m\u001b[0;34m,\u001b[0m \u001b[0;36m1\u001b[0m\u001b[0;34m)\u001b[0m\u001b[0;34m)\u001b[0m\u001b[0;34m\u001b[0m\u001b[0;34m\u001b[0m\u001b[0m\n\u001b[0m\u001b[1;32m      4\u001b[0m \u001b[0;34m\u001b[0m\u001b[0m\n\u001b[1;32m      5\u001b[0m \u001b[0;31m#timedelta(minutes = )\u001b[0m\u001b[0;34m\u001b[0m\u001b[0;34m\u001b[0m\u001b[0;34m\u001b[0m\u001b[0m\n",
      "\u001b[0;31mAttributeError\u001b[0m: 'float' object has no attribute 'split'"
     ]
    }
   ],
   "source": [
    "time = \"1.3\"\n",
    "\n",
    "minutes, seconds = map(int,time.split(\".\", 1))\n",
    "\n",
    "#timedelta(minutes = )"
   ]
  },
  {
   "cell_type": "code",
   "execution_count": 8,
   "metadata": {},
   "outputs": [],
   "source": [
    "def get_features_per_subject(path, window_length):\n",
    "    features = flirt.simple.get_features_for_empatica_archive(zip_file_path = path,\n",
    "                                      window_length = window_length,\n",
    "                                      window_step_size = 1,\n",
    "                                      hrv_features = True,\n",
    "                                      eda_features = True,\n",
    "                                      acc_features = True,\n",
    "                                      #bvp_features = False,\n",
    "                                      #temp_features = False,\n",
    "                                      debug = True)\n",
    "    return features"
   ]
  },
  {
   "cell_type": "code",
   "execution_count": null,
   "metadata": {},
   "outputs": [],
   "source": []
  },
  {
   "cell_type": "markdown",
   "metadata": {},
   "source": [
    "The following function determines the time offsets of the start and end of each relevant analysis period (baseline, stress, amusement). These offsets are combined with the timestamp stating the start of recording, to determine the absolute timestamps of the sections of interest for each subject. "
   ]
  },
  {
   "cell_type": "code",
   "execution_count": 14,
   "metadata": {},
   "outputs": [],
   "source": [
    "def find_label_timestamps(csv_path, StartingTime):\n",
    "\n",
    "    ID = csv_path.split('/', 3)[1]\n",
    "    df_timestamp = pd.read_csv(glob2.glob('WESAD/' + ID + '/*quest.csv')[0], delimiter = ';', header = 1).iloc[:2, :].dropna(axis = 1)\n",
    "    print('===================================')\n",
    "    print('Printing the timestamp for {0}'.format(ID))\n",
    "    print('===================================')\n",
    "    print(df_timestamp.head())\n",
    "    \n",
    "    # Start/End of experiment periods\n",
    "    print('\\nStart of the baseline: ' + str(df_timestamp['Base'][0]))\n",
    "    print('End of the baseline: ' + str(df_timestamp['Base'][1]))\n",
    "    print('Start of the fun: ' + str(df_timestamp['Fun'][0]))\n",
    "    print('End of the fun: ' + str(df_timestamp['Fun'][1]))\n",
    "    print('Start of the stress: ' + str(df_timestamp['TSST'][0]))\n",
    "    print('End of the stress: ' + str(df_timestamp['TSST'][1]))\n",
    "    \n",
    "    # Get start and end time and assign label into a dict\n",
    "    lab_dict = {'Base':0, 'TSST':1, 'Fun':2}\n",
    "    labels_times_dict = {}\n",
    "    for mode in df_timestamp.columns.tolist():\n",
    "        print('mode', mode)\n",
    "        if mode=='Base' or mode=='Fun' or mode=='TSST':\n",
    "            labels_times_dict[mode] = [StartingTime + timedelta(minutes = int(str(df_timestamp[mode][0]).split(\".\")[0]))+ timedelta(seconds = int(str(df_timestamp[mode][0]).split(\".\")[1])), \n",
    "                                  StartingTime + timedelta(minutes = int(str(df_timestamp[mode][1]).split(\".\")[0])) + timedelta(seconds = int(str(df_timestamp[mode][1]).split(\".\")[1])), lab_dict[mode]]\n",
    "        \n",
    "    return labels_times_dict"
   ]
  },
  {
   "cell_type": "code",
   "execution_count": 15,
   "metadata": {},
   "outputs": [],
   "source": [
    "def main():\n",
    "    #os.chdir('/home/fefespinola/ETHZ_Fall_2020/') #local directory where the script is\n",
    "    df_all = pd.DataFrame(None)\n",
    "    #relevant_features = pd.DataFrame(None)\n",
    "    File_Path = glob2.glob('WESAD/**/*_readme.txt', recursive=True)\n",
    "    window_length = 60 # in seconds\n",
    "    window_shift = 0.25 # in seconds\n",
    "    for subject_path in File_Path:\n",
    "        print(subject_path)\n",
    "        print(subject_path.split('/', 3)[1])\n",
    "        ID = subject_path.split('/', 3)[1]\n",
    "        zip_path = glob2.glob('WESAD/' + ID + '/*_Data.zip')[0]\n",
    "        print(zip_path)\n",
    "        features = get_features_per_subject(zip_path, window_length)\n",
    "        features.index.name = 'timedata'\n",
    "        StartingTime = features.index[0]\n",
    "        print(features)\n",
    "        labels_times = find_label_timestamps(subject_path, StartingTime)\n",
    "        relevant_features = features.loc[\n",
    "            ((features.index >= labels_times['Base'][0]) & (features.index <= labels_times['Base'][1])) \n",
    "            | ((features.index >= labels_times['Fun'][0]) & (features.index <= labels_times['Fun'][1])) \n",
    "            | ((features.index >= labels_times['TSST'][0]) & (features.index <= labels_times['TSST'][1]))]\n",
    "\n",
    "        relevant_features.insert(0, 'ID', ID)\n",
    "        relevant_features['label'] = np.zeros(len(relevant_features))\n",
    "        relevant_features.loc[(relevant_features.index>=labels_times['Fun'][0]) &\n",
    "                                (relevant_features.index<=labels_times['Fun'][1]), 'label'] = labels_times['Fun'][2]\n",
    "        relevant_features.loc[(relevant_features.index>=labels_times['TSST'][0]) & \n",
    "                            (relevant_features.index<=labels_times['TSST'][1]), 'label'] = labels_times['TSST'][2]\n",
    "\n",
    "        # concatenate all subjects and add IDs\n",
    "        df_all = pd.concat((df_all, relevant_features))\n",
    "    \n",
    "    print(df_all)\n",
    "\n",
    "    return df_all"
   ]
  },
  {
   "cell_type": "markdown",
   "metadata": {},
   "source": [
    "Run the evaluation script to retrieve the labeled data and train classifier to output f1-score"
   ]
  },
  {
   "cell_type": "code",
   "execution_count": 16,
   "metadata": {
    "collapsed": true,
    "jupyter": {
     "outputs_hidden": true
    }
   },
   "outputs": [
    {
     "name": "stdout",
     "output_type": "stream",
     "text": [
      "WESAD/S5/S5_readme.txt\n",
      "S5\n",
      "WESAD/S5/S5_E4_Data.zip\n",
      "Reading files\n",
      "Calculating HRV features\n"
     ]
    },
    {
     "data": {
      "application/vnd.jupyter.widget-view+json": {
       "model_id": "9aa2f57f31fb4920abe328290ee7f171",
       "version_major": 2,
       "version_minor": 0
      },
      "text/plain": [
       "HBox(children=(HTML(value='HRV Time Domain features '), FloatProgress(value=0.0, max=1166.0), HTML(value='')))"
      ]
     },
     "metadata": {},
     "output_type": "display_data"
    },
    {
     "name": "stdout",
     "output_type": "stream",
     "text": [
      "\n"
     ]
    },
    {
     "data": {
      "application/vnd.jupyter.widget-view+json": {
       "model_id": "61a1aaac3b9d4c83b92b1883e0578df7",
       "version_major": 2,
       "version_minor": 0
      },
      "text/plain": [
       "HBox(children=(HTML(value='HRV Frequency Domain features '), FloatProgress(value=0.0, max=1166.0), HTML(value=…"
      ]
     },
     "metadata": {},
     "output_type": "display_data"
    },
    {
     "name": "stdout",
     "output_type": "stream",
     "text": [
      "\n"
     ]
    },
    {
     "data": {
      "application/vnd.jupyter.widget-view+json": {
       "model_id": "d9332143a9f3488abac948a5b8842a6b",
       "version_major": 2,
       "version_minor": 0
      },
      "text/plain": [
       "HBox(children=(HTML(value='HRV Statistical features '), FloatProgress(value=0.0, max=1166.0), HTML(value='')))"
      ]
     },
     "metadata": {},
     "output_type": "display_data"
    },
    {
     "name": "stdout",
     "output_type": "stream",
     "text": [
      "\n",
      "Calculating EDA features\n"
     ]
    },
    {
     "data": {
      "application/vnd.jupyter.widget-view+json": {
       "model_id": "1f92bbde595b4e4d804f4e7402db1b95",
       "version_major": 2,
       "version_minor": 0
      },
      "text/plain": [
       "HBox(children=(HTML(value='EDA features'), FloatProgress(value=0.0, max=7551.0), HTML(value='')))"
      ]
     },
     "metadata": {},
     "output_type": "display_data"
    },
    {
     "name": "stdout",
     "output_type": "stream",
     "text": [
      "\n",
      "Calculating ACC features\n"
     ]
    },
    {
     "name": "stderr",
     "output_type": "stream",
     "text": [
      "/Users/sfoell/anaconda3/envs/radar/lib/python3.7/site-packages/ipykernel_launcher.py:10: UserWarning: phasic_entropy contains more than 5% (actual: 67.79%) nan, inf, or -inf values. We recommend to delete this feature column.\n",
      "  # Remove the CWD from sys.path while we load stuff.\n"
     ]
    },
    {
     "data": {
      "application/vnd.jupyter.widget-view+json": {
       "model_id": "ec126e76270d4108b199f88e6ff64d84",
       "version_major": 2,
       "version_minor": 0
      },
      "text/plain": [
       "HBox(children=(HTML(value='ACC features'), FloatProgress(value=0.0, max=7551.0), HTML(value='')))"
      ]
     },
     "metadata": {},
     "output_type": "display_data"
    },
    {
     "name": "stdout",
     "output_type": "stream",
     "text": [
      "\n",
      "                           hrv_mean_nni  hrv_median_nni  hrv_range_nni  \\\n",
      "timedata                                                                 \n",
      "2017-06-13 12:23:13+00:00           NaN             NaN            NaN   \n",
      "2017-06-13 12:23:14+00:00           NaN             NaN            NaN   \n",
      "2017-06-13 12:23:15+00:00           NaN             NaN            NaN   \n",
      "2017-06-13 12:23:16+00:00           NaN             NaN            NaN   \n",
      "2017-06-13 12:23:17+00:00           NaN             NaN            NaN   \n",
      "...                                 ...             ...            ...   \n",
      "2017-06-13 14:28:59+00:00    976.729585      975.424511        187.508   \n",
      "2017-06-13 14:29:00+00:00    976.729585      975.424511        187.508   \n",
      "2017-06-13 14:29:01+00:00    976.729585      975.424511        187.508   \n",
      "2017-06-13 14:29:02+00:00    976.729585      975.424511        187.508   \n",
      "2017-06-13 14:29:03+00:00    976.729585      975.424511        187.508   \n",
      "\n",
      "                            hrv_sdsd  hrv_rmssd  hrv_nni_50  hrv_pnni_50  \\\n",
      "timedata                                                                   \n",
      "2017-06-13 12:23:13+00:00        NaN        NaN         NaN          NaN   \n",
      "2017-06-13 12:23:14+00:00        NaN        NaN         NaN          NaN   \n",
      "2017-06-13 12:23:15+00:00        NaN        NaN         NaN          NaN   \n",
      "2017-06-13 12:23:16+00:00        NaN        NaN         NaN          NaN   \n",
      "2017-06-13 12:23:17+00:00        NaN        NaN         NaN          NaN   \n",
      "...                              ...        ...         ...          ...   \n",
      "2017-06-13 14:28:59+00:00  45.933497  47.279857         2.0    14.751986   \n",
      "2017-06-13 14:29:00+00:00  45.933497  47.279857         2.0    14.751986   \n",
      "2017-06-13 14:29:01+00:00  45.933497  47.279857         2.0    14.751986   \n",
      "2017-06-13 14:29:02+00:00  45.933497  47.279857         2.0    14.751986   \n",
      "2017-06-13 14:29:03+00:00  45.933497  47.279857         2.0    14.751986   \n",
      "\n",
      "                           hrv_nni_20  hrv_pnni_20  hrv_cvsd  ...  \\\n",
      "timedata                                                      ...   \n",
      "2017-06-13 12:23:13+00:00         NaN          NaN       NaN  ...   \n",
      "2017-06-13 12:23:14+00:00         NaN          NaN       NaN  ...   \n",
      "2017-06-13 12:23:15+00:00         NaN          NaN       NaN  ...   \n",
      "2017-06-13 12:23:16+00:00         NaN          NaN       NaN  ...   \n",
      "2017-06-13 12:23:17+00:00         NaN          NaN       NaN  ...   \n",
      "...                               ...          ...       ...  ...   \n",
      "2017-06-13 14:28:59+00:00         8.0    59.007943  0.048405  ...   \n",
      "2017-06-13 14:29:00+00:00         8.0    59.007943  0.048405  ...   \n",
      "2017-06-13 14:29:01+00:00         8.0    59.007943  0.048405  ...   \n",
      "2017-06-13 14:29:02+00:00         8.0    59.007943  0.048405  ...   \n",
      "2017-06-13 14:29:03+00:00         8.0    59.007943  0.048405  ...   \n",
      "\n",
      "                           acc_l2_n_above_mean  acc_l2_n_below_mean  \\\n",
      "timedata                                                              \n",
      "2017-06-13 12:23:13+00:00                 1795                  125   \n",
      "2017-06-13 12:23:14+00:00                  975                  945   \n",
      "2017-06-13 12:23:15+00:00                  973                  947   \n",
      "2017-06-13 12:23:16+00:00                  987                  933   \n",
      "2017-06-13 12:23:17+00:00                  996                  924   \n",
      "...                                        ...                  ...   \n",
      "2017-06-13 14:28:59+00:00                   58                   90   \n",
      "2017-06-13 14:29:00+00:00                   58                   58   \n",
      "2017-06-13 14:29:01+00:00                   45                   39   \n",
      "2017-06-13 14:29:02+00:00                   19                   33   \n",
      "2017-06-13 14:29:03+00:00                   11                    9   \n",
      "\n",
      "                           acc_l2_n_sign_changes  acc_l2_iqr  acc_l2_iqr_5_95  \\\n",
      "timedata                                                                        \n",
      "2017-06-13 12:23:13+00:00                      0    0.086968         0.158193   \n",
      "2017-06-13 12:23:14+00:00                      0    0.086968         0.158193   \n",
      "2017-06-13 12:23:15+00:00                      0    0.086968         0.158193   \n",
      "2017-06-13 12:23:16+00:00                      0    0.086968         0.158193   \n",
      "2017-06-13 12:23:17+00:00                      0    0.086968         0.158193   \n",
      "...                                          ...         ...              ...   \n",
      "2017-06-13 14:28:59+00:00                      0    1.645547        18.205156   \n",
      "2017-06-13 14:29:00+00:00                      0    2.111055        22.296822   \n",
      "2017-06-13 14:29:01+00:00                      0    2.828210        28.251099   \n",
      "2017-06-13 14:29:02+00:00                      0    2.099390         6.322880   \n",
      "2017-06-13 14:29:03+00:00                      0    1.982962         3.124536   \n",
      "\n",
      "                           acc_l2_pct_5  acc_l2_pct_95  acc_l2_entropy  \\\n",
      "timedata                                                                 \n",
      "2017-06-13 12:23:13+00:00     63.134776      63.292970        7.560073   \n",
      "2017-06-13 12:23:14+00:00     63.134776      63.292970        7.560073   \n",
      "2017-06-13 12:23:15+00:00     63.134776      63.292970        7.560072   \n",
      "2017-06-13 12:23:16+00:00     63.134776      63.292970        7.560072   \n",
      "2017-06-13 12:23:17+00:00     63.134776      63.292970        7.560072   \n",
      "...                                 ...            ...             ...   \n",
      "2017-06-13 14:28:59+00:00     52.930995      71.136151        4.993350   \n",
      "2017-06-13 14:29:00+00:00     52.187083      74.483905        4.748677   \n",
      "2017-06-13 14:29:01+00:00     51.220941      79.472040        4.424051   \n",
      "2017-06-13 14:29:02+00:00     61.262125      67.585005        3.949532   \n",
      "2017-06-13 14:29:03+00:00     61.298039      64.422575        2.995594   \n",
      "\n",
      "                           acc_l2_perm_entropy  acc_l2_svd_entropy  \n",
      "timedata                                                            \n",
      "2017-06-13 12:23:13+00:00             0.923927            0.027343  \n",
      "2017-06-13 12:23:14+00:00             0.920882            0.026637  \n",
      "2017-06-13 12:23:15+00:00             0.919853            0.027279  \n",
      "2017-06-13 12:23:16+00:00             0.921394            0.027392  \n",
      "2017-06-13 12:23:17+00:00             0.921394            0.027398  \n",
      "...                                        ...                 ...  \n",
      "2017-06-13 14:28:59+00:00             0.929364            0.240821  \n",
      "2017-06-13 14:29:00+00:00             0.979509            0.263016  \n",
      "2017-06-13 14:29:01+00:00             0.999010            0.295489  \n",
      "2017-06-13 14:29:02+00:00             0.999700            0.247672  \n",
      "2017-06-13 14:29:03+00:00             0.977418            0.080043  \n",
      "\n",
      "[7551 rows x 177 columns]\n",
      "===================================\n",
      "Printing the timestamp for S5\n",
      "===================================\n",
      "   # ORDER   Base    Fun  Medi 1   TSST  Medi 2  bRead  fRead  sRead\n",
      "0  # START   5.37  32.00   45.43  61.00   92.15  26.15  41.15  75.28\n",
      "1    # END  25.55  38.34   52.40  72.05   99.12  27.47  42.45  76.32\n",
      "\n",
      "Start of the baseline: 5.37\n",
      "End of the baseline: 25.55\n",
      "Start of the fun: 32.0\n",
      "End of the fun: 38.34\n",
      "Start of the stress: 61.0\n",
      "End of the stress: 72.05\n",
      "mode # ORDER\n",
      "mode Base\n",
      "mode Fun\n",
      "mode Medi 1\n",
      "mode TSST\n",
      "mode Medi 2\n",
      "mode bRead\n",
      "mode fRead\n",
      "mode sRead\n",
      "WESAD/S2/S2_readme.txt\n",
      "S2\n",
      "WESAD/S2/S2_E4_Data.zip\n",
      "Reading files\n",
      "Calculating HRV features\n"
     ]
    },
    {
     "name": "stderr",
     "output_type": "stream",
     "text": [
      "/Users/sfoell/anaconda3/envs/radar/lib/python3.7/site-packages/ipykernel_launcher.py:25: SettingWithCopyWarning: \n",
      "A value is trying to be set on a copy of a slice from a DataFrame.\n",
      "Try using .loc[row_indexer,col_indexer] = value instead\n",
      "\n",
      "See the caveats in the documentation: https://pandas.pydata.org/pandas-docs/stable/user_guide/indexing.html#returning-a-view-versus-a-copy\n",
      "/Users/sfoell/anaconda3/envs/radar/lib/python3.7/site-packages/pandas/core/indexing.py:1765: SettingWithCopyWarning: \n",
      "A value is trying to be set on a copy of a slice from a DataFrame.\n",
      "Try using .loc[row_indexer,col_indexer] = value instead\n",
      "\n",
      "See the caveats in the documentation: https://pandas.pydata.org/pandas-docs/stable/user_guide/indexing.html#returning-a-view-versus-a-copy\n",
      "  isetter(loc, value)\n"
     ]
    },
    {
     "data": {
      "application/vnd.jupyter.widget-view+json": {
       "model_id": "ad1cc9a38227473b8c751251377f6ebd",
       "version_major": 2,
       "version_minor": 0
      },
      "text/plain": [
       "HBox(children=(HTML(value='HRV Time Domain features '), FloatProgress(value=0.0, max=3314.0), HTML(value='')))"
      ]
     },
     "metadata": {},
     "output_type": "display_data"
    },
    {
     "name": "stdout",
     "output_type": "stream",
     "text": [
      "\n"
     ]
    },
    {
     "data": {
      "application/vnd.jupyter.widget-view+json": {
       "model_id": "5e45bc34cd704df0b1cfa9973b6009e1",
       "version_major": 2,
       "version_minor": 0
      },
      "text/plain": [
       "HBox(children=(HTML(value='HRV Frequency Domain features '), FloatProgress(value=0.0, max=3314.0), HTML(value=…"
      ]
     },
     "metadata": {},
     "output_type": "display_data"
    },
    {
     "name": "stdout",
     "output_type": "stream",
     "text": [
      "\n"
     ]
    },
    {
     "data": {
      "application/vnd.jupyter.widget-view+json": {
       "model_id": "e1740c0a3ec545e696bf45bad253a3e2",
       "version_major": 2,
       "version_minor": 0
      },
      "text/plain": [
       "HBox(children=(HTML(value='HRV Statistical features '), FloatProgress(value=0.0, max=3314.0), HTML(value='')))"
      ]
     },
     "metadata": {},
     "output_type": "display_data"
    },
    {
     "name": "stdout",
     "output_type": "stream",
     "text": [
      "\n",
      "Calculating EDA features\n"
     ]
    },
    {
     "data": {
      "application/vnd.jupyter.widget-view+json": {
       "model_id": "977dacc5f1fd4832a7e28d9f7a9596f9",
       "version_major": 2,
       "version_minor": 0
      },
      "text/plain": [
       "HBox(children=(HTML(value='EDA features'), FloatProgress(value=0.0, max=7874.0), HTML(value='')))"
      ]
     },
     "metadata": {},
     "output_type": "display_data"
    },
    {
     "name": "stdout",
     "output_type": "stream",
     "text": [
      "\n",
      "Calculating ACC features\n"
     ]
    },
    {
     "name": "stderr",
     "output_type": "stream",
     "text": [
      "/Users/sfoell/anaconda3/envs/radar/lib/python3.7/site-packages/ipykernel_launcher.py:10: UserWarning: tonic_entropy contains more than 5% (actual: 8.61%) nan, inf, or -inf values. We recommend to delete this feature column.\n",
      "  # Remove the CWD from sys.path while we load stuff.\n",
      "/Users/sfoell/anaconda3/envs/radar/lib/python3.7/site-packages/ipykernel_launcher.py:10: UserWarning: phasic_entropy contains more than 5% (actual: 66.89%) nan, inf, or -inf values. We recommend to delete this feature column.\n",
      "  # Remove the CWD from sys.path while we load stuff.\n"
     ]
    },
    {
     "data": {
      "application/vnd.jupyter.widget-view+json": {
       "model_id": "359dd41330834d1bb55960c8f2afef91",
       "version_major": 2,
       "version_minor": 0
      },
      "text/plain": [
       "HBox(children=(HTML(value='ACC features'), FloatProgress(value=0.0, max=7875.0), HTML(value='')))"
      ]
     },
     "metadata": {},
     "output_type": "display_data"
    },
    {
     "name": "stdout",
     "output_type": "stream",
     "text": [
      "\n",
      "                           hrv_mean_nni  hrv_median_nni  hrv_range_nni  \\\n",
      "timedata                                                                 \n",
      "2017-05-22 07:16:25+00:00           NaN             NaN            NaN   \n",
      "2017-05-22 07:16:26+00:00           NaN             NaN            NaN   \n",
      "2017-05-22 07:16:27+00:00           NaN             NaN            NaN   \n",
      "2017-05-22 07:16:28+00:00           NaN             NaN            NaN   \n",
      "2017-05-22 07:16:29+00:00           NaN             NaN            NaN   \n",
      "...                                 ...             ...            ...   \n",
      "2017-05-22 09:27:35+00:00    944.800256         937.543        125.005   \n",
      "2017-05-22 09:27:36+00:00    944.800256         937.543        125.005   \n",
      "2017-05-22 09:27:37+00:00    944.800256         937.543        125.005   \n",
      "2017-05-22 09:27:38+00:00    944.800256         937.543        125.005   \n",
      "2017-05-22 09:27:39+00:00    944.800256         937.543        125.005   \n",
      "\n",
      "                            hrv_sdsd  hrv_rmssd  hrv_nni_50  hrv_pnni_50  \\\n",
      "timedata                                                                   \n",
      "2017-05-22 07:16:25+00:00        NaN        NaN         NaN          NaN   \n",
      "2017-05-22 07:16:26+00:00        NaN        NaN         NaN          NaN   \n",
      "2017-05-22 07:16:27+00:00        NaN        NaN         NaN          NaN   \n",
      "2017-05-22 07:16:28+00:00        NaN        NaN         NaN          NaN   \n",
      "2017-05-22 07:16:29+00:00        NaN        NaN         NaN          NaN   \n",
      "...                              ...        ...         ...          ...   \n",
      "2017-05-22 09:27:35+00:00  63.123437  63.583779    5.807927    42.012865   \n",
      "2017-05-22 09:27:36+00:00  63.123437  63.583779    5.807927    42.012865   \n",
      "2017-05-22 09:27:37+00:00  63.123437  63.583779    5.807927    42.012865   \n",
      "2017-05-22 09:27:38+00:00  63.123437  63.583779    5.807927    42.012865   \n",
      "2017-05-22 09:27:39+00:00  63.123437  63.583779    5.807927    42.012865   \n",
      "\n",
      "                           hrv_nni_20  hrv_pnni_20  hrv_cvsd  ...  \\\n",
      "timedata                                                      ...   \n",
      "2017-05-22 07:16:25+00:00         NaN          NaN       NaN  ...   \n",
      "2017-05-22 07:16:26+00:00         NaN          NaN       NaN  ...   \n",
      "2017-05-22 07:16:27+00:00         NaN          NaN       NaN  ...   \n",
      "2017-05-22 07:16:28+00:00         NaN          NaN       NaN  ...   \n",
      "2017-05-22 07:16:29+00:00         NaN          NaN       NaN  ...   \n",
      "...                               ...          ...       ...  ...   \n",
      "2017-05-22 09:27:35+00:00   10.807927    78.254825  0.067299  ...   \n",
      "2017-05-22 09:27:36+00:00   10.807927    78.254825  0.067299  ...   \n",
      "2017-05-22 09:27:37+00:00   10.807927    78.254825  0.067299  ...   \n",
      "2017-05-22 09:27:38+00:00   10.807927    78.254825  0.067299  ...   \n",
      "2017-05-22 09:27:39+00:00   10.807927    78.254825  0.067299  ...   \n",
      "\n",
      "                           acc_l2_n_above_mean  acc_l2_n_below_mean  \\\n",
      "timedata                                                              \n",
      "2017-05-22 07:16:25+00:00                  437                 1483   \n",
      "2017-05-22 07:16:26+00:00                  450                 1470   \n",
      "2017-05-22 07:16:27+00:00                  461                 1459   \n",
      "2017-05-22 07:16:28+00:00                  477                 1443   \n",
      "2017-05-22 07:16:29+00:00                  484                 1436   \n",
      "...                                        ...                  ...   \n",
      "2017-05-22 09:27:35+00:00                   64                   66   \n",
      "2017-05-22 09:27:36+00:00                   56                   42   \n",
      "2017-05-22 09:27:37+00:00                   40                   26   \n",
      "2017-05-22 09:27:38+00:00                   19                   15   \n",
      "2017-05-22 09:27:39+00:00                    0                    0   \n",
      "\n",
      "                           acc_l2_n_sign_changes  acc_l2_iqr  acc_l2_iqr_5_95  \\\n",
      "timedata                                                                        \n",
      "2017-05-22 07:16:25+00:00                      0    1.843326        35.400060   \n",
      "2017-05-22 07:16:26+00:00                      0    1.984122        35.894638   \n",
      "2017-05-22 07:16:27+00:00                      0    2.258957        36.131522   \n",
      "2017-05-22 07:16:28+00:00                      0    2.515188        36.645154   \n",
      "2017-05-22 07:16:29+00:00                      0    3.204984        39.452702   \n",
      "...                                          ...         ...              ...   \n",
      "2017-05-22 09:27:35+00:00                      0    2.643633        17.331744   \n",
      "2017-05-22 09:27:36+00:00                      0    4.418571        20.729330   \n",
      "2017-05-22 09:27:37+00:00                      0    4.238563        23.002413   \n",
      "2017-05-22 09:27:38+00:00                      0    3.397556         8.687645   \n",
      "2017-05-22 09:27:39+00:00                      0    0.000000         0.000000   \n",
      "\n",
      "                           acc_l2_pct_5  acc_l2_pct_95  acc_l2_entropy  \\\n",
      "timedata                                                                 \n",
      "2017-05-22 07:16:25+00:00     49.986997      85.387056        7.546051   \n",
      "2017-05-22 07:16:26+00:00     49.492419      85.387056        7.545754   \n",
      "2017-05-22 07:16:27+00:00     49.364967      85.496490        7.545562   \n",
      "2017-05-22 07:16:28+00:00     49.309177      85.954331        7.545167   \n",
      "2017-05-22 07:16:29+00:00     48.928008      88.380710        7.543590   \n",
      "...                                 ...            ...             ...   \n",
      "2017-05-22 09:27:35+00:00     54.639462      71.971207        4.864539   \n",
      "2017-05-22 09:27:36+00:00     52.260455      72.989785        4.581017   \n",
      "2017-05-22 09:27:37+00:00     50.729618      73.732030        4.185044   \n",
      "2017-05-22 09:27:38+00:00     58.879779      67.567423        3.525146   \n",
      "2017-05-22 09:27:39+00:00     64.730209      64.730209        3.525146   \n",
      "\n",
      "                           acc_l2_perm_entropy  acc_l2_svd_entropy  \n",
      "timedata                                                            \n",
      "2017-05-22 07:16:25+00:00             0.988758            0.454710  \n",
      "2017-05-22 07:16:26+00:00             0.989500            0.458828  \n",
      "2017-05-22 07:16:27+00:00             0.990392            0.460592  \n",
      "2017-05-22 07:16:28+00:00             0.991076            0.464518  \n",
      "2017-05-22 07:16:29+00:00             0.991409            0.478024  \n",
      "...                                        ...                 ...  \n",
      "2017-05-22 09:27:35+00:00             0.976210            0.269449  \n",
      "2017-05-22 09:27:36+00:00             0.999281            0.297762  \n",
      "2017-05-22 09:27:37+00:00             0.998364            0.316080  \n",
      "2017-05-22 09:27:38+00:00             0.981152            0.230795  \n",
      "2017-05-22 09:27:39+00:00             0.981152            0.230795  \n",
      "\n",
      "[7875 rows x 177 columns]\n",
      "===================================\n",
      "Printing the timestamp for S2\n",
      "===================================\n",
      "   # ORDER   Base   TSST  Medi 1    Fun  Medi 2  sRead  fRead\n",
      "0  # START   7.08  39.55   70.19  81.25   93.38  54.42  89.51\n",
      "1    # END  26.32  50.30   77.10  87.47  100.15  56.07  91.15\n",
      "\n",
      "Start of the baseline: 7.08\n",
      "End of the baseline: 26.32\n",
      "Start of the fun: 81.25\n",
      "End of the fun: 87.47\n",
      "Start of the stress: 39.55\n",
      "End of the stress: 50.3\n",
      "mode # ORDER\n",
      "mode Base\n",
      "mode TSST\n",
      "mode Medi 1\n",
      "mode Fun\n",
      "mode Medi 2\n",
      "mode sRead\n",
      "mode fRead\n",
      "WESAD/S3/S3_readme.txt\n",
      "S3\n",
      "WESAD/S3/S3_E4_Data.zip\n",
      "Reading files\n",
      "Calculating HRV features\n"
     ]
    },
    {
     "name": "stderr",
     "output_type": "stream",
     "text": [
      "/Users/sfoell/anaconda3/envs/radar/lib/python3.7/site-packages/ipykernel_launcher.py:25: SettingWithCopyWarning: \n",
      "A value is trying to be set on a copy of a slice from a DataFrame.\n",
      "Try using .loc[row_indexer,col_indexer] = value instead\n",
      "\n",
      "See the caveats in the documentation: https://pandas.pydata.org/pandas-docs/stable/user_guide/indexing.html#returning-a-view-versus-a-copy\n",
      "/Users/sfoell/anaconda3/envs/radar/lib/python3.7/site-packages/pandas/core/indexing.py:1765: SettingWithCopyWarning: \n",
      "A value is trying to be set on a copy of a slice from a DataFrame.\n",
      "Try using .loc[row_indexer,col_indexer] = value instead\n",
      "\n",
      "See the caveats in the documentation: https://pandas.pydata.org/pandas-docs/stable/user_guide/indexing.html#returning-a-view-versus-a-copy\n",
      "  isetter(loc, value)\n"
     ]
    },
    {
     "data": {
      "application/vnd.jupyter.widget-view+json": {
       "model_id": "b7dec1fd29f2434fade6c0a69ca6a165",
       "version_major": 2,
       "version_minor": 0
      },
      "text/plain": [
       "HBox(children=(HTML(value='HRV Time Domain features '), FloatProgress(value=0.0, max=1751.0), HTML(value='')))"
      ]
     },
     "metadata": {},
     "output_type": "display_data"
    },
    {
     "name": "stdout",
     "output_type": "stream",
     "text": [
      "\n"
     ]
    },
    {
     "data": {
      "application/vnd.jupyter.widget-view+json": {
       "model_id": "643065f49c3f4fbb8d19c6ab89d24069",
       "version_major": 2,
       "version_minor": 0
      },
      "text/plain": [
       "HBox(children=(HTML(value='HRV Frequency Domain features '), FloatProgress(value=0.0, max=1751.0), HTML(value=…"
      ]
     },
     "metadata": {},
     "output_type": "display_data"
    },
    {
     "name": "stdout",
     "output_type": "stream",
     "text": [
      "\n"
     ]
    },
    {
     "data": {
      "application/vnd.jupyter.widget-view+json": {
       "model_id": "c6aab2482195440ba43897dbc0ac9df8",
       "version_major": 2,
       "version_minor": 0
      },
      "text/plain": [
       "HBox(children=(HTML(value='HRV Statistical features '), FloatProgress(value=0.0, max=1751.0), HTML(value='')))"
      ]
     },
     "metadata": {},
     "output_type": "display_data"
    },
    {
     "name": "stdout",
     "output_type": "stream",
     "text": [
      "\n",
      "Calculating EDA features\n"
     ]
    },
    {
     "data": {
      "application/vnd.jupyter.widget-view+json": {
       "model_id": "b205043cb18f457787578a7c481fee41",
       "version_major": 2,
       "version_minor": 0
      },
      "text/plain": [
       "HBox(children=(HTML(value='EDA features'), FloatProgress(value=0.0, max=7724.0), HTML(value='')))"
      ]
     },
     "metadata": {},
     "output_type": "display_data"
    },
    {
     "name": "stdout",
     "output_type": "stream",
     "text": [
      "\n",
      "Calculating ACC features\n"
     ]
    },
    {
     "name": "stderr",
     "output_type": "stream",
     "text": [
      "/Users/sfoell/anaconda3/envs/radar/lib/python3.7/site-packages/ipykernel_launcher.py:10: UserWarning: phasic_entropy contains more than 5% (actual: 68.29%) nan, inf, or -inf values. We recommend to delete this feature column.\n",
      "  # Remove the CWD from sys.path while we load stuff.\n"
     ]
    },
    {
     "data": {
      "application/vnd.jupyter.widget-view+json": {
       "model_id": "df502649b16d497581e7e414d12c7db3",
       "version_major": 2,
       "version_minor": 0
      },
      "text/plain": [
       "HBox(children=(HTML(value='ACC features'), FloatProgress(value=0.0, max=7724.0), HTML(value='')))"
      ]
     },
     "metadata": {},
     "output_type": "display_data"
    },
    {
     "name": "stdout",
     "output_type": "stream",
     "text": [
      "\n",
      "                           hrv_mean_nni  hrv_median_nni  hrv_range_nni  \\\n",
      "timedata                                                                 \n",
      "2017-05-24 11:09:48+00:00           NaN             NaN            NaN   \n",
      "2017-05-24 11:09:49+00:00           NaN             NaN            NaN   \n",
      "2017-05-24 11:09:50+00:00           NaN             NaN            NaN   \n",
      "2017-05-24 11:09:51+00:00           NaN             NaN            NaN   \n",
      "2017-05-24 11:09:52+00:00           NaN             NaN            NaN   \n",
      "...                                 ...             ...            ...   \n",
      "2017-05-24 13:18:27+00:00   1095.538466        1062.549         437.52   \n",
      "2017-05-24 13:18:28+00:00   1095.538466        1062.549         437.52   \n",
      "2017-05-24 13:18:29+00:00   1095.538466        1062.549         437.52   \n",
      "2017-05-24 13:18:30+00:00   1095.538466        1062.549         437.52   \n",
      "2017-05-24 13:18:31+00:00   1095.538466        1062.549         437.52   \n",
      "\n",
      "                             hrv_sdsd   hrv_rmssd  hrv_nni_50  hrv_pnni_50  \\\n",
      "timedata                                                                     \n",
      "2017-05-24 11:09:48+00:00         NaN         NaN         NaN          NaN   \n",
      "2017-05-24 11:09:49+00:00         NaN         NaN         NaN          NaN   \n",
      "2017-05-24 11:09:50+00:00         NaN         NaN         NaN          NaN   \n",
      "2017-05-24 11:09:51+00:00         NaN         NaN         NaN          NaN   \n",
      "2017-05-24 11:09:52+00:00         NaN         NaN         NaN          NaN   \n",
      "...                               ...         ...         ...          ...   \n",
      "2017-05-24 13:18:27+00:00  173.263924  173.270209         7.0    60.380743   \n",
      "2017-05-24 13:18:28+00:00  173.263924  173.270209         7.0    60.380743   \n",
      "2017-05-24 13:18:29+00:00  173.263924  173.270209         7.0    60.380743   \n",
      "2017-05-24 13:18:30+00:00  173.263924  173.270209         7.0    60.380743   \n",
      "2017-05-24 13:18:31+00:00  173.263924  173.270209         7.0    60.380743   \n",
      "\n",
      "                           hrv_nni_20  hrv_pnni_20  hrv_cvsd  ...  \\\n",
      "timedata                                                      ...   \n",
      "2017-05-24 11:09:48+00:00         NaN          NaN       NaN  ...   \n",
      "2017-05-24 11:09:49+00:00         NaN          NaN       NaN  ...   \n",
      "2017-05-24 11:09:50+00:00         NaN          NaN       NaN  ...   \n",
      "2017-05-24 11:09:51+00:00         NaN          NaN       NaN  ...   \n",
      "2017-05-24 11:09:52+00:00         NaN          NaN       NaN  ...   \n",
      "...                               ...          ...       ...  ...   \n",
      "2017-05-24 13:18:27+00:00        10.0    86.258205  0.158141  ...   \n",
      "2017-05-24 13:18:28+00:00        10.0    86.258205  0.158141  ...   \n",
      "2017-05-24 13:18:29+00:00        10.0    86.258205  0.158141  ...   \n",
      "2017-05-24 13:18:30+00:00        10.0    86.258205  0.158141  ...   \n",
      "2017-05-24 13:18:31+00:00        10.0    86.258205  0.158141  ...   \n",
      "\n",
      "                           acc_l2_n_above_mean  acc_l2_n_below_mean  \\\n",
      "timedata                                                              \n",
      "2017-05-24 11:09:48+00:00                  501                 1419   \n",
      "2017-05-24 11:09:49+00:00                  508                 1412   \n",
      "2017-05-24 11:09:50+00:00                  510                 1410   \n",
      "2017-05-24 11:09:51+00:00                  506                 1414   \n",
      "2017-05-24 11:09:52+00:00                  503                 1417   \n",
      "...                                        ...                  ...   \n",
      "2017-05-24 13:18:27+00:00                   73                   71   \n",
      "2017-05-24 13:18:28+00:00                   57                   55   \n",
      "2017-05-24 13:18:29+00:00                   42                   38   \n",
      "2017-05-24 13:18:30+00:00                   24                   24   \n",
      "2017-05-24 13:18:31+00:00                    8                    8   \n",
      "\n",
      "                           acc_l2_n_sign_changes  acc_l2_iqr  acc_l2_iqr_5_95  \\\n",
      "timedata                                                                        \n",
      "2017-05-24 11:09:48+00:00                      0    1.496271        17.785991   \n",
      "2017-05-24 11:09:49+00:00                      0    1.542474        18.125709   \n",
      "2017-05-24 11:09:50+00:00                      0    1.596336        18.543348   \n",
      "2017-05-24 11:09:51+00:00                      0    1.588645        19.100543   \n",
      "2017-05-24 11:09:52+00:00                      0    1.602104        20.076081   \n",
      "...                                          ...         ...              ...   \n",
      "2017-05-24 13:18:27+00:00                      0    4.869059        12.951219   \n",
      "2017-05-24 13:18:28+00:00                      0    5.670867        13.958385   \n",
      "2017-05-24 13:18:29+00:00                      0    6.624335        13.296295   \n",
      "2017-05-24 13:18:30+00:00                      0    3.982845         9.343322   \n",
      "2017-05-24 13:18:31+00:00                      0    3.660155         9.834293   \n",
      "\n",
      "                           acc_l2_pct_5  acc_l2_pct_95  acc_l2_entropy  \\\n",
      "timedata                                                                 \n",
      "2017-05-24 11:09:48+00:00     57.462596      75.248587        7.554733   \n",
      "2017-05-24 11:09:49+00:00     57.209209      75.334918        7.554646   \n",
      "2017-05-24 11:09:50+00:00     57.209209      75.752557        7.554577   \n",
      "2017-05-24 11:09:51+00:00     56.784237      75.884780        7.554415   \n",
      "2017-05-24 11:09:52+00:00     56.461491      76.537572        7.554009   \n",
      "...                                 ...            ...             ...   \n",
      "2017-05-24 13:18:27+00:00     58.594368      71.545587        4.967963   \n",
      "2017-05-24 13:18:28+00:00     58.487920      72.446306        4.716429   \n",
      "2017-05-24 13:18:29+00:00     58.338153      71.634449        4.379883   \n",
      "2017-05-24 13:18:30+00:00     60.790612      70.133934        3.870212   \n",
      "2017-05-24 13:18:31+00:00     61.425495      71.259789        2.771489   \n",
      "\n",
      "                           acc_l2_perm_entropy  acc_l2_svd_entropy  \n",
      "timedata                                                            \n",
      "2017-05-24 11:09:48+00:00             0.980184            0.315562  \n",
      "2017-05-24 11:09:49+00:00             0.982850            0.317475  \n",
      "2017-05-24 11:09:50+00:00             0.983313            0.319689  \n",
      "2017-05-24 11:09:51+00:00             0.982850            0.323469  \n",
      "2017-05-24 11:09:52+00:00             0.982142            0.327904  \n",
      "...                                        ...                 ...  \n",
      "2017-05-24 13:18:27+00:00             0.997059            0.199861  \n",
      "2017-05-24 13:18:28+00:00             0.995077            0.199627  \n",
      "2017-05-24 13:18:29+00:00             0.996956            0.206285  \n",
      "2017-05-24 13:18:30+00:00             0.999644            0.172898  \n",
      "2017-05-24 13:18:31+00:00             0.995727            0.198671  \n",
      "\n",
      "[7724 rows x 177 columns]\n",
      "===================================\n",
      "Printing the timestamp for S3\n",
      "===================================\n",
      "   # ORDER   Base   TSST  Medi 1    Fun  Medi 2  bRead  sRead  fRead\n",
      "0  # START   6.44  38.15   72.28  84.15   97.49  26.27  54.04  93.15\n",
      "1    # END  26.04  49.15   79.30  90.50  104.27  28.00  55.31  94.42\n",
      "\n",
      "Start of the baseline: 6.44\n",
      "End of the baseline: 26.04\n",
      "Start of the fun: 84.15\n",
      "End of the fun: 90.5\n",
      "Start of the stress: 38.15\n",
      "End of the stress: 49.15\n",
      "mode # ORDER\n",
      "mode Base\n",
      "mode TSST\n",
      "mode Medi 1\n",
      "mode Fun\n",
      "mode Medi 2\n",
      "mode bRead\n",
      "mode sRead\n",
      "mode fRead\n",
      "WESAD/S4/S4_readme.txt\n",
      "S4\n",
      "WESAD/S4/S4_E4_Data.zip\n",
      "Reading files\n",
      "Calculating HRV features\n"
     ]
    },
    {
     "name": "stderr",
     "output_type": "stream",
     "text": [
      "/Users/sfoell/anaconda3/envs/radar/lib/python3.7/site-packages/ipykernel_launcher.py:25: SettingWithCopyWarning: \n",
      "A value is trying to be set on a copy of a slice from a DataFrame.\n",
      "Try using .loc[row_indexer,col_indexer] = value instead\n",
      "\n",
      "See the caveats in the documentation: https://pandas.pydata.org/pandas-docs/stable/user_guide/indexing.html#returning-a-view-versus-a-copy\n",
      "/Users/sfoell/anaconda3/envs/radar/lib/python3.7/site-packages/pandas/core/indexing.py:1765: SettingWithCopyWarning: \n",
      "A value is trying to be set on a copy of a slice from a DataFrame.\n",
      "Try using .loc[row_indexer,col_indexer] = value instead\n",
      "\n",
      "See the caveats in the documentation: https://pandas.pydata.org/pandas-docs/stable/user_guide/indexing.html#returning-a-view-versus-a-copy\n",
      "  isetter(loc, value)\n"
     ]
    },
    {
     "data": {
      "application/vnd.jupyter.widget-view+json": {
       "model_id": "a49ffc445ff746a88b37e5eaa98f38b2",
       "version_major": 2,
       "version_minor": 0
      },
      "text/plain": [
       "HBox(children=(HTML(value='HRV Time Domain features '), FloatProgress(value=0.0, max=3123.0), HTML(value='')))"
      ]
     },
     "metadata": {},
     "output_type": "display_data"
    },
    {
     "name": "stdout",
     "output_type": "stream",
     "text": [
      "\n"
     ]
    },
    {
     "data": {
      "application/vnd.jupyter.widget-view+json": {
       "model_id": "fce8a92856fc45a59951ca0784980630",
       "version_major": 2,
       "version_minor": 0
      },
      "text/plain": [
       "HBox(children=(HTML(value='HRV Frequency Domain features '), FloatProgress(value=0.0, max=3123.0), HTML(value=…"
      ]
     },
     "metadata": {},
     "output_type": "display_data"
    },
    {
     "name": "stdout",
     "output_type": "stream",
     "text": [
      "\n"
     ]
    },
    {
     "data": {
      "application/vnd.jupyter.widget-view+json": {
       "model_id": "b19c0aedd52e4aeb9ef9a9389c02944e",
       "version_major": 2,
       "version_minor": 0
      },
      "text/plain": [
       "HBox(children=(HTML(value='HRV Statistical features '), FloatProgress(value=0.0, max=3123.0), HTML(value='')))"
      ]
     },
     "metadata": {},
     "output_type": "display_data"
    },
    {
     "name": "stdout",
     "output_type": "stream",
     "text": [
      "\n",
      "Calculating EDA features\n"
     ]
    },
    {
     "data": {
      "application/vnd.jupyter.widget-view+json": {
       "model_id": "c5711460c984488ca7772d5c710b671b",
       "version_major": 2,
       "version_minor": 0
      },
      "text/plain": [
       "HBox(children=(HTML(value='EDA features'), FloatProgress(value=0.0, max=8000.0), HTML(value='')))"
      ]
     },
     "metadata": {},
     "output_type": "display_data"
    },
    {
     "name": "stdout",
     "output_type": "stream",
     "text": [
      "\n",
      "Calculating ACC features\n"
     ]
    },
    {
     "name": "stderr",
     "output_type": "stream",
     "text": [
      "/Users/sfoell/anaconda3/envs/radar/lib/python3.7/site-packages/ipykernel_launcher.py:10: UserWarning: phasic_entropy contains more than 5% (actual: 73.44%) nan, inf, or -inf values. We recommend to delete this feature column.\n",
      "  # Remove the CWD from sys.path while we load stuff.\n"
     ]
    },
    {
     "data": {
      "application/vnd.jupyter.widget-view+json": {
       "model_id": "c023478dadbf411680957566c5c87be0",
       "version_major": 2,
       "version_minor": 0
      },
      "text/plain": [
       "HBox(children=(HTML(value='ACC features'), FloatProgress(value=0.0, max=8000.0), HTML(value='')))"
      ]
     },
     "metadata": {},
     "output_type": "display_data"
    },
    {
     "name": "stdout",
     "output_type": "stream",
     "text": [
      "\n",
      "                           hrv_mean_nni  hrv_median_nni  hrv_range_nni  \\\n",
      "timedata                                                                 \n",
      "2017-06-13 08:34:40+00:00           NaN             NaN            NaN   \n",
      "2017-06-13 08:34:41+00:00           NaN             NaN            NaN   \n",
      "2017-06-13 08:34:42+00:00           NaN             NaN            NaN   \n",
      "2017-06-13 08:34:43+00:00           NaN             NaN            NaN   \n",
      "2017-06-13 08:34:44+00:00           NaN             NaN            NaN   \n",
      "...                                 ...             ...            ...   \n",
      "2017-06-13 10:47:55+00:00   1046.172052        1031.297        281.263   \n",
      "2017-06-13 10:47:56+00:00   1046.172052        1031.297        281.263   \n",
      "2017-06-13 10:47:57+00:00   1046.172052        1031.297        281.263   \n",
      "2017-06-13 10:47:58+00:00   1046.172052        1031.297        281.263   \n",
      "2017-06-13 10:47:59+00:00   1046.172052        1031.297        281.263   \n",
      "\n",
      "                            hrv_sdsd  hrv_rmssd  hrv_nni_50  hrv_pnni_50  \\\n",
      "timedata                                                                   \n",
      "2017-06-13 08:34:40+00:00        NaN        NaN         NaN          NaN   \n",
      "2017-06-13 08:34:41+00:00        NaN        NaN         NaN          NaN   \n",
      "2017-06-13 08:34:42+00:00        NaN        NaN         NaN          NaN   \n",
      "2017-06-13 08:34:43+00:00        NaN        NaN         NaN          NaN   \n",
      "2017-06-13 08:34:44+00:00        NaN        NaN         NaN          NaN   \n",
      "...                              ...        ...         ...          ...   \n",
      "2017-06-13 10:47:55+00:00  68.338581  69.616624      4.1488     34.09641   \n",
      "2017-06-13 10:47:56+00:00  68.338581  69.616624      4.1488     34.09641   \n",
      "2017-06-13 10:47:57+00:00  68.338581  69.616624      4.1488     34.09641   \n",
      "2017-06-13 10:47:58+00:00  68.338581  69.616624      4.1488     34.09641   \n",
      "2017-06-13 10:47:59+00:00  68.338581  69.616624      4.1488     34.09641   \n",
      "\n",
      "                           hrv_nni_20  hrv_pnni_20  hrv_cvsd  ...  \\\n",
      "timedata                                                      ...   \n",
      "2017-06-13 08:34:40+00:00         NaN          NaN       NaN  ...   \n",
      "2017-06-13 08:34:41+00:00         NaN          NaN       NaN  ...   \n",
      "2017-06-13 08:34:42+00:00         NaN          NaN       NaN  ...   \n",
      "2017-06-13 08:34:43+00:00         NaN          NaN       NaN  ...   \n",
      "2017-06-13 08:34:44+00:00         NaN          NaN       NaN  ...   \n",
      "...                               ...          ...       ...  ...   \n",
      "2017-06-13 10:47:55+00:00      8.1488    67.048205  0.066539  ...   \n",
      "2017-06-13 10:47:56+00:00      8.1488    67.048205  0.066539  ...   \n",
      "2017-06-13 10:47:57+00:00      8.1488    67.048205  0.066539  ...   \n",
      "2017-06-13 10:47:58+00:00      8.1488    67.048205  0.066539  ...   \n",
      "2017-06-13 10:47:59+00:00      8.1488    67.048205  0.066539  ...   \n",
      "\n",
      "                           acc_l2_n_above_mean  acc_l2_n_below_mean  \\\n",
      "timedata                                                              \n",
      "2017-06-13 08:34:40+00:00                  544                 1376   \n",
      "2017-06-13 08:34:41+00:00                  407                 1513   \n",
      "2017-06-13 08:34:42+00:00                  418                 1502   \n",
      "2017-06-13 08:34:43+00:00                  391                 1529   \n",
      "2017-06-13 08:34:44+00:00                  407                 1513   \n",
      "...                                        ...                  ...   \n",
      "2017-06-13 10:47:55+00:00                   52                   86   \n",
      "2017-06-13 10:47:56+00:00                   40                   66   \n",
      "2017-06-13 10:47:57+00:00                   28                   46   \n",
      "2017-06-13 10:47:58+00:00                   16                   26   \n",
      "2017-06-13 10:47:59+00:00                    9                    1   \n",
      "\n",
      "                           acc_l2_n_sign_changes  acc_l2_iqr  acc_l2_iqr_5_95  \\\n",
      "timedata                                                                        \n",
      "2017-06-13 08:34:40+00:00                      0    0.878819         7.090255   \n",
      "2017-06-13 08:34:41+00:00                      0    0.878819         8.505273   \n",
      "2017-06-13 08:34:42+00:00                      0    0.878819         8.940335   \n",
      "2017-06-13 08:34:43+00:00                      0    0.878819         9.464410   \n",
      "2017-06-13 08:34:44+00:00                      0    0.831853         9.793832   \n",
      "...                                          ...         ...              ...   \n",
      "2017-06-13 10:47:55+00:00                      0    1.165224         3.740708   \n",
      "2017-06-13 10:47:56+00:00                      0    0.856412         3.438382   \n",
      "2017-06-13 10:47:57+00:00                      0    0.662516         3.144789   \n",
      "2017-06-13 10:47:58+00:00                      0    0.662516         2.147451   \n",
      "2017-06-13 10:47:59+00:00                      0    0.000000         0.502409   \n",
      "\n",
      "                           acc_l2_pct_5  acc_l2_pct_95  acc_l2_entropy  \\\n",
      "timedata                                                                 \n",
      "2017-06-13 08:34:40+00:00     61.798058      68.888313        7.558092   \n",
      "2017-06-13 08:34:41+00:00     61.732892      70.238165        7.558033   \n",
      "2017-06-13 08:34:42+00:00     61.553635      70.493970        7.557994   \n",
      "2017-06-13 08:34:43+00:00     61.423529      70.887940        7.557882   \n",
      "2017-06-13 08:34:44+00:00     61.162488      70.956320        7.557861   \n",
      "...                                 ...            ...             ...   \n",
      "2017-06-13 10:47:55+00:00     61.854641      65.595349        4.927102   \n",
      "2017-06-13 10:47:56+00:00     62.042296      65.480678        4.663309   \n",
      "2017-06-13 10:47:57+00:00     61.691448      64.836237        4.303928   \n",
      "2017-06-13 10:47:58+00:00     62.489999      64.637450        3.737556   \n",
      "2017-06-13 10:47:59+00:00     62.901061      63.403470        2.302576   \n",
      "\n",
      "                           acc_l2_perm_entropy  acc_l2_svd_entropy  \n",
      "timedata                                                            \n",
      "2017-06-13 08:34:40+00:00             0.974836            0.236291  \n",
      "2017-06-13 08:34:41+00:00             0.974836            0.237977  \n",
      "2017-06-13 08:34:42+00:00             0.974836            0.239038  \n",
      "2017-06-13 08:34:43+00:00             0.975958            0.244082  \n",
      "2017-06-13 08:34:44+00:00             0.977858            0.245262  \n",
      "...                                        ...                 ...  \n",
      "2017-06-13 10:47:55+00:00             0.993301            0.093496  \n",
      "2017-06-13 10:47:56+00:00             0.984647            0.090698  \n",
      "2017-06-13 10:47:57+00:00             0.975680            0.094554  \n",
      "2017-06-13 10:47:58+00:00             0.976635            0.094714  \n",
      "2017-06-13 10:47:59+00:00            -0.000000            0.025381  \n",
      "\n",
      "[8000 rows x 177 columns]\n",
      "===================================\n",
      "Printing the timestamp for S4\n",
      "===================================\n",
      "   # ORDER   Base    Fun  Medi 1   TSST  Medi 2  bRead  fRead  sRead\n",
      "0  # START   5.52  31.39   45.52  61.20   95.43  25.55  41.55  76.00\n",
      "1    # END  25.30  38.11   53.00  72.15  102.40  27.06  43.07  77.04\n",
      "\n",
      "Start of the baseline: 5.52\n",
      "End of the baseline: 25.3\n",
      "Start of the fun: 31.39\n",
      "End of the fun: 38.11\n",
      "Start of the stress: 61.2\n",
      "End of the stress: 72.15\n",
      "mode # ORDER\n",
      "mode Base\n",
      "mode Fun\n",
      "mode Medi 1\n",
      "mode TSST\n",
      "mode Medi 2\n",
      "mode bRead\n",
      "mode fRead\n",
      "mode sRead\n",
      "WESAD/S17/S17_readme.txt\n",
      "S17\n",
      "WESAD/S17/S17_E4_Data.zip\n",
      "Reading files\n",
      "Calculating HRV features\n"
     ]
    },
    {
     "name": "stderr",
     "output_type": "stream",
     "text": [
      "/Users/sfoell/anaconda3/envs/radar/lib/python3.7/site-packages/ipykernel_launcher.py:25: SettingWithCopyWarning: \n",
      "A value is trying to be set on a copy of a slice from a DataFrame.\n",
      "Try using .loc[row_indexer,col_indexer] = value instead\n",
      "\n",
      "See the caveats in the documentation: https://pandas.pydata.org/pandas-docs/stable/user_guide/indexing.html#returning-a-view-versus-a-copy\n",
      "/Users/sfoell/anaconda3/envs/radar/lib/python3.7/site-packages/pandas/core/indexing.py:1765: SettingWithCopyWarning: \n",
      "A value is trying to be set on a copy of a slice from a DataFrame.\n",
      "Try using .loc[row_indexer,col_indexer] = value instead\n",
      "\n",
      "See the caveats in the documentation: https://pandas.pydata.org/pandas-docs/stable/user_guide/indexing.html#returning-a-view-versus-a-copy\n",
      "  isetter(loc, value)\n"
     ]
    },
    {
     "data": {
      "application/vnd.jupyter.widget-view+json": {
       "model_id": "4e21cc94b6d845cebbf24142ea2bd9e3",
       "version_major": 2,
       "version_minor": 0
      },
      "text/plain": [
       "HBox(children=(HTML(value='HRV Time Domain features '), FloatProgress(value=0.0, max=1951.0), HTML(value='')))"
      ]
     },
     "metadata": {},
     "output_type": "display_data"
    },
    {
     "name": "stdout",
     "output_type": "stream",
     "text": [
      "\n"
     ]
    },
    {
     "data": {
      "application/vnd.jupyter.widget-view+json": {
       "model_id": "4fed75c5c48c404fa30d98c0fa5f9d3f",
       "version_major": 2,
       "version_minor": 0
      },
      "text/plain": [
       "HBox(children=(HTML(value='HRV Frequency Domain features '), FloatProgress(value=0.0, max=1951.0), HTML(value=…"
      ]
     },
     "metadata": {},
     "output_type": "display_data"
    },
    {
     "name": "stdout",
     "output_type": "stream",
     "text": [
      "\n"
     ]
    },
    {
     "data": {
      "application/vnd.jupyter.widget-view+json": {
       "model_id": "26f6111541394dc2ba8ae8c7ec6d17a6",
       "version_major": 2,
       "version_minor": 0
      },
      "text/plain": [
       "HBox(children=(HTML(value='HRV Statistical features '), FloatProgress(value=0.0, max=1951.0), HTML(value='')))"
      ]
     },
     "metadata": {},
     "output_type": "display_data"
    },
    {
     "name": "stdout",
     "output_type": "stream",
     "text": [
      "\n",
      "Calculating EDA features\n"
     ]
    },
    {
     "data": {
      "application/vnd.jupyter.widget-view+json": {
       "model_id": "f829d8e6a544419aa72a4eed7f920fd3",
       "version_major": 2,
       "version_minor": 0
      },
      "text/plain": [
       "HBox(children=(HTML(value='EDA features'), FloatProgress(value=0.0, max=7232.0), HTML(value='')))"
      ]
     },
     "metadata": {},
     "output_type": "display_data"
    },
    {
     "name": "stdout",
     "output_type": "stream",
     "text": [
      "\n",
      "Calculating ACC features\n"
     ]
    },
    {
     "name": "stderr",
     "output_type": "stream",
     "text": [
      "/Users/sfoell/anaconda3/envs/radar/lib/python3.7/site-packages/ipykernel_launcher.py:10: UserWarning: tonic_entropy contains more than 5% (actual: 5.54%) nan, inf, or -inf values. We recommend to delete this feature column.\n",
      "  # Remove the CWD from sys.path while we load stuff.\n",
      "/Users/sfoell/anaconda3/envs/radar/lib/python3.7/site-packages/ipykernel_launcher.py:10: UserWarning: phasic_entropy contains more than 5% (actual: 68.57%) nan, inf, or -inf values. We recommend to delete this feature column.\n",
      "  # Remove the CWD from sys.path while we load stuff.\n"
     ]
    },
    {
     "data": {
      "application/vnd.jupyter.widget-view+json": {
       "model_id": "a03e27d825c649eca1e199e3d58b2a83",
       "version_major": 2,
       "version_minor": 0
      },
      "text/plain": [
       "HBox(children=(HTML(value='ACC features'), FloatProgress(value=0.0, max=7232.0), HTML(value='')))"
      ]
     },
     "metadata": {},
     "output_type": "display_data"
    },
    {
     "name": "stdout",
     "output_type": "stream",
     "text": [
      "\n",
      "                           hrv_mean_nni  hrv_median_nni  hrv_range_nni  \\\n",
      "timedata                                                                 \n",
      "2017-08-11 07:20:22+00:00           NaN             NaN            NaN   \n",
      "2017-08-11 07:20:23+00:00           NaN             NaN            NaN   \n",
      "2017-08-11 07:20:24+00:00           NaN             NaN            NaN   \n",
      "2017-08-11 07:20:25+00:00           NaN             NaN            NaN   \n",
      "2017-08-11 07:20:26+00:00           NaN             NaN            NaN   \n",
      "...                                 ...             ...            ...   \n",
      "2017-08-11 09:20:49+00:00   1093.131531     1137.829163     186.634091   \n",
      "2017-08-11 09:20:50+00:00   1093.131531     1137.829163     186.634091   \n",
      "2017-08-11 09:20:51+00:00   1093.131531     1137.829163     186.634091   \n",
      "2017-08-11 09:20:52+00:00   1093.131531     1137.829163     186.634091   \n",
      "2017-08-11 09:20:53+00:00   1093.131531     1137.829163     186.634091   \n",
      "\n",
      "                           hrv_sdsd  hrv_rmssd  hrv_nni_50  hrv_pnni_50  \\\n",
      "timedata                                                                  \n",
      "2017-08-11 07:20:22+00:00       NaN        NaN         NaN          NaN   \n",
      "2017-08-11 07:20:23+00:00       NaN        NaN         NaN          NaN   \n",
      "2017-08-11 07:20:24+00:00       NaN        NaN         NaN          NaN   \n",
      "2017-08-11 07:20:25+00:00       NaN        NaN         NaN          NaN   \n",
      "2017-08-11 07:20:26+00:00       NaN        NaN         NaN          NaN   \n",
      "...                             ...        ...         ...          ...   \n",
      "2017-08-11 09:20:49+00:00  65.45642  65.915095    3.121503    28.009106   \n",
      "2017-08-11 09:20:50+00:00  65.45642  65.915095    3.121503    28.009106   \n",
      "2017-08-11 09:20:51+00:00  65.45642  65.915095    3.121503    28.009106   \n",
      "2017-08-11 09:20:52+00:00  65.45642  65.915095    3.121503    28.009106   \n",
      "2017-08-11 09:20:53+00:00  65.45642  65.915095    3.121503    28.009106   \n",
      "\n",
      "                           hrv_nni_20  hrv_pnni_20  hrv_cvsd  ...  \\\n",
      "timedata                                                      ...   \n",
      "2017-08-11 07:20:22+00:00         NaN          NaN       NaN  ...   \n",
      "2017-08-11 07:20:23+00:00         NaN          NaN       NaN  ...   \n",
      "2017-08-11 07:20:24+00:00         NaN          NaN       NaN  ...   \n",
      "2017-08-11 07:20:25+00:00         NaN          NaN       NaN  ...   \n",
      "2017-08-11 07:20:26+00:00         NaN          NaN       NaN  ...   \n",
      "...                               ...          ...       ...  ...   \n",
      "2017-08-11 09:20:49+00:00    4.121503    37.007968  0.060425  ...   \n",
      "2017-08-11 09:20:50+00:00    4.121503    37.007968  0.060425  ...   \n",
      "2017-08-11 09:20:51+00:00    4.121503    37.007968  0.060425  ...   \n",
      "2017-08-11 09:20:52+00:00    4.121503    37.007968  0.060425  ...   \n",
      "2017-08-11 09:20:53+00:00    4.121503    37.007968  0.060425  ...   \n",
      "\n",
      "                           acc_l2_n_above_mean  acc_l2_n_below_mean  \\\n",
      "timedata                                                              \n",
      "2017-08-11 07:20:22+00:00                  682                 1238   \n",
      "2017-08-11 07:20:23+00:00                  685                 1235   \n",
      "2017-08-11 07:20:24+00:00                  682                 1238   \n",
      "2017-08-11 07:20:25+00:00                  698                 1222   \n",
      "2017-08-11 07:20:26+00:00                  706                 1214   \n",
      "...                                        ...                  ...   \n",
      "2017-08-11 09:20:49+00:00                   54                   96   \n",
      "2017-08-11 09:20:50+00:00                   53                   65   \n",
      "2017-08-11 09:20:51+00:00                   44                   42   \n",
      "2017-08-11 09:20:52+00:00                   25                   29   \n",
      "2017-08-11 09:20:53+00:00                   14                    8   \n",
      "\n",
      "                           acc_l2_n_sign_changes  acc_l2_iqr  acc_l2_iqr_5_95  \\\n",
      "timedata                                                                        \n",
      "2017-08-11 07:20:22+00:00                      0    1.690539         4.607550   \n",
      "2017-08-11 07:20:23+00:00                      0    1.806301         5.339919   \n",
      "2017-08-11 07:20:24+00:00                      0    1.806301         6.476872   \n",
      "2017-08-11 07:20:25+00:00                      0    1.806301         8.458739   \n",
      "2017-08-11 07:20:26+00:00                      0    1.844843        10.048902   \n",
      "...                                          ...         ...              ...   \n",
      "2017-08-11 09:20:49+00:00                      0    2.916646        21.628867   \n",
      "2017-08-11 09:20:50+00:00                      0    2.317196         9.582363   \n",
      "2017-08-11 09:20:51+00:00                      0    1.955232         3.820020   \n",
      "2017-08-11 09:20:52+00:00                      0    2.094837         3.842879   \n",
      "2017-08-11 09:20:53+00:00                      0    1.916399         2.676661   \n",
      "\n",
      "                           acc_l2_pct_5  acc_l2_pct_95  acc_l2_entropy  \\\n",
      "timedata                                                                 \n",
      "2017-08-11 07:20:22+00:00     62.432363      67.039913        7.558797   \n",
      "2017-08-11 07:20:23+00:00     61.900322      67.240240        7.558608   \n",
      "2017-08-11 07:20:24+00:00     61.530480      68.007353        7.558418   \n",
      "2017-08-11 07:20:25+00:00     60.422678      68.881417        7.558208   \n",
      "2017-08-11 07:20:26+00:00     60.196344      70.245245        7.557905   \n",
      "...                                 ...            ...             ...   \n",
      "2017-08-11 09:20:49+00:00     55.870772      77.499639        5.006150   \n",
      "2017-08-11 09:20:50+00:00     59.630524      69.212887        4.768909   \n",
      "2017-08-11 09:20:51+00:00     61.538599      65.358619        4.454151   \n",
      "2017-08-11 09:20:52+00:00     61.488193      65.331072        3.988774   \n",
      "2017-08-11 09:20:53+00:00     61.720544      64.397205        3.090931   \n",
      "\n",
      "                           acc_l2_perm_entropy  acc_l2_svd_entropy  \n",
      "timedata                                                            \n",
      "2017-08-11 07:20:22+00:00             0.952146            0.205135  \n",
      "2017-08-11 07:20:23+00:00             0.953322            0.212012  \n",
      "2017-08-11 07:20:24+00:00             0.955247            0.224669  \n",
      "2017-08-11 07:20:25+00:00             0.958607            0.232575  \n",
      "2017-08-11 07:20:26+00:00             0.961481            0.246742  \n",
      "...                                        ...                 ...  \n",
      "2017-08-11 09:20:49+00:00             0.999967            0.316662  \n",
      "2017-08-11 09:20:50+00:00             0.999509            0.273972  \n",
      "2017-08-11 09:20:51+00:00             0.997381            0.105946  \n",
      "2017-08-11 09:20:52+00:00             0.993055            0.115857  \n",
      "2017-08-11 09:20:53+00:00             0.949452            0.080193  \n",
      "\n",
      "[7232 rows x 177 columns]\n",
      "===================================\n",
      "Printing the timestamp for S17\n",
      "===================================\n",
      "   # ORDER   Base    Fun  Medi 1   TSST  Medi 2  bRead  fRead  sRead\n",
      "0  # START   3.02  30.30   43.53  60.02   89.09  23.37  38.02  77.02\n",
      "1    # END  23.03  37.02   49.50  72.25   96.03  24.55  39.19  78.21\n",
      "\n",
      "Start of the baseline: 3.02\n",
      "End of the baseline: 23.03\n",
      "Start of the fun: 30.3\n",
      "End of the fun: 37.02\n",
      "Start of the stress: 60.02\n",
      "End of the stress: 72.25\n",
      "mode # ORDER\n",
      "mode Base\n",
      "mode Fun\n",
      "mode Medi 1\n",
      "mode TSST\n",
      "mode Medi 2\n",
      "mode bRead\n",
      "mode fRead\n",
      "mode sRead\n",
      "WESAD/S10/S10_readme.txt\n",
      "S10\n",
      "WESAD/S10/S10_E4_Data.zip\n",
      "Reading files\n",
      "Calculating HRV features\n"
     ]
    },
    {
     "name": "stderr",
     "output_type": "stream",
     "text": [
      "/Users/sfoell/anaconda3/envs/radar/lib/python3.7/site-packages/ipykernel_launcher.py:25: SettingWithCopyWarning: \n",
      "A value is trying to be set on a copy of a slice from a DataFrame.\n",
      "Try using .loc[row_indexer,col_indexer] = value instead\n",
      "\n",
      "See the caveats in the documentation: https://pandas.pydata.org/pandas-docs/stable/user_guide/indexing.html#returning-a-view-versus-a-copy\n",
      "/Users/sfoell/anaconda3/envs/radar/lib/python3.7/site-packages/pandas/core/indexing.py:1765: SettingWithCopyWarning: \n",
      "A value is trying to be set on a copy of a slice from a DataFrame.\n",
      "Try using .loc[row_indexer,col_indexer] = value instead\n",
      "\n",
      "See the caveats in the documentation: https://pandas.pydata.org/pandas-docs/stable/user_guide/indexing.html#returning-a-view-versus-a-copy\n",
      "  isetter(loc, value)\n"
     ]
    },
    {
     "data": {
      "application/vnd.jupyter.widget-view+json": {
       "model_id": "eac2d0d38e5c418e9c87c0a08ad67f6f",
       "version_major": 2,
       "version_minor": 0
      },
      "text/plain": [
       "HBox(children=(HTML(value='HRV Time Domain features '), FloatProgress(value=0.0, max=5028.0), HTML(value='')))"
      ]
     },
     "metadata": {},
     "output_type": "display_data"
    },
    {
     "name": "stdout",
     "output_type": "stream",
     "text": [
      "\n"
     ]
    },
    {
     "data": {
      "application/vnd.jupyter.widget-view+json": {
       "model_id": "52c41086ef00477fa32897218a27fe49",
       "version_major": 2,
       "version_minor": 0
      },
      "text/plain": [
       "HBox(children=(HTML(value='HRV Frequency Domain features '), FloatProgress(value=0.0, max=5028.0), HTML(value=…"
      ]
     },
     "metadata": {},
     "output_type": "display_data"
    },
    {
     "name": "stdout",
     "output_type": "stream",
     "text": [
      "\n"
     ]
    },
    {
     "data": {
      "application/vnd.jupyter.widget-view+json": {
       "model_id": "d2c0c6fed6354e39b673a82f3f3bc300",
       "version_major": 2,
       "version_minor": 0
      },
      "text/plain": [
       "HBox(children=(HTML(value='HRV Statistical features '), FloatProgress(value=0.0, max=5028.0), HTML(value='')))"
      ]
     },
     "metadata": {},
     "output_type": "display_data"
    },
    {
     "name": "stdout",
     "output_type": "stream",
     "text": [
      "\n",
      "Calculating EDA features\n"
     ]
    },
    {
     "data": {
      "application/vnd.jupyter.widget-view+json": {
       "model_id": "e1b91729c48e4a3aaabe29de1da23ed5",
       "version_major": 2,
       "version_minor": 0
      },
      "text/plain": [
       "HBox(children=(HTML(value='EDA features'), FloatProgress(value=0.0, max=6822.0), HTML(value='')))"
      ]
     },
     "metadata": {},
     "output_type": "display_data"
    },
    {
     "name": "stdout",
     "output_type": "stream",
     "text": [
      "\n",
      "Calculating ACC features\n"
     ]
    },
    {
     "name": "stderr",
     "output_type": "stream",
     "text": [
      "/Users/sfoell/anaconda3/envs/radar/lib/python3.7/site-packages/ipykernel_launcher.py:10: UserWarning: phasic_entropy contains more than 5% (actual: 72.5%) nan, inf, or -inf values. We recommend to delete this feature column.\n",
      "  # Remove the CWD from sys.path while we load stuff.\n"
     ]
    },
    {
     "data": {
      "application/vnd.jupyter.widget-view+json": {
       "model_id": "a675ed7ba2a64fe285217e566382fc27",
       "version_major": 2,
       "version_minor": 0
      },
      "text/plain": [
       "HBox(children=(HTML(value='ACC features'), FloatProgress(value=0.0, max=6823.0), HTML(value='')))"
      ]
     },
     "metadata": {},
     "output_type": "display_data"
    },
    {
     "name": "stdout",
     "output_type": "stream",
     "text": [
      "\n",
      "                           hrv_mean_nni  hrv_median_nni  hrv_range_nni  \\\n",
      "timedata                                                                 \n",
      "2017-07-25 07:06:08+00:00           NaN             NaN            NaN   \n",
      "2017-07-25 07:06:09+00:00           NaN             NaN            NaN   \n",
      "2017-07-25 07:06:10+00:00           NaN             NaN            NaN   \n",
      "2017-07-25 07:06:11+00:00           NaN             NaN            NaN   \n",
      "2017-07-25 07:06:12+00:00           NaN             NaN            NaN   \n",
      "...                                 ...             ...            ...   \n",
      "2017-07-25 08:59:46+00:00    644.733637         640.654         93.754   \n",
      "2017-07-25 08:59:47+00:00    644.733637         640.654         93.754   \n",
      "2017-07-25 08:59:48+00:00    644.733637         640.654         93.754   \n",
      "2017-07-25 08:59:49+00:00    644.733637         640.654         93.754   \n",
      "2017-07-25 08:59:50+00:00    644.733637         640.654         93.754   \n",
      "\n",
      "                            hrv_sdsd  hrv_rmssd  hrv_nni_50  hrv_pnni_50  \\\n",
      "timedata                                                                   \n",
      "2017-07-25 07:06:08+00:00        NaN        NaN         NaN          NaN   \n",
      "2017-07-25 07:06:09+00:00        NaN        NaN         NaN          NaN   \n",
      "2017-07-25 07:06:10+00:00        NaN        NaN         NaN          NaN   \n",
      "2017-07-25 07:06:11+00:00        NaN        NaN         NaN          NaN   \n",
      "2017-07-25 07:06:12+00:00        NaN        NaN         NaN          NaN   \n",
      "...                              ...        ...         ...          ...   \n",
      "2017-07-25 08:59:46+00:00  18.820357  19.514717         0.0          0.0   \n",
      "2017-07-25 08:59:47+00:00  18.820357  19.514717         0.0          0.0   \n",
      "2017-07-25 08:59:48+00:00  18.820357  19.514717         0.0          0.0   \n",
      "2017-07-25 08:59:49+00:00  18.820357  19.514717         0.0          0.0   \n",
      "2017-07-25 08:59:50+00:00  18.820357  19.514717         0.0          0.0   \n",
      "\n",
      "                           hrv_nni_20  hrv_pnni_20  hrv_cvsd  ...  \\\n",
      "timedata                                                      ...   \n",
      "2017-07-25 07:06:08+00:00         NaN          NaN       NaN  ...   \n",
      "2017-07-25 07:06:09+00:00         NaN          NaN       NaN  ...   \n",
      "2017-07-25 07:06:10+00:00         NaN          NaN       NaN  ...   \n",
      "2017-07-25 07:06:11+00:00         NaN          NaN       NaN  ...   \n",
      "2017-07-25 07:06:12+00:00         NaN          NaN       NaN  ...   \n",
      "...                               ...          ...       ...  ...   \n",
      "2017-07-25 08:59:46+00:00     4.03306    21.183133  0.030268  ...   \n",
      "2017-07-25 08:59:47+00:00     4.03306    21.183133  0.030268  ...   \n",
      "2017-07-25 08:59:48+00:00     4.03306    21.183133  0.030268  ...   \n",
      "2017-07-25 08:59:49+00:00     4.03306    21.183133  0.030268  ...   \n",
      "2017-07-25 08:59:50+00:00     4.03306    21.183133  0.030268  ...   \n",
      "\n",
      "                           acc_l2_n_above_mean  acc_l2_n_below_mean  \\\n",
      "timedata                                                              \n",
      "2017-07-25 07:06:08+00:00                 1271                  649   \n",
      "2017-07-25 07:06:09+00:00                 1255                  665   \n",
      "2017-07-25 07:06:10+00:00                 1243                  677   \n",
      "2017-07-25 07:06:11+00:00                 1137                  783   \n",
      "2017-07-25 07:06:12+00:00                 1205                  715   \n",
      "...                                        ...                  ...   \n",
      "2017-07-25 08:59:46+00:00                   71                   81   \n",
      "2017-07-25 08:59:47+00:00                   46                   74   \n",
      "2017-07-25 08:59:48+00:00                   50                   38   \n",
      "2017-07-25 08:59:49+00:00                   28                   28   \n",
      "2017-07-25 08:59:50+00:00                    7                   17   \n",
      "\n",
      "                           acc_l2_n_sign_changes  acc_l2_iqr  acc_l2_iqr_5_95  \\\n",
      "timedata                                                                        \n",
      "2017-07-25 07:06:08+00:00                      0    0.923105         7.574973   \n",
      "2017-07-25 07:06:09+00:00                      0    0.923105         7.888049   \n",
      "2017-07-25 07:06:10+00:00                      0    0.962592         8.537654   \n",
      "2017-07-25 07:06:11+00:00                      0    0.962592         9.997918   \n",
      "2017-07-25 07:06:12+00:00                      0    1.034784        10.910142   \n",
      "...                                          ...         ...              ...   \n",
      "2017-07-25 08:59:46+00:00                      0    1.178894         5.553313   \n",
      "2017-07-25 08:59:47+00:00                      0    1.822358         6.060961   \n",
      "2017-07-25 08:59:48+00:00                      0    1.507054         3.500162   \n",
      "2017-07-25 08:59:49+00:00                      0    1.123240         2.296253   \n",
      "2017-07-25 08:59:50+00:00                      0    0.919317         1.970233   \n",
      "\n",
      "                           acc_l2_pct_5  acc_l2_pct_95  acc_l2_entropy  \\\n",
      "timedata                                                                 \n",
      "2017-07-25 07:06:08+00:00     59.344755      66.919728        7.558724   \n",
      "2017-07-25 07:06:09+00:00     59.344755      67.232804        7.558683   \n",
      "2017-07-25 07:06:10+00:00     58.828139      67.365792        7.558464   \n",
      "2017-07-25 07:06:11+00:00     58.076673      68.074591        7.557455   \n",
      "2017-07-25 07:06:12+00:00     57.277831      68.187973        7.557237   \n",
      "...                                 ...            ...             ...   \n",
      "2017-07-25 08:59:46+00:00     60.645273      66.198586        5.023528   \n",
      "2017-07-25 08:59:47+00:00     60.552850      66.613811        4.787048   \n",
      "2017-07-25 08:59:48+00:00     60.890430      64.390592        4.477180   \n",
      "2017-07-25 08:59:49+00:00     61.775792      64.072045        4.025243   \n",
      "2017-07-25 08:59:50+00:00     61.951594      63.921827        3.177988   \n",
      "\n",
      "                           acc_l2_perm_entropy  acc_l2_svd_entropy  \n",
      "timedata                                                            \n",
      "2017-07-25 07:06:08+00:00             0.968838            0.194018  \n",
      "2017-07-25 07:06:09+00:00             0.970706            0.195768  \n",
      "2017-07-25 07:06:10+00:00             0.973105            0.213642  \n",
      "2017-07-25 07:06:11+00:00             0.976234            0.241295  \n",
      "2017-07-25 07:06:12+00:00             0.978386            0.251290  \n",
      "...                                        ...                 ...  \n",
      "2017-07-25 08:59:46+00:00             0.996065            0.108603  \n",
      "2017-07-25 08:59:47+00:00             0.999947            0.118541  \n",
      "2017-07-25 08:59:48+00:00             0.997503            0.088525  \n",
      "2017-07-25 08:59:49+00:00             0.993570            0.088281  \n",
      "2017-07-25 08:59:50+00:00             0.998364            0.070878  \n",
      "\n",
      "[6823 rows x 177 columns]\n",
      "===================================\n",
      "Printing the timestamp for S10\n",
      "===================================\n",
      "   # ORDER  Base    Fun  Medi 1   TSST  Medi 2  bRead  fRead  sRead\n",
      "0  # START   2.5  27.53   38.42  54.30   83.17  23.39  34.58  71.22\n",
      "1    # END  22.5  34.25   45.40  66.55   90.15  24.50  36.15  72.27\n",
      "\n",
      "Start of the baseline: 2.5\n",
      "End of the baseline: 22.5\n",
      "Start of the fun: 27.53\n",
      "End of the fun: 34.25\n",
      "Start of the stress: 54.3\n",
      "End of the stress: 66.55\n",
      "mode # ORDER\n",
      "mode Base\n",
      "mode Fun\n",
      "mode Medi 1\n",
      "mode TSST\n",
      "mode Medi 2\n",
      "mode bRead\n",
      "mode fRead\n",
      "mode sRead\n",
      "WESAD/S11/S11_readme.txt\n",
      "S11\n",
      "WESAD/S11/S11_E4_Data.zip\n",
      "Reading files\n",
      "Calculating HRV features\n"
     ]
    },
    {
     "name": "stderr",
     "output_type": "stream",
     "text": [
      "/Users/sfoell/anaconda3/envs/radar/lib/python3.7/site-packages/ipykernel_launcher.py:25: SettingWithCopyWarning: \n",
      "A value is trying to be set on a copy of a slice from a DataFrame.\n",
      "Try using .loc[row_indexer,col_indexer] = value instead\n",
      "\n",
      "See the caveats in the documentation: https://pandas.pydata.org/pandas-docs/stable/user_guide/indexing.html#returning-a-view-versus-a-copy\n",
      "/Users/sfoell/anaconda3/envs/radar/lib/python3.7/site-packages/pandas/core/indexing.py:1765: SettingWithCopyWarning: \n",
      "A value is trying to be set on a copy of a slice from a DataFrame.\n",
      "Try using .loc[row_indexer,col_indexer] = value instead\n",
      "\n",
      "See the caveats in the documentation: https://pandas.pydata.org/pandas-docs/stable/user_guide/indexing.html#returning-a-view-versus-a-copy\n",
      "  isetter(loc, value)\n"
     ]
    },
    {
     "data": {
      "application/vnd.jupyter.widget-view+json": {
       "model_id": "ce65acb7fbee4745b5feac12ae79e5f4",
       "version_major": 2,
       "version_minor": 0
      },
      "text/plain": [
       "HBox(children=(HTML(value='HRV Time Domain features '), FloatProgress(value=0.0, max=3118.0), HTML(value='')))"
      ]
     },
     "metadata": {},
     "output_type": "display_data"
    },
    {
     "name": "stdout",
     "output_type": "stream",
     "text": [
      "\n"
     ]
    },
    {
     "data": {
      "application/vnd.jupyter.widget-view+json": {
       "model_id": "888c25ce40a149d18bda656d54efdba9",
       "version_major": 2,
       "version_minor": 0
      },
      "text/plain": [
       "HBox(children=(HTML(value='HRV Frequency Domain features '), FloatProgress(value=0.0, max=3118.0), HTML(value=…"
      ]
     },
     "metadata": {},
     "output_type": "display_data"
    },
    {
     "name": "stdout",
     "output_type": "stream",
     "text": [
      "\n"
     ]
    },
    {
     "data": {
      "application/vnd.jupyter.widget-view+json": {
       "model_id": "609b5dca20a6449388367ee5d1590df5",
       "version_major": 2,
       "version_minor": 0
      },
      "text/plain": [
       "HBox(children=(HTML(value='HRV Statistical features '), FloatProgress(value=0.0, max=3118.0), HTML(value='')))"
      ]
     },
     "metadata": {},
     "output_type": "display_data"
    },
    {
     "name": "stdout",
     "output_type": "stream",
     "text": [
      "\n",
      "Calculating EDA features\n"
     ]
    },
    {
     "data": {
      "application/vnd.jupyter.widget-view+json": {
       "model_id": "f230d4f488b84bc28ec5a147eab96033",
       "version_major": 2,
       "version_minor": 0
      },
      "text/plain": [
       "HBox(children=(HTML(value='EDA features'), FloatProgress(value=0.0, max=6461.0), HTML(value='')))"
      ]
     },
     "metadata": {},
     "output_type": "display_data"
    },
    {
     "name": "stdout",
     "output_type": "stream",
     "text": [
      "\n",
      "Calculating ACC features\n"
     ]
    },
    {
     "name": "stderr",
     "output_type": "stream",
     "text": [
      "/Users/sfoell/anaconda3/envs/radar/lib/python3.7/site-packages/ipykernel_launcher.py:10: UserWarning: phasic_entropy contains more than 5% (actual: 65.13%) nan, inf, or -inf values. We recommend to delete this feature column.\n",
      "  # Remove the CWD from sys.path while we load stuff.\n"
     ]
    },
    {
     "data": {
      "application/vnd.jupyter.widget-view+json": {
       "model_id": "ddbff08c77074707a4b7e8d99c2c8a33",
       "version_major": 2,
       "version_minor": 0
      },
      "text/plain": [
       "HBox(children=(HTML(value='ACC features'), FloatProgress(value=0.0, max=6461.0), HTML(value='')))"
      ]
     },
     "metadata": {},
     "output_type": "display_data"
    },
    {
     "name": "stdout",
     "output_type": "stream",
     "text": [
      "\n",
      "                           hrv_mean_nni  hrv_median_nni  hrv_range_nni  \\\n",
      "timedata                                                                 \n",
      "2017-07-25 11:15:19+00:00           NaN             NaN            NaN   \n",
      "2017-07-25 11:15:20+00:00           NaN             NaN            NaN   \n",
      "2017-07-25 11:15:21+00:00           NaN             NaN            NaN   \n",
      "2017-07-25 11:15:22+00:00           NaN             NaN            NaN   \n",
      "2017-07-25 11:15:23+00:00           NaN             NaN            NaN   \n",
      "...                                 ...             ...            ...   \n",
      "2017-07-25 13:02:55+00:00    739.721124         734.409        343.766   \n",
      "2017-07-25 13:02:56+00:00    739.721124         734.409        343.766   \n",
      "2017-07-25 13:02:57+00:00    739.721124         734.409        343.766   \n",
      "2017-07-25 13:02:58+00:00    739.721124         734.409        343.766   \n",
      "2017-07-25 13:02:59+00:00    739.721124         734.409        343.766   \n",
      "\n",
      "                            hrv_sdsd  hrv_rmssd  hrv_nni_50  hrv_pnni_50  \\\n",
      "timedata                                                                   \n",
      "2017-07-25 11:15:19+00:00        NaN        NaN         NaN          NaN   \n",
      "2017-07-25 11:15:20+00:00        NaN        NaN         NaN          NaN   \n",
      "2017-07-25 11:15:21+00:00        NaN        NaN         NaN          NaN   \n",
      "2017-07-25 11:15:22+00:00        NaN        NaN         NaN          NaN   \n",
      "2017-07-25 11:15:23+00:00        NaN        NaN         NaN          NaN   \n",
      "...                              ...        ...         ...          ...   \n",
      "2017-07-25 13:02:55+00:00  87.166388   87.49099   10.363322    59.654657   \n",
      "2017-07-25 13:02:56+00:00  87.166388   87.49099   10.363322    59.654657   \n",
      "2017-07-25 13:02:57+00:00  87.166388   87.49099   10.363322    59.654657   \n",
      "2017-07-25 13:02:58+00:00  87.166388   87.49099   10.363322    59.654657   \n",
      "2017-07-25 13:02:59+00:00  87.166388   87.49099   10.363322    59.654657   \n",
      "\n",
      "                           hrv_nni_20  hrv_pnni_20  hrv_cvsd  ...  \\\n",
      "timedata                                                      ...   \n",
      "2017-07-25 11:15:19+00:00         NaN          NaN       NaN  ...   \n",
      "2017-07-25 11:15:20+00:00         NaN          NaN       NaN  ...   \n",
      "2017-07-25 11:15:21+00:00         NaN          NaN       NaN  ...   \n",
      "2017-07-25 11:15:22+00:00         NaN          NaN       NaN  ...   \n",
      "2017-07-25 11:15:23+00:00         NaN          NaN       NaN  ...   \n",
      "...                               ...          ...       ...  ...   \n",
      "2017-07-25 13:02:55+00:00   15.363322    88.472759  0.118274  ...   \n",
      "2017-07-25 13:02:56+00:00   15.363322    88.472759  0.118274  ...   \n",
      "2017-07-25 13:02:57+00:00   15.363322    88.472759  0.118274  ...   \n",
      "2017-07-25 13:02:58+00:00   15.363322    88.472759  0.118274  ...   \n",
      "2017-07-25 13:02:59+00:00   15.363322    88.472759  0.118274  ...   \n",
      "\n",
      "                           acc_l2_n_above_mean  acc_l2_n_below_mean  \\\n",
      "timedata                                                              \n",
      "2017-07-25 11:15:19+00:00                  360                 1560   \n",
      "2017-07-25 11:15:20+00:00                  369                 1551   \n",
      "2017-07-25 11:15:21+00:00                  383                 1537   \n",
      "2017-07-25 11:15:22+00:00                  397                 1523   \n",
      "2017-07-25 11:15:23+00:00                  410                 1510   \n",
      "...                                        ...                  ...   \n",
      "2017-07-25 13:02:55+00:00                   40                  104   \n",
      "2017-07-25 13:02:56+00:00                   33                   79   \n",
      "2017-07-25 13:02:57+00:00                   35                   45   \n",
      "2017-07-25 13:02:58+00:00                   19                   29   \n",
      "2017-07-25 13:02:59+00:00                    4                   12   \n",
      "\n",
      "                           acc_l2_n_sign_changes  acc_l2_iqr  acc_l2_iqr_5_95  \\\n",
      "timedata                                                                        \n",
      "2017-07-25 11:15:19+00:00                      0    0.919547        41.741070   \n",
      "2017-07-25 11:15:20+00:00                      0    1.114325        43.322512   \n",
      "2017-07-25 11:15:21+00:00                      0    1.114325        45.874720   \n",
      "2017-07-25 11:15:22+00:00                      0    1.417006        49.437975   \n",
      "2017-07-25 11:15:23+00:00                      0    1.695149        50.371213   \n",
      "...                                          ...         ...              ...   \n",
      "2017-07-25 13:02:55+00:00                      0    2.224797        23.910088   \n",
      "2017-07-25 13:02:56+00:00                      0    1.434588        25.632288   \n",
      "2017-07-25 13:02:57+00:00                      0    1.029510         3.725077   \n",
      "2017-07-25 13:02:58+00:00                      0    0.970503         3.107040   \n",
      "2017-07-25 13:02:59+00:00                      0    0.459879         1.499976   \n",
      "\n",
      "                           acc_l2_pct_5  acc_l2_pct_95  acc_l2_entropy  \\\n",
      "timedata                                                                 \n",
      "2017-07-25 11:15:19+00:00     51.512616      93.253686        7.540156   \n",
      "2017-07-25 11:15:20+00:00     50.451951      93.774462        7.539042   \n",
      "2017-07-25 11:15:21+00:00     50.049956      95.924676        7.536624   \n",
      "2017-07-25 11:15:22+00:00     50.049956      99.487931        7.534669   \n",
      "2017-07-25 11:15:23+00:00     49.652283     100.023496        7.533821   \n",
      "...                                 ...            ...             ...   \n",
      "2017-07-25 13:02:55+00:00     56.742475      80.652563        4.965285   \n",
      "2017-07-25 13:02:56+00:00     54.300739      79.933027        4.714007   \n",
      "2017-07-25 13:02:57+00:00     61.348166      65.073243        4.381863   \n",
      "2017-07-25 13:02:58+00:00     61.862183      64.969223        3.871082   \n",
      "2017-07-25 13:02:59+00:00     62.474624      63.974600        2.772552   \n",
      "\n",
      "                           acc_l2_perm_entropy  acc_l2_svd_entropy  \n",
      "timedata                                                            \n",
      "2017-07-25 11:15:19+00:00             0.953710            0.481254  \n",
      "2017-07-25 11:15:20+00:00             0.956757            0.494407  \n",
      "2017-07-25 11:15:21+00:00             0.957502            0.509086  \n",
      "2017-07-25 11:15:22+00:00             0.960416            0.517381  \n",
      "2017-07-25 11:15:23+00:00             0.962531            0.524842  \n",
      "...                                        ...                 ...  \n",
      "2017-07-25 13:02:55+00:00             0.998221            0.206678  \n",
      "2017-07-25 13:02:56+00:00             0.992641            0.186756  \n",
      "2017-07-25 13:02:57+00:00             0.996956            0.088960  \n",
      "2017-07-25 13:02:58+00:00             0.982474            0.068289  \n",
      "2017-07-25 13:02:59+00:00             0.995727            0.046736  \n",
      "\n",
      "[6461 rows x 177 columns]\n",
      "===================================\n",
      "Printing the timestamp for S11\n",
      "===================================\n",
      "   # ORDER   Base   TSST  Medi 1    Fun  Medi 2  bRead  sRead  fRead\n",
      "0  # START   2.23  32.45   60.30  69.27   79.09  22.55  48.00  76.28\n",
      "1    # END  22.23  44.25   67.25  75.55   86.05  24.05  49.12  77.38\n",
      "\n",
      "Start of the baseline: 2.23\n",
      "End of the baseline: 22.23\n",
      "Start of the fun: 69.27\n",
      "End of the fun: 75.55\n",
      "Start of the stress: 32.45\n",
      "End of the stress: 44.25\n",
      "mode # ORDER\n",
      "mode Base\n",
      "mode TSST\n",
      "mode Medi 1\n",
      "mode Fun\n",
      "mode Medi 2\n",
      "mode bRead\n",
      "mode sRead\n",
      "mode fRead\n",
      "WESAD/S16/S16_readme.txt\n",
      "S16\n",
      "WESAD/S16/S16_E4_Data.zip\n",
      "Reading files\n",
      "Calculating HRV features\n"
     ]
    },
    {
     "name": "stderr",
     "output_type": "stream",
     "text": [
      "/Users/sfoell/anaconda3/envs/radar/lib/python3.7/site-packages/ipykernel_launcher.py:25: SettingWithCopyWarning: \n",
      "A value is trying to be set on a copy of a slice from a DataFrame.\n",
      "Try using .loc[row_indexer,col_indexer] = value instead\n",
      "\n",
      "See the caveats in the documentation: https://pandas.pydata.org/pandas-docs/stable/user_guide/indexing.html#returning-a-view-versus-a-copy\n",
      "/Users/sfoell/anaconda3/envs/radar/lib/python3.7/site-packages/pandas/core/indexing.py:1765: SettingWithCopyWarning: \n",
      "A value is trying to be set on a copy of a slice from a DataFrame.\n",
      "Try using .loc[row_indexer,col_indexer] = value instead\n",
      "\n",
      "See the caveats in the documentation: https://pandas.pydata.org/pandas-docs/stable/user_guide/indexing.html#returning-a-view-versus-a-copy\n",
      "  isetter(loc, value)\n"
     ]
    },
    {
     "data": {
      "application/vnd.jupyter.widget-view+json": {
       "model_id": "5b72d46725f3423193ce7bd3e58e65f1",
       "version_major": 2,
       "version_minor": 0
      },
      "text/plain": [
       "HBox(children=(HTML(value='HRV Time Domain features '), FloatProgress(value=0.0, max=3743.0), HTML(value='')))"
      ]
     },
     "metadata": {},
     "output_type": "display_data"
    },
    {
     "name": "stdout",
     "output_type": "stream",
     "text": [
      "\n"
     ]
    },
    {
     "data": {
      "application/vnd.jupyter.widget-view+json": {
       "model_id": "eb2f69f1682a48898a824a76c94cfb62",
       "version_major": 2,
       "version_minor": 0
      },
      "text/plain": [
       "HBox(children=(HTML(value='HRV Frequency Domain features '), FloatProgress(value=0.0, max=3743.0), HTML(value=…"
      ]
     },
     "metadata": {},
     "output_type": "display_data"
    },
    {
     "name": "stdout",
     "output_type": "stream",
     "text": [
      "\n"
     ]
    },
    {
     "data": {
      "application/vnd.jupyter.widget-view+json": {
       "model_id": "1f7ef863085b4f139143283b926d6dfb",
       "version_major": 2,
       "version_minor": 0
      },
      "text/plain": [
       "HBox(children=(HTML(value='HRV Statistical features '), FloatProgress(value=0.0, max=3743.0), HTML(value='')))"
      ]
     },
     "metadata": {},
     "output_type": "display_data"
    },
    {
     "name": "stdout",
     "output_type": "stream",
     "text": [
      "\n",
      "Calculating EDA features\n"
     ]
    },
    {
     "data": {
      "application/vnd.jupyter.widget-view+json": {
       "model_id": "c8758c10c38a4ffe8cfca16826b3c3f8",
       "version_major": 2,
       "version_minor": 0
      },
      "text/plain": [
       "HBox(children=(HTML(value='EDA features'), FloatProgress(value=0.0, max=7107.0), HTML(value='')))"
      ]
     },
     "metadata": {},
     "output_type": "display_data"
    },
    {
     "name": "stdout",
     "output_type": "stream",
     "text": [
      "\n",
      "Calculating ACC features\n"
     ]
    },
    {
     "name": "stderr",
     "output_type": "stream",
     "text": [
      "/Users/sfoell/anaconda3/envs/radar/lib/python3.7/site-packages/ipykernel_launcher.py:10: UserWarning: phasic_entropy contains more than 5% (actual: 71.13%) nan, inf, or -inf values. We recommend to delete this feature column.\n",
      "  # Remove the CWD from sys.path while we load stuff.\n"
     ]
    },
    {
     "data": {
      "application/vnd.jupyter.widget-view+json": {
       "model_id": "d3ffdf1ed178403d93f77e93bd1dad84",
       "version_major": 2,
       "version_minor": 0
      },
      "text/plain": [
       "HBox(children=(HTML(value='ACC features'), FloatProgress(value=0.0, max=7108.0), HTML(value='')))"
      ]
     },
     "metadata": {},
     "output_type": "display_data"
    },
    {
     "name": "stdout",
     "output_type": "stream",
     "text": [
      "\n",
      "                           hrv_mean_nni  hrv_median_nni  hrv_range_nni  \\\n",
      "timedata                                                                 \n",
      "2017-08-10 12:00:25+00:00           NaN             NaN            NaN   \n",
      "2017-08-10 12:00:26+00:00           NaN             NaN            NaN   \n",
      "2017-08-10 12:00:27+00:00           NaN             NaN            NaN   \n",
      "2017-08-10 12:00:28+00:00           NaN             NaN            NaN   \n",
      "2017-08-10 12:00:29+00:00           NaN             NaN            NaN   \n",
      "...                                 ...             ...            ...   \n",
      "2017-08-10 13:58:48+00:00    685.210185         671.906        156.257   \n",
      "2017-08-10 13:58:49+00:00    685.210185         671.906        156.257   \n",
      "2017-08-10 13:58:50+00:00    685.210185         671.906        156.257   \n",
      "2017-08-10 13:58:51+00:00    685.210185         671.906        156.257   \n",
      "2017-08-10 13:58:52+00:00    685.210185         671.906        156.257   \n",
      "\n",
      "                            hrv_sdsd  hrv_rmssd  hrv_nni_50  hrv_pnni_50  \\\n",
      "timedata                                                                   \n",
      "2017-08-10 12:00:25+00:00        NaN        NaN         NaN          NaN   \n",
      "2017-08-10 12:00:26+00:00        NaN        NaN         NaN          NaN   \n",
      "2017-08-10 12:00:27+00:00        NaN        NaN         NaN          NaN   \n",
      "2017-08-10 12:00:28+00:00        NaN        NaN         NaN          NaN   \n",
      "2017-08-10 12:00:29+00:00        NaN        NaN         NaN          NaN   \n",
      "...                              ...        ...         ...          ...   \n",
      "2017-08-10 13:58:48+00:00  40.261332  40.277077    2.108631    11.619326   \n",
      "2017-08-10 13:58:49+00:00  40.261332  40.277077    2.108631    11.619326   \n",
      "2017-08-10 13:58:50+00:00  40.261332  40.277077    2.108631    11.619326   \n",
      "2017-08-10 13:58:51+00:00  40.261332  40.277077    2.108631    11.619326   \n",
      "2017-08-10 13:58:52+00:00  40.261332  40.277077    2.108631    11.619326   \n",
      "\n",
      "                           hrv_nni_20  hrv_pnni_20  hrv_cvsd  ...  \\\n",
      "timedata                                                      ...   \n",
      "2017-08-10 12:00:25+00:00         NaN          NaN       NaN  ...   \n",
      "2017-08-10 12:00:26+00:00         NaN          NaN       NaN  ...   \n",
      "2017-08-10 12:00:27+00:00         NaN          NaN       NaN  ...   \n",
      "2017-08-10 12:00:28+00:00         NaN          NaN       NaN  ...   \n",
      "2017-08-10 12:00:29+00:00         NaN          NaN       NaN  ...   \n",
      "...                               ...          ...       ...  ...   \n",
      "2017-08-10 13:58:48+00:00   10.108631    55.809663   0.05878  ...   \n",
      "2017-08-10 13:58:49+00:00   10.108631    55.809663   0.05878  ...   \n",
      "2017-08-10 13:58:50+00:00   10.108631    55.809663   0.05878  ...   \n",
      "2017-08-10 13:58:51+00:00   10.108631    55.809663   0.05878  ...   \n",
      "2017-08-10 13:58:52+00:00   10.108631    55.809663   0.05878  ...   \n",
      "\n",
      "                           acc_l2_n_above_mean  acc_l2_n_below_mean  \\\n",
      "timedata                                                              \n",
      "2017-08-10 12:00:25+00:00                  741                 1179   \n",
      "2017-08-10 12:00:26+00:00                  715                 1205   \n",
      "2017-08-10 12:00:27+00:00                  692                 1228   \n",
      "2017-08-10 12:00:28+00:00                  677                 1243   \n",
      "2017-08-10 12:00:29+00:00                  656                 1264   \n",
      "...                                        ...                  ...   \n",
      "2017-08-10 13:58:48+00:00                   51                   83   \n",
      "2017-08-10 13:58:49+00:00                   33                   69   \n",
      "2017-08-10 13:58:50+00:00                   19                   51   \n",
      "2017-08-10 13:58:51+00:00                   14                   24   \n",
      "2017-08-10 13:58:52+00:00                    1                    5   \n",
      "\n",
      "                           acc_l2_n_sign_changes  acc_l2_iqr  acc_l2_iqr_5_95  \\\n",
      "timedata                                                                        \n",
      "2017-08-10 12:00:25+00:00                      0    0.526608         8.320267   \n",
      "2017-08-10 12:00:26+00:00                      0    0.679033         8.320267   \n",
      "2017-08-10 12:00:27+00:00                      0    0.719207         8.320267   \n",
      "2017-08-10 12:00:28+00:00                      0    0.719207         8.320267   \n",
      "2017-08-10 12:00:29+00:00                      0    0.719207         8.320267   \n",
      "...                                          ...         ...              ...   \n",
      "2017-08-10 13:58:48+00:00                      0    1.884133         5.725094   \n",
      "2017-08-10 13:58:49+00:00                      0    1.868466         5.656157   \n",
      "2017-08-10 13:58:50+00:00                      0    1.692193         2.855549   \n",
      "2017-08-10 13:58:51+00:00                      0    1.884133         4.491543   \n",
      "2017-08-10 13:58:52+00:00                      0    0.071641         1.609127   \n",
      "\n",
      "                           acc_l2_pct_5  acc_l2_pct_95  acc_l2_entropy  \\\n",
      "timedata                                                                 \n",
      "2017-08-10 12:00:25+00:00     59.512603      67.832870        7.558430   \n",
      "2017-08-10 12:00:26+00:00     59.512603      67.832870        7.558429   \n",
      "2017-08-10 12:00:27+00:00     59.512603      67.832870        7.558428   \n",
      "2017-08-10 12:00:28+00:00     59.512603      67.832870        7.558427   \n",
      "2017-08-10 12:00:29+00:00     59.512603      67.832870        7.558426   \n",
      "...                                 ...            ...             ...   \n",
      "2017-08-10 13:58:48+00:00     60.365346      66.090440        4.897337   \n",
      "2017-08-10 13:58:49+00:00     60.511428      66.167584        4.624394   \n",
      "2017-08-10 13:58:50+00:00     61.670492      64.526041        4.248316   \n",
      "2017-08-10 13:58:51+00:00     61.476623      65.968166        3.637311   \n",
      "2017-08-10 13:58:52+00:00     62.091410      63.700536        3.637311   \n",
      "\n",
      "                           acc_l2_perm_entropy  acc_l2_svd_entropy  \n",
      "timedata                                                            \n",
      "2017-08-10 12:00:25+00:00             0.958607            0.210225  \n",
      "2017-08-10 12:00:26+00:00             0.959698            0.210267  \n",
      "2017-08-10 12:00:27+00:00             0.962878            0.210299  \n",
      "2017-08-10 12:00:28+00:00             0.964587            0.210344  \n",
      "2017-08-10 12:00:29+00:00             0.965259            0.210379  \n",
      "...                                        ...                 ...  \n",
      "2017-08-10 13:58:48+00:00             0.987818            0.166511  \n",
      "2017-08-10 13:58:49+00:00             0.987526            0.181079  \n",
      "2017-08-10 13:58:50+00:00             0.972670            0.112661  \n",
      "2017-08-10 13:58:51+00:00             0.970951            0.138081  \n",
      "2017-08-10 13:58:52+00:00             0.970951            0.138081  \n",
      "\n",
      "[7108 rows x 177 columns]\n",
      "===================================\n",
      "Printing the timestamp for S16\n",
      "===================================\n",
      "   # ORDER  Base   TSST  Medi 1    Fun  Medi 2  bRead  sRead  fRead\n",
      "0  # START   3.0  34.30   63.15  73.22   84.56  23.28  50.36  80.30\n",
      "1    # END  23.0  46.03   70.10  79.50   91.53  24.43  51.53  81.43\n",
      "\n",
      "Start of the baseline: 3.0\n",
      "End of the baseline: 23.0\n",
      "Start of the fun: 73.22\n",
      "End of the fun: 79.5\n",
      "Start of the stress: 34.3\n",
      "End of the stress: 46.03\n",
      "mode # ORDER\n",
      "mode Base\n",
      "mode TSST\n",
      "mode Medi 1\n",
      "mode Fun\n",
      "mode Medi 2\n",
      "mode bRead\n",
      "mode sRead\n",
      "mode fRead\n",
      "WESAD/S8/S8_readme.txt\n",
      "S8\n",
      "WESAD/S8/S8_E4_Data.zip\n",
      "Reading files\n",
      "Calculating HRV features\n"
     ]
    },
    {
     "name": "stderr",
     "output_type": "stream",
     "text": [
      "/Users/sfoell/anaconda3/envs/radar/lib/python3.7/site-packages/ipykernel_launcher.py:25: SettingWithCopyWarning: \n",
      "A value is trying to be set on a copy of a slice from a DataFrame.\n",
      "Try using .loc[row_indexer,col_indexer] = value instead\n",
      "\n",
      "See the caveats in the documentation: https://pandas.pydata.org/pandas-docs/stable/user_guide/indexing.html#returning-a-view-versus-a-copy\n",
      "/Users/sfoell/anaconda3/envs/radar/lib/python3.7/site-packages/pandas/core/indexing.py:1765: SettingWithCopyWarning: \n",
      "A value is trying to be set on a copy of a slice from a DataFrame.\n",
      "Try using .loc[row_indexer,col_indexer] = value instead\n",
      "\n",
      "See the caveats in the documentation: https://pandas.pydata.org/pandas-docs/stable/user_guide/indexing.html#returning-a-view-versus-a-copy\n",
      "  isetter(loc, value)\n"
     ]
    },
    {
     "data": {
      "application/vnd.jupyter.widget-view+json": {
       "model_id": "3cc2f09ef98d417d829fd1f4110d8e1b",
       "version_major": 2,
       "version_minor": 0
      },
      "text/plain": [
       "HBox(children=(HTML(value='HRV Time Domain features '), FloatProgress(value=0.0, max=2254.0), HTML(value='')))"
      ]
     },
     "metadata": {},
     "output_type": "display_data"
    },
    {
     "name": "stdout",
     "output_type": "stream",
     "text": [
      "\n"
     ]
    },
    {
     "data": {
      "application/vnd.jupyter.widget-view+json": {
       "model_id": "ffe5afdfcb6c4e7e9b84ab72505b3671",
       "version_major": 2,
       "version_minor": 0
      },
      "text/plain": [
       "HBox(children=(HTML(value='HRV Frequency Domain features '), FloatProgress(value=0.0, max=2254.0), HTML(value=…"
      ]
     },
     "metadata": {},
     "output_type": "display_data"
    },
    {
     "name": "stdout",
     "output_type": "stream",
     "text": [
      "\n"
     ]
    },
    {
     "data": {
      "application/vnd.jupyter.widget-view+json": {
       "model_id": "9efe184db8684860a695b12c9760190b",
       "version_major": 2,
       "version_minor": 0
      },
      "text/plain": [
       "HBox(children=(HTML(value='HRV Statistical features '), FloatProgress(value=0.0, max=2254.0), HTML(value='')))"
      ]
     },
     "metadata": {},
     "output_type": "display_data"
    },
    {
     "name": "stdout",
     "output_type": "stream",
     "text": [
      "\n",
      "Calculating EDA features\n"
     ]
    },
    {
     "data": {
      "application/vnd.jupyter.widget-view+json": {
       "model_id": "523762f634b1481aae7b2e76a37ccb3d",
       "version_major": 2,
       "version_minor": 0
      },
      "text/plain": [
       "HBox(children=(HTML(value='EDA features'), FloatProgress(value=0.0, max=6638.0), HTML(value='')))"
      ]
     },
     "metadata": {},
     "output_type": "display_data"
    },
    {
     "name": "stdout",
     "output_type": "stream",
     "text": [
      "\n",
      "Calculating ACC features\n"
     ]
    },
    {
     "name": "stderr",
     "output_type": "stream",
     "text": [
      "/Users/sfoell/anaconda3/envs/radar/lib/python3.7/site-packages/ipykernel_launcher.py:10: UserWarning: phasic_entropy contains more than 5% (actual: 71.75%) nan, inf, or -inf values. We recommend to delete this feature column.\n",
      "  # Remove the CWD from sys.path while we load stuff.\n"
     ]
    },
    {
     "data": {
      "application/vnd.jupyter.widget-view+json": {
       "model_id": "87d20e650c0644ecb78f186d37c56fa5",
       "version_major": 2,
       "version_minor": 0
      },
      "text/plain": [
       "HBox(children=(HTML(value='ACC features'), FloatProgress(value=0.0, max=6639.0), HTML(value='')))"
      ]
     },
     "metadata": {},
     "output_type": "display_data"
    },
    {
     "name": "stdout",
     "output_type": "stream",
     "text": [
      "\n",
      "                           hrv_mean_nni  hrv_median_nni  hrv_range_nni  \\\n",
      "timedata                                                                 \n",
      "2017-07-10 11:11:40+00:00           NaN             NaN            NaN   \n",
      "2017-07-10 11:11:41+00:00           NaN             NaN            NaN   \n",
      "2017-07-10 11:11:42+00:00           NaN             NaN            NaN   \n",
      "2017-07-10 11:11:43+00:00           NaN             NaN            NaN   \n",
      "2017-07-10 11:11:44+00:00           NaN             NaN            NaN   \n",
      "...                                 ...             ...            ...   \n",
      "2017-07-10 13:02:14+00:00    773.956643      750.122701         437.52   \n",
      "2017-07-10 13:02:15+00:00    773.956643      750.122701         437.52   \n",
      "2017-07-10 13:02:16+00:00    773.956643      750.122701         437.52   \n",
      "2017-07-10 13:02:17+00:00    773.956643      750.122701         437.52   \n",
      "2017-07-10 13:02:18+00:00    773.956643      750.122701         437.52   \n",
      "\n",
      "                             hrv_sdsd   hrv_rmssd  hrv_nni_50  hrv_pnni_50  \\\n",
      "timedata                                                                     \n",
      "2017-07-10 11:11:40+00:00         NaN         NaN         NaN          NaN   \n",
      "2017-07-10 11:11:41+00:00         NaN         NaN         NaN          NaN   \n",
      "2017-07-10 11:11:42+00:00         NaN         NaN         NaN          NaN   \n",
      "2017-07-10 11:11:43+00:00         NaN         NaN         NaN          NaN   \n",
      "2017-07-10 11:11:44+00:00         NaN         NaN         NaN          NaN   \n",
      "...                               ...         ...         ...          ...   \n",
      "2017-07-10 13:02:14+00:00  115.044005  115.195662    8.011353    47.092215   \n",
      "2017-07-10 13:02:15+00:00  115.044005  115.195662    8.011353    47.092215   \n",
      "2017-07-10 13:02:16+00:00  115.044005  115.195662    8.011353    47.092215   \n",
      "2017-07-10 13:02:17+00:00  115.044005  115.195662    8.011353    47.092215   \n",
      "2017-07-10 13:02:18+00:00  115.044005  115.195662    8.011353    47.092215   \n",
      "\n",
      "                           hrv_nni_20  hrv_pnni_20  hrv_cvsd  ...  \\\n",
      "timedata                                                      ...   \n",
      "2017-07-10 11:11:40+00:00         NaN          NaN       NaN  ...   \n",
      "2017-07-10 11:11:41+00:00         NaN          NaN       NaN  ...   \n",
      "2017-07-10 11:11:42+00:00         NaN          NaN       NaN  ...   \n",
      "2017-07-10 11:11:43+00:00         NaN          NaN       NaN  ...   \n",
      "2017-07-10 11:11:44+00:00         NaN          NaN       NaN  ...   \n",
      "...                               ...          ...       ...  ...   \n",
      "2017-07-10 13:02:14+00:00   10.011353      58.8495   0.14884  ...   \n",
      "2017-07-10 13:02:15+00:00   10.011353      58.8495   0.14884  ...   \n",
      "2017-07-10 13:02:16+00:00   10.011353      58.8495   0.14884  ...   \n",
      "2017-07-10 13:02:17+00:00   10.011353      58.8495   0.14884  ...   \n",
      "2017-07-10 13:02:18+00:00   10.011353      58.8495   0.14884  ...   \n",
      "\n",
      "                           acc_l2_n_above_mean  acc_l2_n_below_mean  \\\n",
      "timedata                                                              \n",
      "2017-07-10 11:11:40+00:00                  421                 1499   \n",
      "2017-07-10 11:11:41+00:00                  422                 1498   \n",
      "2017-07-10 11:11:42+00:00                  424                 1496   \n",
      "2017-07-10 11:11:43+00:00                  427                 1493   \n",
      "2017-07-10 11:11:44+00:00                  435                 1485   \n",
      "...                                        ...                  ...   \n",
      "2017-07-10 13:02:14+00:00                   56                   86   \n",
      "2017-07-10 13:02:15+00:00                   37                   73   \n",
      "2017-07-10 13:02:16+00:00                   22                   56   \n",
      "2017-07-10 13:02:17+00:00                   23                   23   \n",
      "2017-07-10 13:02:18+00:00                   10                    4   \n",
      "\n",
      "                           acc_l2_n_sign_changes  acc_l2_iqr  acc_l2_iqr_5_95  \\\n",
      "timedata                                                                        \n",
      "2017-07-10 11:11:40+00:00                      0    4.164709        62.532995   \n",
      "2017-07-10 11:11:41+00:00                      0    4.260712        63.372833   \n",
      "2017-07-10 11:11:42+00:00                      0    4.453463        63.372833   \n",
      "2017-07-10 11:11:43+00:00                      0    4.602572        63.372833   \n",
      "2017-07-10 11:11:44+00:00                      0    4.796263        63.372833   \n",
      "...                                          ...         ...              ...   \n",
      "2017-07-10 13:02:14+00:00                      0    2.030817         7.116207   \n",
      "2017-07-10 13:02:15+00:00                      0    1.882594         7.102819   \n",
      "2017-07-10 13:02:16+00:00                      0    1.594289         8.190695   \n",
      "2017-07-10 13:02:17+00:00                      0    1.378846         3.962897   \n",
      "2017-07-10 13:02:18+00:00                      0    0.506922         1.307066   \n",
      "\n",
      "                           acc_l2_pct_5  acc_l2_pct_95  acc_l2_entropy  \\\n",
      "timedata                                                                 \n",
      "2017-07-10 11:11:40+00:00     49.122276     111.655272        7.526379   \n",
      "2017-07-10 11:11:41+00:00     49.122276     112.495109        7.525878   \n",
      "2017-07-10 11:11:42+00:00     49.122276     112.495109        7.525944   \n",
      "2017-07-10 11:11:43+00:00     49.122276     112.495109        7.526064   \n",
      "2017-07-10 11:11:44+00:00     49.122276     112.495109        7.525999   \n",
      "...                                 ...            ...             ...   \n",
      "2017-07-10 13:02:14+00:00     60.099491      67.215698        4.952502   \n",
      "2017-07-10 13:02:15+00:00     60.121432      67.224251        4.696346   \n",
      "2017-07-10 13:02:16+00:00     59.755330      67.946024        4.351040   \n",
      "2017-07-10 13:02:17+00:00     61.292309      65.255206        3.828434   \n",
      "2017-07-10 13:02:18+00:00     62.694014      64.001081        2.639030   \n",
      "\n",
      "                           acc_l2_perm_entropy  acc_l2_svd_entropy  \n",
      "timedata                                                            \n",
      "2017-07-10 11:11:40+00:00             0.994649            0.587609  \n",
      "2017-07-10 11:11:41+00:00             0.994386            0.589823  \n",
      "2017-07-10 11:11:42+00:00             0.994778            0.589771  \n",
      "2017-07-10 11:11:43+00:00             0.994117            0.589437  \n",
      "2017-07-10 11:11:44+00:00             0.995156            0.590035  \n",
      "...                                        ...                 ...  \n",
      "2017-07-10 13:02:14+00:00             0.986480            0.329393  \n",
      "2017-07-10 13:02:15+00:00             0.981714            0.355435  \n",
      "2017-07-10 13:02:16+00:00             0.989588            0.396598  \n",
      "2017-07-10 13:02:17+00:00             0.999610            0.114829  \n",
      "2017-07-10 13:02:18+00:00             0.994030            0.043494  \n",
      "\n",
      "[6639 rows x 177 columns]\n",
      "===================================\n",
      "Printing the timestamp for S8\n",
      "===================================\n",
      "   # ORDER   Base   Fun  Medi 1  TSST  Medi 2  bRead  fRead  sRead\n",
      "0  # START   3.56  29.0   39.52  56.1   82.54  24.16  36.03  70.49\n",
      "1    # END  23.45  35.3   46.52  67.4   89.50  25.25  37.15  72.00\n",
      "\n",
      "Start of the baseline: 3.56\n",
      "End of the baseline: 23.45\n",
      "Start of the fun: 29.0\n",
      "End of the fun: 35.3\n",
      "Start of the stress: 56.1\n",
      "End of the stress: 67.4\n",
      "mode # ORDER\n",
      "mode Base\n",
      "mode Fun\n",
      "mode Medi 1\n",
      "mode TSST\n",
      "mode Medi 2\n",
      "mode bRead\n",
      "mode fRead\n",
      "mode sRead\n",
      "WESAD/S6/S6_readme.txt\n",
      "S6\n",
      "WESAD/S6/S6_E4_Data.zip\n",
      "Reading files\n",
      "Calculating HRV features\n"
     ]
    },
    {
     "name": "stderr",
     "output_type": "stream",
     "text": [
      "/Users/sfoell/anaconda3/envs/radar/lib/python3.7/site-packages/ipykernel_launcher.py:25: SettingWithCopyWarning: \n",
      "A value is trying to be set on a copy of a slice from a DataFrame.\n",
      "Try using .loc[row_indexer,col_indexer] = value instead\n",
      "\n",
      "See the caveats in the documentation: https://pandas.pydata.org/pandas-docs/stable/user_guide/indexing.html#returning-a-view-versus-a-copy\n",
      "/Users/sfoell/anaconda3/envs/radar/lib/python3.7/site-packages/pandas/core/indexing.py:1765: SettingWithCopyWarning: \n",
      "A value is trying to be set on a copy of a slice from a DataFrame.\n",
      "Try using .loc[row_indexer,col_indexer] = value instead\n",
      "\n",
      "See the caveats in the documentation: https://pandas.pydata.org/pandas-docs/stable/user_guide/indexing.html#returning-a-view-versus-a-copy\n",
      "  isetter(loc, value)\n"
     ]
    },
    {
     "data": {
      "application/vnd.jupyter.widget-view+json": {
       "model_id": "84c03d463d3541fab283456047b2d241",
       "version_major": 2,
       "version_minor": 0
      },
      "text/plain": [
       "HBox(children=(HTML(value='HRV Time Domain features '), FloatProgress(value=0.0, max=2670.0), HTML(value='')))"
      ]
     },
     "metadata": {},
     "output_type": "display_data"
    },
    {
     "name": "stdout",
     "output_type": "stream",
     "text": [
      "\n"
     ]
    },
    {
     "data": {
      "application/vnd.jupyter.widget-view+json": {
       "model_id": "890b1d83d20c431b872015d6c7b6db27",
       "version_major": 2,
       "version_minor": 0
      },
      "text/plain": [
       "HBox(children=(HTML(value='HRV Frequency Domain features '), FloatProgress(value=0.0, max=2670.0), HTML(value=…"
      ]
     },
     "metadata": {},
     "output_type": "display_data"
    },
    {
     "name": "stdout",
     "output_type": "stream",
     "text": [
      "\n"
     ]
    },
    {
     "data": {
      "application/vnd.jupyter.widget-view+json": {
       "model_id": "cc7d4bc72d3c4d44bfdc18df525424db",
       "version_major": 2,
       "version_minor": 0
      },
      "text/plain": [
       "HBox(children=(HTML(value='HRV Statistical features '), FloatProgress(value=0.0, max=2670.0), HTML(value='')))"
      ]
     },
     "metadata": {},
     "output_type": "display_data"
    },
    {
     "name": "stdout",
     "output_type": "stream",
     "text": [
      "\n",
      "Calculating EDA features\n"
     ]
    },
    {
     "data": {
      "application/vnd.jupyter.widget-view+json": {
       "model_id": "bd337a70a68b490c9897f21b6fa79545",
       "version_major": 2,
       "version_minor": 0
      },
      "text/plain": [
       "HBox(children=(HTML(value='EDA features'), FloatProgress(value=0.0, max=8324.0), HTML(value='')))"
      ]
     },
     "metadata": {},
     "output_type": "display_data"
    },
    {
     "name": "stdout",
     "output_type": "stream",
     "text": [
      "\n",
      "Calculating ACC features\n"
     ]
    },
    {
     "name": "stderr",
     "output_type": "stream",
     "text": [
      "/Users/sfoell/anaconda3/envs/radar/lib/python3.7/site-packages/ipykernel_launcher.py:10: UserWarning: phasic_entropy contains more than 5% (actual: 63.27%) nan, inf, or -inf values. We recommend to delete this feature column.\n",
      "  # Remove the CWD from sys.path while we load stuff.\n"
     ]
    },
    {
     "data": {
      "application/vnd.jupyter.widget-view+json": {
       "model_id": "3f73a6a8679641b1922c60eaadd9390e",
       "version_major": 2,
       "version_minor": 0
      },
      "text/plain": [
       "HBox(children=(HTML(value='ACC features'), FloatProgress(value=0.0, max=8324.0), HTML(value='')))"
      ]
     },
     "metadata": {},
     "output_type": "display_data"
    },
    {
     "name": "stdout",
     "output_type": "stream",
     "text": [
      "\n",
      "                           hrv_mean_nni  hrv_median_nni  hrv_range_nni  \\\n",
      "timedata                                                                 \n",
      "2017-06-14 11:21:38+00:00           NaN             NaN            NaN   \n",
      "2017-06-14 11:21:39+00:00           NaN             NaN            NaN   \n",
      "2017-06-14 11:21:40+00:00           NaN             NaN            NaN   \n",
      "2017-06-14 11:21:41+00:00           NaN             NaN            NaN   \n",
      "2017-06-14 11:21:42+00:00           NaN             NaN            NaN   \n",
      "...                                 ...             ...            ...   \n",
      "2017-06-14 13:40:17+00:00    950.066614      976.770717     233.076284   \n",
      "2017-06-14 13:40:18+00:00    950.066614      976.770717     233.076284   \n",
      "2017-06-14 13:40:19+00:00    950.066614      976.770717     233.076284   \n",
      "2017-06-14 13:40:20+00:00    950.066614      976.770717     233.076284   \n",
      "2017-06-14 13:40:21+00:00    950.066614      976.770717     233.076284   \n",
      "\n",
      "                            hrv_sdsd  hrv_rmssd  hrv_nni_50  hrv_pnni_50  \\\n",
      "timedata                                                                   \n",
      "2017-06-14 11:21:38+00:00        NaN        NaN         NaN          NaN   \n",
      "2017-06-14 11:21:39+00:00        NaN        NaN         NaN          NaN   \n",
      "2017-06-14 11:21:40+00:00        NaN        NaN         NaN          NaN   \n",
      "2017-06-14 11:21:41+00:00        NaN        NaN         NaN          NaN   \n",
      "2017-06-14 11:21:42+00:00        NaN        NaN         NaN          NaN   \n",
      "...                              ...        ...         ...          ...   \n",
      "2017-06-14 13:40:17+00:00  70.483852  71.489342    6.979046    49.919406   \n",
      "2017-06-14 13:40:18+00:00  70.483852  71.489342    6.979046    49.919406   \n",
      "2017-06-14 13:40:19+00:00  70.483852  71.489342    6.979046    49.919406   \n",
      "2017-06-14 13:40:20+00:00  70.483852  71.489342    6.979046    49.919406   \n",
      "2017-06-14 13:40:21+00:00  70.483852  71.489342    6.979046    49.919406   \n",
      "\n",
      "                           hrv_nni_20  hrv_pnni_20  hrv_cvsd  ...  \\\n",
      "timedata                                                      ...   \n",
      "2017-06-14 11:21:38+00:00         NaN          NaN       NaN  ...   \n",
      "2017-06-14 11:21:39+00:00         NaN          NaN       NaN  ...   \n",
      "2017-06-14 11:21:40+00:00         NaN          NaN       NaN  ...   \n",
      "2017-06-14 11:21:41+00:00         NaN          NaN       NaN  ...   \n",
      "2017-06-14 11:21:42+00:00         NaN          NaN       NaN  ...   \n",
      "...                               ...          ...       ...  ...   \n",
      "2017-06-14 13:40:17+00:00   10.979046    78.536888  0.075247  ...   \n",
      "2017-06-14 13:40:18+00:00   10.979046    78.536888  0.075247  ...   \n",
      "2017-06-14 13:40:19+00:00   10.979046    78.536888  0.075247  ...   \n",
      "2017-06-14 13:40:20+00:00   10.979046    78.536888  0.075247  ...   \n",
      "2017-06-14 13:40:21+00:00   10.979046    78.536888  0.075247  ...   \n",
      "\n",
      "                           acc_l2_n_above_mean  acc_l2_n_below_mean  \\\n",
      "timedata                                                              \n",
      "2017-06-14 11:21:38+00:00                  581                 1339   \n",
      "2017-06-14 11:21:39+00:00                  593                 1327   \n",
      "2017-06-14 11:21:40+00:00                  594                 1326   \n",
      "2017-06-14 11:21:41+00:00                  596                 1324   \n",
      "2017-06-14 11:21:42+00:00                  597                 1323   \n",
      "...                                        ...                  ...   \n",
      "2017-06-14 13:40:17+00:00                   57                   87   \n",
      "2017-06-14 13:40:18+00:00                   64                   48   \n",
      "2017-06-14 13:40:19+00:00                   36                   44   \n",
      "2017-06-14 13:40:20+00:00                   25                   23   \n",
      "2017-06-14 13:40:21+00:00                    7                    9   \n",
      "\n",
      "                           acc_l2_n_sign_changes  acc_l2_iqr  acc_l2_iqr_5_95  \\\n",
      "timedata                                                                        \n",
      "2017-06-14 11:21:38+00:00                      0    2.889173        26.815943   \n",
      "2017-06-14 11:21:39+00:00                      0    2.944897        26.889740   \n",
      "2017-06-14 11:21:40+00:00                      0    2.999147        26.889740   \n",
      "2017-06-14 11:21:41+00:00                      0    3.001064        26.889740   \n",
      "2017-06-14 11:21:42+00:00                      0    3.049326        26.889740   \n",
      "...                                          ...         ...              ...   \n",
      "2017-06-14 13:40:17+00:00                      0    1.875078         8.462831   \n",
      "2017-06-14 13:40:18+00:00                      0    1.717826         6.375097   \n",
      "2017-06-14 13:40:19+00:00                      0    1.134416         4.587302   \n",
      "2017-06-14 13:40:20+00:00                      0    1.003779         3.126232   \n",
      "2017-06-14 13:40:21+00:00                      0    1.019926         1.113963   \n",
      "\n",
      "                           acc_l2_pct_5  acc_l2_pct_95  acc_l2_entropy  \\\n",
      "timedata                                                                 \n",
      "2017-06-14 11:21:38+00:00     53.222173      80.038116        7.548691   \n",
      "2017-06-14 11:21:39+00:00     53.148376      80.038116        7.548668   \n",
      "2017-06-14 11:21:40+00:00     53.148376      80.038116        7.548658   \n",
      "2017-06-14 11:21:41+00:00     53.148376      80.038116        7.548654   \n",
      "2017-06-14 11:21:42+00:00     53.148376      80.038116        7.548650   \n",
      "...                                 ...            ...             ...   \n",
      "2017-06-14 13:40:17+00:00     57.426037      65.888868        4.965782   \n",
      "2017-06-14 13:40:18+00:00     58.470466      64.845563        4.717692   \n",
      "2017-06-14 13:40:19+00:00     60.673712      65.261014        4.381370   \n",
      "2017-06-14 13:40:20+00:00     61.113422      64.239654        3.870290   \n",
      "2017-06-14 13:40:21+00:00     62.393910      63.507873        2.772556   \n",
      "\n",
      "                           acc_l2_perm_entropy  acc_l2_svd_entropy  \n",
      "timedata                                                            \n",
      "2017-06-14 11:21:38+00:00             0.989682            0.429089  \n",
      "2017-06-14 11:21:39+00:00             0.989133            0.429468  \n",
      "2017-06-14 11:21:40+00:00             0.989682            0.429607  \n",
      "2017-06-14 11:21:41+00:00             0.991896            0.429656  \n",
      "2017-06-14 11:21:42+00:00             0.993416            0.429692  \n",
      "...                                        ...                 ...  \n",
      "2017-06-14 13:40:17+00:00             0.998221            0.328435  \n",
      "2017-06-14 13:40:18+00:00             0.992641            0.169346  \n",
      "2017-06-14 13:40:19+00:00             0.994030            0.180819  \n",
      "2017-06-14 13:40:20+00:00             0.999644            0.209242  \n",
      "2017-06-14 13:40:21+00:00             0.995727            0.053248  \n",
      "\n",
      "[8324 rows x 177 columns]\n",
      "===================================\n",
      "Printing the timestamp for S6\n",
      "===================================\n",
      "   # ORDER   Base   TSST  Medi 1    Fun  Medi 2  bRead  sRead   fRead\n",
      "0  # START  11.17  41.15   75.54  93.05   109.0  31.35  56.12  104.36\n",
      "1    # END  31.17  52.25   82.51  99.37   115.5  32.53  57.22  106.05\n",
      "\n",
      "Start of the baseline: 11.17\n",
      "End of the baseline: 31.17\n",
      "Start of the fun: 93.05\n",
      "End of the fun: 99.37\n",
      "Start of the stress: 41.15\n",
      "End of the stress: 52.25\n",
      "mode # ORDER\n",
      "mode Base\n",
      "mode TSST\n",
      "mode Medi 1\n",
      "mode Fun\n",
      "mode Medi 2\n",
      "mode bRead\n",
      "mode sRead\n",
      "mode fRead\n",
      "WESAD/S7/S7_readme.txt\n",
      "S7\n",
      "WESAD/S7/S7_E4_Data.zip\n",
      "Reading files\n",
      "Calculating HRV features\n"
     ]
    },
    {
     "name": "stderr",
     "output_type": "stream",
     "text": [
      "/Users/sfoell/anaconda3/envs/radar/lib/python3.7/site-packages/ipykernel_launcher.py:25: SettingWithCopyWarning: \n",
      "A value is trying to be set on a copy of a slice from a DataFrame.\n",
      "Try using .loc[row_indexer,col_indexer] = value instead\n",
      "\n",
      "See the caveats in the documentation: https://pandas.pydata.org/pandas-docs/stable/user_guide/indexing.html#returning-a-view-versus-a-copy\n",
      "/Users/sfoell/anaconda3/envs/radar/lib/python3.7/site-packages/pandas/core/indexing.py:1765: SettingWithCopyWarning: \n",
      "A value is trying to be set on a copy of a slice from a DataFrame.\n",
      "Try using .loc[row_indexer,col_indexer] = value instead\n",
      "\n",
      "See the caveats in the documentation: https://pandas.pydata.org/pandas-docs/stable/user_guide/indexing.html#returning-a-view-versus-a-copy\n",
      "  isetter(loc, value)\n"
     ]
    },
    {
     "data": {
      "application/vnd.jupyter.widget-view+json": {
       "model_id": "04919b07c36444eeb5557142d1a0156d",
       "version_major": 2,
       "version_minor": 0
      },
      "text/plain": [
       "HBox(children=(HTML(value='HRV Time Domain features '), FloatProgress(value=0.0, max=2815.0), HTML(value='')))"
      ]
     },
     "metadata": {},
     "output_type": "display_data"
    },
    {
     "name": "stdout",
     "output_type": "stream",
     "text": [
      "\n"
     ]
    },
    {
     "data": {
      "application/vnd.jupyter.widget-view+json": {
       "model_id": "fd66ab5bb10540d3a239172e6997d84d",
       "version_major": 2,
       "version_minor": 0
      },
      "text/plain": [
       "HBox(children=(HTML(value='HRV Frequency Domain features '), FloatProgress(value=0.0, max=2815.0), HTML(value=…"
      ]
     },
     "metadata": {},
     "output_type": "display_data"
    },
    {
     "name": "stdout",
     "output_type": "stream",
     "text": [
      "\n"
     ]
    },
    {
     "data": {
      "application/vnd.jupyter.widget-view+json": {
       "model_id": "bbd26907d289465387250627f24ba064",
       "version_major": 2,
       "version_minor": 0
      },
      "text/plain": [
       "HBox(children=(HTML(value='HRV Statistical features '), FloatProgress(value=0.0, max=2815.0), HTML(value='')))"
      ]
     },
     "metadata": {},
     "output_type": "display_data"
    },
    {
     "name": "stdout",
     "output_type": "stream",
     "text": [
      "\n",
      "Calculating EDA features\n"
     ]
    },
    {
     "data": {
      "application/vnd.jupyter.widget-view+json": {
       "model_id": "f202d719b98645798cafa860132aae0c",
       "version_major": 2,
       "version_minor": 0
      },
      "text/plain": [
       "HBox(children=(HTML(value='EDA features'), FloatProgress(value=0.0, max=6494.0), HTML(value='')))"
      ]
     },
     "metadata": {},
     "output_type": "display_data"
    },
    {
     "name": "stdout",
     "output_type": "stream",
     "text": [
      "\n",
      "Calculating ACC features\n"
     ]
    },
    {
     "name": "stderr",
     "output_type": "stream",
     "text": [
      "/Users/sfoell/anaconda3/envs/radar/lib/python3.7/site-packages/ipykernel_launcher.py:10: UserWarning: phasic_entropy contains more than 5% (actual: 63.3%) nan, inf, or -inf values. We recommend to delete this feature column.\n",
      "  # Remove the CWD from sys.path while we load stuff.\n"
     ]
    },
    {
     "data": {
      "application/vnd.jupyter.widget-view+json": {
       "model_id": "dcdd7217bd3149b4ba68bfcb6993f37f",
       "version_major": 2,
       "version_minor": 0
      },
      "text/plain": [
       "HBox(children=(HTML(value='ACC features'), FloatProgress(value=0.0, max=6495.0), HTML(value='')))"
      ]
     },
     "metadata": {},
     "output_type": "display_data"
    },
    {
     "name": "stdout",
     "output_type": "stream",
     "text": [
      "\n",
      "                           hrv_mean_nni  hrv_median_nni  hrv_range_nni  \\\n",
      "timedata                                                                 \n",
      "2017-07-06 11:12:04+00:00           NaN             NaN            NaN   \n",
      "2017-07-06 11:12:05+00:00           NaN             NaN            NaN   \n",
      "2017-07-06 11:12:06+00:00           NaN             NaN            NaN   \n",
      "2017-07-06 11:12:07+00:00           NaN             NaN            NaN   \n",
      "2017-07-06 11:12:08+00:00           NaN             NaN            NaN   \n",
      "...                                 ...             ...            ...   \n",
      "2017-07-06 13:00:14+00:00    754.000713          765.66        140.631   \n",
      "2017-07-06 13:00:15+00:00    754.000713          765.66        140.631   \n",
      "2017-07-06 13:00:16+00:00    754.000713          765.66        140.631   \n",
      "2017-07-06 13:00:17+00:00    754.000713          765.66        140.631   \n",
      "2017-07-06 13:00:18+00:00    754.000713          765.66        140.631   \n",
      "\n",
      "                            hrv_sdsd  hrv_rmssd  hrv_nni_50  hrv_pnni_50  \\\n",
      "timedata                                                                   \n",
      "2017-07-06 11:12:04+00:00        NaN        NaN         NaN          NaN   \n",
      "2017-07-06 11:12:05+00:00        NaN        NaN         NaN          NaN   \n",
      "2017-07-06 11:12:06+00:00        NaN        NaN         NaN          NaN   \n",
      "2017-07-06 11:12:07+00:00        NaN        NaN         NaN          NaN   \n",
      "2017-07-06 11:12:08+00:00        NaN        NaN         NaN          NaN   \n",
      "...                              ...        ...         ...          ...   \n",
      "2017-07-06 13:00:14+00:00  79.882683  79.901195         9.0    54.923214   \n",
      "2017-07-06 13:00:15+00:00  79.882683  79.901195         9.0    54.923214   \n",
      "2017-07-06 13:00:16+00:00  79.882683  79.901195         9.0    54.923214   \n",
      "2017-07-06 13:00:17+00:00  79.882683  79.901195         9.0    54.923214   \n",
      "2017-07-06 13:00:18+00:00  79.882683  79.901195         9.0    54.923214   \n",
      "\n",
      "                           hrv_nni_20  hrv_pnni_20  hrv_cvsd  ...  \\\n",
      "timedata                                                      ...   \n",
      "2017-07-06 11:12:04+00:00         NaN          NaN       NaN  ...   \n",
      "2017-07-06 11:12:05+00:00         NaN          NaN       NaN  ...   \n",
      "2017-07-06 11:12:06+00:00         NaN          NaN       NaN  ...   \n",
      "2017-07-06 11:12:07+00:00         NaN          NaN       NaN  ...   \n",
      "2017-07-06 11:12:08+00:00         NaN          NaN       NaN  ...   \n",
      "...                               ...          ...       ...  ...   \n",
      "2017-07-06 13:00:14+00:00        11.0    67.128373  0.105973  ...   \n",
      "2017-07-06 13:00:15+00:00        11.0    67.128373  0.105973  ...   \n",
      "2017-07-06 13:00:16+00:00        11.0    67.128373  0.105973  ...   \n",
      "2017-07-06 13:00:17+00:00        11.0    67.128373  0.105973  ...   \n",
      "2017-07-06 13:00:18+00:00        11.0    67.128373  0.105973  ...   \n",
      "\n",
      "                           acc_l2_n_above_mean  acc_l2_n_below_mean  \\\n",
      "timedata                                                              \n",
      "2017-07-06 11:12:04+00:00                  681                 1239   \n",
      "2017-07-06 11:12:05+00:00                  666                 1254   \n",
      "2017-07-06 11:12:06+00:00                  648                 1272   \n",
      "2017-07-06 11:12:07+00:00                  647                 1273   \n",
      "2017-07-06 11:12:08+00:00                  642                 1278   \n",
      "...                                        ...                  ...   \n",
      "2017-07-06 13:00:14+00:00                   84                   58   \n",
      "2017-07-06 13:00:15+00:00                   61                   49   \n",
      "2017-07-06 13:00:16+00:00                   39                   39   \n",
      "2017-07-06 13:00:17+00:00                   37                    9   \n",
      "2017-07-06 13:00:18+00:00                    5                    9   \n",
      "\n",
      "                           acc_l2_n_sign_changes  acc_l2_iqr  acc_l2_iqr_5_95  \\\n",
      "timedata                                                                        \n",
      "2017-07-06 11:12:04+00:00                      0    0.524277         2.707292   \n",
      "2017-07-06 11:12:05+00:00                      0    0.524277         2.440278   \n",
      "2017-07-06 11:12:06+00:00                      0    0.476795         2.439888   \n",
      "2017-07-06 11:12:07+00:00                      0    0.476795         2.377877   \n",
      "2017-07-06 11:12:08+00:00                      0    0.476795         2.820787   \n",
      "...                                          ...         ...              ...   \n",
      "2017-07-06 13:00:14+00:00                      0    2.884904        12.280013   \n",
      "2017-07-06 13:00:15+00:00                      0    2.635555        10.780841   \n",
      "2017-07-06 13:00:16+00:00                      0    1.383655         8.885969   \n",
      "2017-07-06 13:00:17+00:00                      0    1.078861         3.719807   \n",
      "2017-07-06 13:00:18+00:00                      0    0.990909         1.078861   \n",
      "\n",
      "                           acc_l2_pct_5  acc_l2_pct_95  acc_l2_entropy  \\\n",
      "timedata                                                                 \n",
      "2017-07-06 11:12:04+00:00     61.587336      64.294629        7.559811   \n",
      "2017-07-06 11:12:05+00:00     61.692787      64.133065        7.559831   \n",
      "2017-07-06 11:12:06+00:00     61.692787      64.132675        7.559832   \n",
      "2017-07-06 11:12:07+00:00     61.692787      64.070664        7.559836   \n",
      "2017-07-06 11:12:08+00:00     61.595048      64.415835        7.559797   \n",
      "...                                 ...            ...             ...   \n",
      "2017-07-06 13:00:14+00:00     56.107486      68.387499        4.953691   \n",
      "2017-07-06 13:00:15+00:00     57.290275      68.071116        4.698310   \n",
      "2017-07-06 13:00:16+00:00     58.502416      67.388386        4.354827   \n",
      "2017-07-06 13:00:17+00:00     60.876925      64.596732        3.826530   \n",
      "2017-07-06 13:00:18+00:00     62.489999      63.568860        2.639028   \n",
      "\n",
      "                           acc_l2_perm_entropy  acc_l2_svd_entropy  \n",
      "timedata                                                            \n",
      "2017-07-06 11:12:04+00:00             0.920368            0.116566  \n",
      "2017-07-06 11:12:05+00:00             0.912991            0.110561  \n",
      "2017-07-06 11:12:06+00:00             0.904699            0.110200  \n",
      "2017-07-06 11:12:07+00:00             0.902992            0.108616  \n",
      "2017-07-06 11:12:08+00:00             0.905828            0.117681  \n",
      "...                                        ...                 ...  \n",
      "2017-07-06 13:00:14+00:00             0.999066            0.228171  \n",
      "2017-07-06 13:00:15+00:00             0.999937            0.230715  \n",
      "2017-07-06 13:00:16+00:00             0.999872            0.208584  \n",
      "2017-07-06 13:00:17+00:00             0.999610            0.227685  \n",
      "2017-07-06 13:00:18+00:00             0.845351            0.051886  \n",
      "\n",
      "[6495 rows x 177 columns]\n",
      "===================================\n",
      "Printing the timestamp for S7\n",
      "===================================\n",
      "   # ORDER   Base    Fun  Medi 1  TSST  Medi 2  bRead  fRead  sRead\n",
      "0  # START   2.14  26.24   37.21  52.1   78.07  22.36  33.30  66.37\n",
      "1    # END  22.20  32.56   44.18  63.1   85.00  23.46  34.43  67.41\n",
      "\n",
      "Start of the baseline: 2.14\n",
      "End of the baseline: 22.2\n",
      "Start of the fun: 26.24\n",
      "End of the fun: 32.56\n",
      "Start of the stress: 52.1\n",
      "End of the stress: 63.1\n",
      "mode # ORDER\n",
      "mode Base\n",
      "mode Fun\n",
      "mode Medi 1\n",
      "mode TSST\n",
      "mode Medi 2\n",
      "mode bRead\n",
      "mode fRead\n",
      "mode sRead\n",
      "WESAD/S9/S9_readme.txt\n",
      "S9\n",
      "WESAD/S9/S9_E4_Data.zip\n",
      "Reading files\n",
      "Calculating HRV features\n"
     ]
    },
    {
     "name": "stderr",
     "output_type": "stream",
     "text": [
      "/Users/sfoell/anaconda3/envs/radar/lib/python3.7/site-packages/ipykernel_launcher.py:25: SettingWithCopyWarning: \n",
      "A value is trying to be set on a copy of a slice from a DataFrame.\n",
      "Try using .loc[row_indexer,col_indexer] = value instead\n",
      "\n",
      "See the caveats in the documentation: https://pandas.pydata.org/pandas-docs/stable/user_guide/indexing.html#returning-a-view-versus-a-copy\n",
      "/Users/sfoell/anaconda3/envs/radar/lib/python3.7/site-packages/pandas/core/indexing.py:1765: SettingWithCopyWarning: \n",
      "A value is trying to be set on a copy of a slice from a DataFrame.\n",
      "Try using .loc[row_indexer,col_indexer] = value instead\n",
      "\n",
      "See the caveats in the documentation: https://pandas.pydata.org/pandas-docs/stable/user_guide/indexing.html#returning-a-view-versus-a-copy\n",
      "  isetter(loc, value)\n"
     ]
    },
    {
     "data": {
      "application/vnd.jupyter.widget-view+json": {
       "model_id": "f7ed28cb80334822988f89f2e57e0b60",
       "version_major": 2,
       "version_minor": 0
      },
      "text/plain": [
       "HBox(children=(HTML(value='HRV Time Domain features '), FloatProgress(value=0.0, max=3212.0), HTML(value='')))"
      ]
     },
     "metadata": {},
     "output_type": "display_data"
    },
    {
     "name": "stdout",
     "output_type": "stream",
     "text": [
      "\n"
     ]
    },
    {
     "data": {
      "application/vnd.jupyter.widget-view+json": {
       "model_id": "c65056650c8943f58e8c7c290d1e0d06",
       "version_major": 2,
       "version_minor": 0
      },
      "text/plain": [
       "HBox(children=(HTML(value='HRV Frequency Domain features '), FloatProgress(value=0.0, max=3212.0), HTML(value=…"
      ]
     },
     "metadata": {},
     "output_type": "display_data"
    },
    {
     "name": "stdout",
     "output_type": "stream",
     "text": [
      "\n"
     ]
    },
    {
     "data": {
      "application/vnd.jupyter.widget-view+json": {
       "model_id": "9c104d1856c5461e954f2315c7699a26",
       "version_major": 2,
       "version_minor": 0
      },
      "text/plain": [
       "HBox(children=(HTML(value='HRV Statistical features '), FloatProgress(value=0.0, max=3212.0), HTML(value='')))"
      ]
     },
     "metadata": {},
     "output_type": "display_data"
    },
    {
     "name": "stdout",
     "output_type": "stream",
     "text": [
      "\n",
      "Calculating EDA features\n"
     ]
    },
    {
     "data": {
      "application/vnd.jupyter.widget-view+json": {
       "model_id": "6f937e32f949485fab48bb266bff8999",
       "version_major": 2,
       "version_minor": 0
      },
      "text/plain": [
       "HBox(children=(HTML(value='EDA features'), FloatProgress(value=0.0, max=6228.0), HTML(value='')))"
      ]
     },
     "metadata": {},
     "output_type": "display_data"
    },
    {
     "name": "stdout",
     "output_type": "stream",
     "text": [
      "\n",
      "Calculating ACC features\n"
     ]
    },
    {
     "name": "stderr",
     "output_type": "stream",
     "text": [
      "/Users/sfoell/anaconda3/envs/radar/lib/python3.7/site-packages/ipykernel_launcher.py:10: UserWarning: phasic_entropy contains more than 5% (actual: 71.76%) nan, inf, or -inf values. We recommend to delete this feature column.\n",
      "  # Remove the CWD from sys.path while we load stuff.\n"
     ]
    },
    {
     "data": {
      "application/vnd.jupyter.widget-view+json": {
       "model_id": "4f6f874956494420b43260398a0d3da0",
       "version_major": 2,
       "version_minor": 0
      },
      "text/plain": [
       "HBox(children=(HTML(value='ACC features'), FloatProgress(value=0.0, max=6229.0), HTML(value='')))"
      ]
     },
     "metadata": {},
     "output_type": "display_data"
    },
    {
     "name": "stdout",
     "output_type": "stream",
     "text": [
      "\n",
      "                           hrv_mean_nni  hrv_median_nni  hrv_range_nni  \\\n",
      "timedata                                                                 \n",
      "2017-07-11 11:11:41+00:00           NaN             NaN            NaN   \n",
      "2017-07-11 11:11:42+00:00           NaN             NaN            NaN   \n",
      "2017-07-11 11:11:43+00:00           NaN             NaN            NaN   \n",
      "2017-07-11 11:11:44+00:00           NaN             NaN            NaN   \n",
      "2017-07-11 11:11:45+00:00           NaN             NaN            NaN   \n",
      "...                                 ...             ...            ...   \n",
      "2017-07-11 12:55:25+00:00    833.490192         859.414        281.263   \n",
      "2017-07-11 12:55:26+00:00    833.490192         859.414        281.263   \n",
      "2017-07-11 12:55:27+00:00    833.490192         859.414        281.263   \n",
      "2017-07-11 12:55:28+00:00    833.490192         859.414        281.263   \n",
      "2017-07-11 12:55:29+00:00    833.490192         859.414        281.263   \n",
      "\n",
      "                            hrv_sdsd  hrv_rmssd  hrv_nni_50  hrv_pnni_50  \\\n",
      "timedata                                                                   \n",
      "2017-07-11 11:11:41+00:00        NaN        NaN         NaN          NaN   \n",
      "2017-07-11 11:11:42+00:00        NaN        NaN         NaN          NaN   \n",
      "2017-07-11 11:11:43+00:00        NaN        NaN         NaN          NaN   \n",
      "2017-07-11 11:11:44+00:00        NaN        NaN         NaN          NaN   \n",
      "2017-07-11 11:11:45+00:00        NaN        NaN         NaN          NaN   \n",
      "...                              ...        ...         ...          ...   \n",
      "2017-07-11 12:55:25+00:00  42.160597  43.826775    4.072983    27.001173   \n",
      "2017-07-11 12:55:26+00:00  42.160597  43.826775    4.072983    27.001173   \n",
      "2017-07-11 12:55:27+00:00  42.160597  43.826775    4.072983    27.001173   \n",
      "2017-07-11 12:55:28+00:00  42.160597  43.826775    4.072983    27.001173   \n",
      "2017-07-11 12:55:29+00:00  42.160597  43.826775    4.072983    27.001173   \n",
      "\n",
      "                           hrv_nni_20  hrv_pnni_20  hrv_cvsd  ...  \\\n",
      "timedata                                                      ...   \n",
      "2017-07-11 11:11:41+00:00         NaN          NaN       NaN  ...   \n",
      "2017-07-11 11:11:42+00:00         NaN          NaN       NaN  ...   \n",
      "2017-07-11 11:11:43+00:00         NaN          NaN       NaN  ...   \n",
      "2017-07-11 11:11:44+00:00         NaN          NaN       NaN  ...   \n",
      "2017-07-11 11:11:45+00:00         NaN          NaN       NaN  ...   \n",
      "...                               ...          ...       ...  ...   \n",
      "2017-07-11 12:55:25+00:00   10.072983    66.818715  0.052582  ...   \n",
      "2017-07-11 12:55:26+00:00   10.072983    66.818715  0.052582  ...   \n",
      "2017-07-11 12:55:27+00:00   10.072983    66.818715  0.052582  ...   \n",
      "2017-07-11 12:55:28+00:00   10.072983    66.818715  0.052582  ...   \n",
      "2017-07-11 12:55:29+00:00   10.072983    66.818715  0.052582  ...   \n",
      "\n",
      "                           acc_l2_n_above_mean  acc_l2_n_below_mean  \\\n",
      "timedata                                                              \n",
      "2017-07-11 11:11:41+00:00                  398                 1522   \n",
      "2017-07-11 11:11:42+00:00                  417                 1503   \n",
      "2017-07-11 11:11:43+00:00                  423                 1497   \n",
      "2017-07-11 11:11:44+00:00                  426                 1494   \n",
      "2017-07-11 11:11:45+00:00                  437                 1483   \n",
      "...                                        ...                  ...   \n",
      "2017-07-11 12:55:25+00:00                   77                   69   \n",
      "2017-07-11 12:55:26+00:00                   60                   54   \n",
      "2017-07-11 12:55:27+00:00                   44                   38   \n",
      "2017-07-11 12:55:28+00:00                   34                   16   \n",
      "2017-07-11 12:55:29+00:00                   11                    7   \n",
      "\n",
      "                           acc_l2_n_sign_changes  acc_l2_iqr  acc_l2_iqr_5_95  \\\n",
      "timedata                                                                        \n",
      "2017-07-11 11:11:41+00:00                      0    0.906615        24.356313   \n",
      "2017-07-11 11:11:42+00:00                      0    0.913433        25.123133   \n",
      "2017-07-11 11:11:43+00:00                      0    1.008833        29.238924   \n",
      "2017-07-11 11:11:44+00:00                      0    1.127908        31.595524   \n",
      "2017-07-11 11:11:45+00:00                      0    1.398852        32.554203   \n",
      "...                                          ...         ...              ...   \n",
      "2017-07-11 12:55:25+00:00                      0    2.455267        15.164202   \n",
      "2017-07-11 12:55:26+00:00                      0    1.997288         9.170346   \n",
      "2017-07-11 12:55:27+00:00                      0    2.110122        14.257409   \n",
      "2017-07-11 12:55:28+00:00                      0    0.975465         4.998324   \n",
      "2017-07-11 12:55:29+00:00                      0    0.055461         2.003777   \n",
      "\n",
      "                           acc_l2_pct_5  acc_l2_pct_95  acc_l2_entropy  \\\n",
      "timedata                                                                 \n",
      "2017-07-11 11:11:41+00:00     53.486446      77.842759        7.550128   \n",
      "2017-07-11 11:11:42+00:00     53.071175      78.194309        7.549823   \n",
      "2017-07-11 11:11:43+00:00     51.467951      80.706875        7.548127   \n",
      "2017-07-11 11:11:44+00:00     51.270330      82.865853        7.547457   \n",
      "2017-07-11 11:11:45+00:00     50.508400      83.062603        7.547135   \n",
      "...                                 ...            ...             ...   \n",
      "2017-07-11 12:55:25+00:00     54.138879      69.303081        4.980149   \n",
      "2017-07-11 12:55:26+00:00     59.120636      68.290982        4.733553   \n",
      "2017-07-11 12:55:27+00:00     55.178742      69.436150        4.403119   \n",
      "2017-07-11 12:55:28+00:00     60.166840      65.165164        3.909287   \n",
      "2017-07-11 12:55:29+00:00     62.128898      64.132675        2.890330   \n",
      "\n",
      "                           acc_l2_perm_entropy  acc_l2_svd_entropy  \n",
      "timedata                                                            \n",
      "2017-07-11 11:11:41+00:00             0.943064            0.421783  \n",
      "2017-07-11 11:11:42+00:00             0.945200            0.425480  \n",
      "2017-07-11 11:11:43+00:00             0.946878            0.460356  \n",
      "2017-07-11 11:11:44+00:00             0.948530            0.465726  \n",
      "2017-07-11 11:11:45+00:00             0.951751            0.469880  \n",
      "...                                        ...                 ...  \n",
      "2017-07-11 12:55:25+00:00             0.987228            0.300670  \n",
      "2017-07-11 12:55:26+00:00             0.968804            0.256667  \n",
      "2017-07-11 12:55:27+00:00             0.966334            0.286746  \n",
      "2017-07-11 12:55:28+00:00             0.983939            0.277966  \n",
      "2017-07-11 12:55:29+00:00             0.970951            0.071502  \n",
      "\n",
      "[6229 rows x 177 columns]\n",
      "===================================\n",
      "Printing the timestamp for S9\n",
      "===================================\n",
      "   # ORDER   Base   TSST  Medi 1    Fun  Medi 2  bRead  sRead  fRead\n",
      "0  # START   1.48  31.45   59.02  68.11   78.45  22.16  46.49   75.3\n",
      "1    # END  21.48  42.50   66.00  74.43   85.40  23.36  48.11   76.5\n",
      "\n",
      "Start of the baseline: 1.48\n",
      "End of the baseline: 21.48\n",
      "Start of the fun: 68.11\n",
      "End of the fun: 74.43\n",
      "Start of the stress: 31.45\n",
      "End of the stress: 42.5\n",
      "mode # ORDER\n",
      "mode Base\n",
      "mode TSST\n",
      "mode Medi 1\n",
      "mode Fun\n",
      "mode Medi 2\n",
      "mode bRead\n",
      "mode sRead\n",
      "mode fRead\n",
      "WESAD/S13/S13_readme.txt\n",
      "S13\n",
      "WESAD/S13/S13_E4_Data.zip\n",
      "Reading files\n",
      "Calculating HRV features\n"
     ]
    },
    {
     "name": "stderr",
     "output_type": "stream",
     "text": [
      "/Users/sfoell/anaconda3/envs/radar/lib/python3.7/site-packages/ipykernel_launcher.py:25: SettingWithCopyWarning: \n",
      "A value is trying to be set on a copy of a slice from a DataFrame.\n",
      "Try using .loc[row_indexer,col_indexer] = value instead\n",
      "\n",
      "See the caveats in the documentation: https://pandas.pydata.org/pandas-docs/stable/user_guide/indexing.html#returning-a-view-versus-a-copy\n",
      "/Users/sfoell/anaconda3/envs/radar/lib/python3.7/site-packages/pandas/core/indexing.py:1765: SettingWithCopyWarning: \n",
      "A value is trying to be set on a copy of a slice from a DataFrame.\n",
      "Try using .loc[row_indexer,col_indexer] = value instead\n",
      "\n",
      "See the caveats in the documentation: https://pandas.pydata.org/pandas-docs/stable/user_guide/indexing.html#returning-a-view-versus-a-copy\n",
      "  isetter(loc, value)\n"
     ]
    },
    {
     "data": {
      "application/vnd.jupyter.widget-view+json": {
       "model_id": "8ce0e4e1d2064a35bc1524329b1a0e2e",
       "version_major": 2,
       "version_minor": 0
      },
      "text/plain": [
       "HBox(children=(HTML(value='HRV Time Domain features '), FloatProgress(value=0.0, max=2732.0), HTML(value='')))"
      ]
     },
     "metadata": {},
     "output_type": "display_data"
    },
    {
     "name": "stdout",
     "output_type": "stream",
     "text": [
      "\n"
     ]
    },
    {
     "data": {
      "application/vnd.jupyter.widget-view+json": {
       "model_id": "b2b5ca20219a423790b1c396e4e2f485",
       "version_major": 2,
       "version_minor": 0
      },
      "text/plain": [
       "HBox(children=(HTML(value='HRV Frequency Domain features '), FloatProgress(value=0.0, max=2732.0), HTML(value=…"
      ]
     },
     "metadata": {},
     "output_type": "display_data"
    },
    {
     "name": "stdout",
     "output_type": "stream",
     "text": [
      "\n"
     ]
    },
    {
     "data": {
      "application/vnd.jupyter.widget-view+json": {
       "model_id": "7846accd56fe4013b4786d88a4604a0b",
       "version_major": 2,
       "version_minor": 0
      },
      "text/plain": [
       "HBox(children=(HTML(value='HRV Statistical features '), FloatProgress(value=0.0, max=2732.0), HTML(value='')))"
      ]
     },
     "metadata": {},
     "output_type": "display_data"
    },
    {
     "name": "stdout",
     "output_type": "stream",
     "text": [
      "\n",
      "Calculating EDA features\n"
     ]
    },
    {
     "data": {
      "application/vnd.jupyter.widget-view+json": {
       "model_id": "56aaab7ca0e247cc8b2426f084c0e592",
       "version_major": 2,
       "version_minor": 0
      },
      "text/plain": [
       "HBox(children=(HTML(value='EDA features'), FloatProgress(value=0.0, max=6863.0), HTML(value='')))"
      ]
     },
     "metadata": {},
     "output_type": "display_data"
    },
    {
     "name": "stdout",
     "output_type": "stream",
     "text": [
      "\n",
      "Calculating ACC features\n"
     ]
    },
    {
     "name": "stderr",
     "output_type": "stream",
     "text": [
      "/Users/sfoell/anaconda3/envs/radar/lib/python3.7/site-packages/ipykernel_launcher.py:10: UserWarning: phasic_entropy contains more than 5% (actual: 60.7%) nan, inf, or -inf values. We recommend to delete this feature column.\n",
      "  # Remove the CWD from sys.path while we load stuff.\n"
     ]
    },
    {
     "data": {
      "application/vnd.jupyter.widget-view+json": {
       "model_id": "6195ad15ce7e47419b31c6ec3951ed52",
       "version_major": 2,
       "version_minor": 0
      },
      "text/plain": [
       "HBox(children=(HTML(value='ACC features'), FloatProgress(value=0.0, max=6863.0), HTML(value='')))"
      ]
     },
     "metadata": {},
     "output_type": "display_data"
    },
    {
     "name": "stdout",
     "output_type": "stream",
     "text": [
      "\n",
      "                           hrv_mean_nni  hrv_median_nni  hrv_range_nni  \\\n",
      "timedata                                                                 \n",
      "2017-08-08 11:14:07+00:00           NaN             NaN            NaN   \n",
      "2017-08-08 11:14:08+00:00           NaN             NaN            NaN   \n",
      "2017-08-08 11:14:09+00:00           NaN             NaN            NaN   \n",
      "2017-08-08 11:14:10+00:00           NaN             NaN            NaN   \n",
      "2017-08-08 11:14:11+00:00           NaN             NaN            NaN   \n",
      "...                                 ...             ...            ...   \n",
      "2017-08-08 13:08:25+00:00    746.713735         750.034     116.723813   \n",
      "2017-08-08 13:08:26+00:00    746.713735         750.034     116.723813   \n",
      "2017-08-08 13:08:27+00:00    746.713735         750.034     116.723813   \n",
      "2017-08-08 13:08:28+00:00    746.713735         750.034     116.723813   \n",
      "2017-08-08 13:08:29+00:00    746.713735         750.034     116.723813   \n",
      "\n",
      "                            hrv_sdsd  hrv_rmssd  hrv_nni_50  hrv_pnni_50  \\\n",
      "timedata                                                                   \n",
      "2017-08-08 11:14:07+00:00        NaN        NaN         NaN          NaN   \n",
      "2017-08-08 11:14:08+00:00        NaN        NaN         NaN          NaN   \n",
      "2017-08-08 11:14:09+00:00        NaN        NaN         NaN          NaN   \n",
      "2017-08-08 11:14:10+00:00        NaN        NaN         NaN          NaN   \n",
      "2017-08-08 11:14:11+00:00        NaN        NaN         NaN          NaN   \n",
      "...                              ...        ...         ...          ...   \n",
      "2017-08-08 13:08:25+00:00  34.993452  35.024587    2.234987    12.210465   \n",
      "2017-08-08 13:08:26+00:00  34.993452  35.024587    2.234987    12.210465   \n",
      "2017-08-08 13:08:27+00:00  34.993452  35.024587    2.234987    12.210465   \n",
      "2017-08-08 13:08:28+00:00  34.993452  35.024587    2.234987    12.210465   \n",
      "2017-08-08 13:08:29+00:00  34.993452  35.024587    2.234987    12.210465   \n",
      "\n",
      "                           hrv_nni_20  hrv_pnni_20  hrv_cvsd  ...  \\\n",
      "timedata                                                      ...   \n",
      "2017-08-08 11:14:07+00:00         NaN          NaN       NaN  ...   \n",
      "2017-08-08 11:14:08+00:00         NaN          NaN       NaN  ...   \n",
      "2017-08-08 11:14:09+00:00         NaN          NaN       NaN  ...   \n",
      "2017-08-08 11:14:10+00:00         NaN          NaN       NaN  ...   \n",
      "2017-08-08 11:14:11+00:00         NaN          NaN       NaN  ...   \n",
      "...                               ...          ...       ...  ...   \n",
      "2017-08-08 13:08:25+00:00   10.234987    56.105233  0.046902  ...   \n",
      "2017-08-08 13:08:26+00:00   10.234987    56.105233  0.046902  ...   \n",
      "2017-08-08 13:08:27+00:00   10.234987    56.105233  0.046902  ...   \n",
      "2017-08-08 13:08:28+00:00   10.234987    56.105233  0.046902  ...   \n",
      "2017-08-08 13:08:29+00:00   10.234987    56.105233  0.046902  ...   \n",
      "\n",
      "                           acc_l2_n_above_mean  acc_l2_n_below_mean  \\\n",
      "timedata                                                              \n",
      "2017-08-08 11:14:07+00:00                  420                 1500   \n",
      "2017-08-08 11:14:08+00:00                  428                 1492   \n",
      "2017-08-08 11:14:09+00:00                  437                 1483   \n",
      "2017-08-08 11:14:10+00:00                  451                 1469   \n",
      "2017-08-08 11:14:11+00:00                  463                 1457   \n",
      "...                                        ...                  ...   \n",
      "2017-08-08 13:08:25+00:00                   75                   75   \n",
      "2017-08-08 13:08:26+00:00                   59                   59   \n",
      "2017-08-08 13:08:27+00:00                   47                   39   \n",
      "2017-08-08 13:08:28+00:00                   27                   27   \n",
      "2017-08-08 13:08:29+00:00                   14                    8   \n",
      "\n",
      "                           acc_l2_n_sign_changes  acc_l2_iqr  acc_l2_iqr_5_95  \\\n",
      "timedata                                                                        \n",
      "2017-08-08 11:14:07+00:00                      0    2.507304        45.010056   \n",
      "2017-08-08 11:14:08+00:00                      0    2.587953        45.010056   \n",
      "2017-08-08 11:14:09+00:00                      0    3.026169        47.424314   \n",
      "2017-08-08 11:14:10+00:00                      0    3.444104        47.592393   \n",
      "2017-08-08 11:14:11+00:00                      0    3.802233        47.662856   \n",
      "...                                          ...         ...              ...   \n",
      "2017-08-08 13:08:25+00:00                      0    3.096784         9.548495   \n",
      "2017-08-08 13:08:26+00:00                      0    3.050999        11.261256   \n",
      "2017-08-08 13:08:27+00:00                      0    2.602081        12.489333   \n",
      "2017-08-08 13:08:28+00:00                      0    1.331277         3.645122   \n",
      "2017-08-08 13:08:29+00:00                      0    0.989294         2.038320   \n",
      "\n",
      "                           acc_l2_pct_5  acc_l2_pct_95  acc_l2_entropy  \\\n",
      "timedata                                                                 \n",
      "2017-08-08 11:14:07+00:00     49.708125      94.718181        7.537922   \n",
      "2017-08-08 11:14:08+00:00     49.708125      94.718181        7.537897   \n",
      "2017-08-08 11:14:09+00:00     49.164505      96.588819        7.536770   \n",
      "2017-08-08 11:14:10+00:00     48.996426      96.588819        7.536649   \n",
      "2017-08-08 11:14:11+00:00     48.925963      96.588819        7.536507   \n",
      "...                                 ...            ...             ...   \n",
      "2017-08-08 13:08:25+00:00     59.248269      68.796764        5.008807   \n",
      "2017-08-08 13:08:26+00:00     58.115114      69.376370        4.768602   \n",
      "2017-08-08 13:08:27+00:00     57.303199      69.792532        4.451728   \n",
      "2017-08-08 13:08:28+00:00     61.110959      64.756081        3.988782   \n",
      "2017-08-08 13:08:29+00:00     62.577951      64.616272        3.090975   \n",
      "\n",
      "                           acc_l2_perm_entropy  acc_l2_svd_entropy  \n",
      "timedata                                                            \n",
      "2017-08-08 11:14:07+00:00             0.984445            0.510958  \n",
      "2017-08-08 11:14:08+00:00             0.985961            0.511162  \n",
      "2017-08-08 11:14:09+00:00             0.987795            0.517781  \n",
      "2017-08-08 11:14:10+00:00             0.988758            0.518728  \n",
      "2017-08-08 11:14:11+00:00             0.990040            0.519891  \n",
      "...                                        ...                 ...  \n",
      "2017-08-08 13:08:25+00:00             0.994351            0.228250  \n",
      "2017-08-08 13:08:26+00:00             0.997326            0.243977  \n",
      "2017-08-08 13:08:27+00:00             0.994863            0.258271  \n",
      "2017-08-08 13:08:28+00:00             0.977418            0.099981  \n",
      "2017-08-08 13:08:29+00:00             0.981941            0.074868  \n",
      "\n",
      "[6863 rows x 177 columns]\n",
      "===================================\n",
      "Printing the timestamp for S13\n",
      "===================================\n",
      "   # ORDER   Base    Fun  Medi 1   TSST  Medi 2  bRead  fRead  sRead\n",
      "0  # START   2.28  28.44   40.07  55.21   83.28  22.53   36.2  71.30\n",
      "1    # END  22.28  35.26   47.05  66.45   90.25  24.02   37.0  72.38\n",
      "\n",
      "Start of the baseline: 2.28\n",
      "End of the baseline: 22.28\n",
      "Start of the fun: 28.44\n",
      "End of the fun: 35.26\n",
      "Start of the stress: 55.21\n",
      "End of the stress: 66.45\n",
      "mode # ORDER\n",
      "mode Base\n",
      "mode Fun\n",
      "mode Medi 1\n",
      "mode TSST\n",
      "mode Medi 2\n",
      "mode bRead\n",
      "mode fRead\n",
      "mode sRead\n",
      "WESAD/S14/S14_readme.txt\n",
      "S14\n",
      "WESAD/S14/S14_E4_Data.zip\n",
      "Reading files\n",
      "Calculating HRV features\n"
     ]
    },
    {
     "name": "stderr",
     "output_type": "stream",
     "text": [
      "/Users/sfoell/anaconda3/envs/radar/lib/python3.7/site-packages/ipykernel_launcher.py:25: SettingWithCopyWarning: \n",
      "A value is trying to be set on a copy of a slice from a DataFrame.\n",
      "Try using .loc[row_indexer,col_indexer] = value instead\n",
      "\n",
      "See the caveats in the documentation: https://pandas.pydata.org/pandas-docs/stable/user_guide/indexing.html#returning-a-view-versus-a-copy\n",
      "/Users/sfoell/anaconda3/envs/radar/lib/python3.7/site-packages/pandas/core/indexing.py:1765: SettingWithCopyWarning: \n",
      "A value is trying to be set on a copy of a slice from a DataFrame.\n",
      "Try using .loc[row_indexer,col_indexer] = value instead\n",
      "\n",
      "See the caveats in the documentation: https://pandas.pydata.org/pandas-docs/stable/user_guide/indexing.html#returning-a-view-versus-a-copy\n",
      "  isetter(loc, value)\n"
     ]
    },
    {
     "data": {
      "application/vnd.jupyter.widget-view+json": {
       "model_id": "c495ee760bfb4fb3ba5dfe8a4f94cfc7",
       "version_major": 2,
       "version_minor": 0
      },
      "text/plain": [
       "HBox(children=(HTML(value='HRV Time Domain features '), FloatProgress(value=0.0, max=4820.0), HTML(value='')))"
      ]
     },
     "metadata": {},
     "output_type": "display_data"
    },
    {
     "name": "stdout",
     "output_type": "stream",
     "text": [
      "\n"
     ]
    },
    {
     "data": {
      "application/vnd.jupyter.widget-view+json": {
       "model_id": "0d1fc90bb54b4b0b9a42fcef23f868c4",
       "version_major": 2,
       "version_minor": 0
      },
      "text/plain": [
       "HBox(children=(HTML(value='HRV Frequency Domain features '), FloatProgress(value=0.0, max=4820.0), HTML(value=…"
      ]
     },
     "metadata": {},
     "output_type": "display_data"
    },
    {
     "name": "stdout",
     "output_type": "stream",
     "text": [
      "\n"
     ]
    },
    {
     "data": {
      "application/vnd.jupyter.widget-view+json": {
       "model_id": "c39193c2ae5f4403ac0eaa6168572fbf",
       "version_major": 2,
       "version_minor": 0
      },
      "text/plain": [
       "HBox(children=(HTML(value='HRV Statistical features '), FloatProgress(value=0.0, max=4820.0), HTML(value='')))"
      ]
     },
     "metadata": {},
     "output_type": "display_data"
    },
    {
     "name": "stdout",
     "output_type": "stream",
     "text": [
      "\n",
      "Calculating EDA features\n"
     ]
    },
    {
     "data": {
      "application/vnd.jupyter.widget-view+json": {
       "model_id": "e7c04ad386324dd2b717834ef49b8b3f",
       "version_major": 2,
       "version_minor": 0
      },
      "text/plain": [
       "HBox(children=(HTML(value='EDA features'), FloatProgress(value=0.0, max=6986.0), HTML(value='')))"
      ]
     },
     "metadata": {},
     "output_type": "display_data"
    },
    {
     "name": "stdout",
     "output_type": "stream",
     "text": [
      "\n",
      "Calculating ACC features\n"
     ]
    },
    {
     "name": "stderr",
     "output_type": "stream",
     "text": [
      "/Users/sfoell/anaconda3/envs/radar/lib/python3.7/site-packages/ipykernel_launcher.py:10: UserWarning: phasic_entropy contains more than 5% (actual: 73.46%) nan, inf, or -inf values. We recommend to delete this feature column.\n",
      "  # Remove the CWD from sys.path while we load stuff.\n"
     ]
    },
    {
     "data": {
      "application/vnd.jupyter.widget-view+json": {
       "model_id": "329f07a2c8094088bf9a623b58e7b597",
       "version_major": 2,
       "version_minor": 0
      },
      "text/plain": [
       "HBox(children=(HTML(value='ACC features'), FloatProgress(value=0.0, max=6987.0), HTML(value='')))"
      ]
     },
     "metadata": {},
     "output_type": "display_data"
    },
    {
     "name": "stdout",
     "output_type": "stream",
     "text": [
      "\n",
      "                           hrv_mean_nni  hrv_median_nni  hrv_range_nni  \\\n",
      "timedata                                                                 \n",
      "2017-08-09 07:10:31+00:00           NaN             NaN            NaN   \n",
      "2017-08-09 07:10:32+00:00           NaN             NaN            NaN   \n",
      "2017-08-09 07:10:33+00:00           NaN             NaN            NaN   \n",
      "2017-08-09 07:10:34+00:00           NaN             NaN            NaN   \n",
      "2017-08-09 07:10:35+00:00           NaN             NaN            NaN   \n",
      "...                                 ...             ...            ...   \n",
      "2017-08-09 09:06:53+00:00    861.886237      853.699715        187.509   \n",
      "2017-08-09 09:06:54+00:00    861.886237      853.699715        187.509   \n",
      "2017-08-09 09:06:55+00:00    861.886237      853.699715        187.509   \n",
      "2017-08-09 09:06:56+00:00    861.886237      853.699715        187.509   \n",
      "2017-08-09 09:06:57+00:00    861.886237      853.699715        187.509   \n",
      "\n",
      "                            hrv_sdsd  hrv_rmssd  hrv_nni_50  hrv_pnni_50  \\\n",
      "timedata                                                                   \n",
      "2017-08-09 07:10:31+00:00        NaN        NaN         NaN          NaN   \n",
      "2017-08-09 07:10:32+00:00        NaN        NaN         NaN          NaN   \n",
      "2017-08-09 07:10:33+00:00        NaN        NaN         NaN          NaN   \n",
      "2017-08-09 07:10:34+00:00        NaN        NaN         NaN          NaN   \n",
      "2017-08-09 07:10:35+00:00        NaN        NaN         NaN          NaN   \n",
      "...                              ...        ...         ...          ...   \n",
      "2017-08-09 09:06:53+00:00  81.964915  82.100492         5.0     35.07483   \n",
      "2017-08-09 09:06:54+00:00  81.964915  82.100492         5.0     35.07483   \n",
      "2017-08-09 09:06:55+00:00  81.964915  82.100492         5.0     35.07483   \n",
      "2017-08-09 09:06:56+00:00  81.964915  82.100492         5.0     35.07483   \n",
      "2017-08-09 09:06:57+00:00  81.964915  82.100492         5.0     35.07483   \n",
      "\n",
      "                           hrv_nni_20  hrv_pnni_20  hrv_cvsd  ...  \\\n",
      "timedata                                                      ...   \n",
      "2017-08-09 07:10:31+00:00         NaN          NaN       NaN  ...   \n",
      "2017-08-09 07:10:32+00:00         NaN          NaN       NaN  ...   \n",
      "2017-08-09 07:10:33+00:00         NaN          NaN       NaN  ...   \n",
      "2017-08-09 07:10:34+00:00         NaN          NaN       NaN  ...   \n",
      "2017-08-09 07:10:35+00:00         NaN          NaN       NaN  ...   \n",
      "...                               ...          ...       ...  ...   \n",
      "2017-08-09 09:06:53+00:00        10.0     70.14966  0.095257  ...   \n",
      "2017-08-09 09:06:54+00:00        10.0     70.14966  0.095257  ...   \n",
      "2017-08-09 09:06:55+00:00        10.0     70.14966  0.095257  ...   \n",
      "2017-08-09 09:06:56+00:00        10.0     70.14966  0.095257  ...   \n",
      "2017-08-09 09:06:57+00:00        10.0     70.14966  0.095257  ...   \n",
      "\n",
      "                           acc_l2_n_above_mean  acc_l2_n_below_mean  \\\n",
      "timedata                                                              \n",
      "2017-08-09 07:10:31+00:00                  525                 1395   \n",
      "2017-08-09 07:10:32+00:00                  539                 1381   \n",
      "2017-08-09 07:10:33+00:00                  555                 1365   \n",
      "2017-08-09 07:10:34+00:00                  561                 1359   \n",
      "2017-08-09 07:10:35+00:00                  580                 1340   \n",
      "...                                        ...                  ...   \n",
      "2017-08-09 09:06:53+00:00                   57                   79   \n",
      "2017-08-09 09:06:54+00:00                   45                   59   \n",
      "2017-08-09 09:06:55+00:00                   28                   44   \n",
      "2017-08-09 09:06:56+00:00                   19                   21   \n",
      "2017-08-09 09:06:57+00:00                    4                    4   \n",
      "\n",
      "                           acc_l2_n_sign_changes  acc_l2_iqr  acc_l2_iqr_5_95  \\\n",
      "timedata                                                                        \n",
      "2017-08-09 07:10:31+00:00                      0    1.170781        10.540147   \n",
      "2017-08-09 07:10:32+00:00                      0    1.170781        10.540147   \n",
      "2017-08-09 07:10:33+00:00                      0    1.170781        10.540147   \n",
      "2017-08-09 07:10:34+00:00                      0    1.178515        10.540147   \n",
      "2017-08-09 07:10:35+00:00                      0    1.178515        10.540147   \n",
      "...                                          ...         ...              ...   \n",
      "2017-08-09 09:06:53+00:00                      0    4.281361        14.107854   \n",
      "2017-08-09 09:06:54+00:00                      0    3.569792        14.189275   \n",
      "2017-08-09 09:06:55+00:00                      0    2.583088         7.677132   \n",
      "2017-08-09 09:06:56+00:00                      0    2.342317         5.679432   \n",
      "2017-08-09 09:06:57+00:00                      0    2.802712         4.221522   \n",
      "\n",
      "                           acc_l2_pct_5  acc_l2_pct_95  acc_l2_entropy  \\\n",
      "timedata                                                                 \n",
      "2017-08-09 07:10:31+00:00     60.236613      70.776761        7.557661   \n",
      "2017-08-09 07:10:32+00:00     60.236613      70.776761        7.557662   \n",
      "2017-08-09 07:10:33+00:00     60.236613      70.776761        7.557664   \n",
      "2017-08-09 07:10:34+00:00     60.236613      70.776761        7.557665   \n",
      "2017-08-09 07:10:35+00:00     60.236613      70.776761        7.557665   \n",
      "...                                 ...            ...             ...   \n",
      "2017-08-09 09:06:53+00:00     58.081107      72.188961        4.910511   \n",
      "2017-08-09 09:06:54+00:00     57.719438      71.908712        4.642287   \n",
      "2017-08-09 09:06:55+00:00     60.344005      68.021137        4.275759   \n",
      "2017-08-09 09:06:56+00:00     60.489669      66.169101        3.688331   \n",
      "2017-08-09 09:06:57+00:00     60.371288      64.592811        2.079095   \n",
      "\n",
      "                           acc_l2_perm_entropy  acc_l2_svd_entropy  \n",
      "timedata                                                            \n",
      "2017-08-09 07:10:31+00:00             0.980184            0.229499  \n",
      "2017-08-09 07:10:32+00:00             0.981176            0.229486  \n",
      "2017-08-09 07:10:33+00:00             0.982615            0.229469  \n",
      "2017-08-09 07:10:34+00:00             0.983997            0.229458  \n",
      "2017-08-09 07:10:35+00:00             0.984222            0.229453  \n",
      "...                                        ...                 ...  \n",
      "2017-08-09 09:06:53+00:00             0.999959            0.242727  \n",
      "2017-08-09 09:06:54+00:00             0.998231            0.248339  \n",
      "2017-08-09 09:06:55+00:00             0.999848            0.170644  \n",
      "2017-08-09 09:06:56+00:00             0.986787            0.158575  \n",
      "2017-08-09 09:06:57+00:00             0.970951            0.166922  \n",
      "\n",
      "[6987 rows x 177 columns]\n",
      "===================================\n",
      "Printing the timestamp for S14\n",
      "===================================\n",
      "   # ORDER  Base   TSST  Medi 2    Fun  Medi 1  bRead  sRead  fRead\n",
      "0  # START   2.0  33.18   62.22  73.24   84.29  22.14  49.47  80.36\n",
      "1    # END  22.0  44.53   69.19  79.56   91.26  23.37  51.02  81.50\n",
      "\n",
      "Start of the baseline: 2.0\n",
      "End of the baseline: 22.0\n",
      "Start of the fun: 73.24\n",
      "End of the fun: 79.56\n",
      "Start of the stress: 33.18\n",
      "End of the stress: 44.53\n",
      "mode # ORDER\n",
      "mode Base\n",
      "mode TSST\n",
      "mode Medi 2\n",
      "mode Fun\n",
      "mode Medi 1\n",
      "mode bRead\n",
      "mode sRead\n",
      "mode fRead\n",
      "WESAD/S15/S15_readme.txt\n",
      "S15\n",
      "WESAD/S15/S15_E4_Data.zip\n",
      "Reading files\n",
      "Calculating HRV features\n"
     ]
    },
    {
     "name": "stderr",
     "output_type": "stream",
     "text": [
      "/Users/sfoell/anaconda3/envs/radar/lib/python3.7/site-packages/ipykernel_launcher.py:25: SettingWithCopyWarning: \n",
      "A value is trying to be set on a copy of a slice from a DataFrame.\n",
      "Try using .loc[row_indexer,col_indexer] = value instead\n",
      "\n",
      "See the caveats in the documentation: https://pandas.pydata.org/pandas-docs/stable/user_guide/indexing.html#returning-a-view-versus-a-copy\n",
      "/Users/sfoell/anaconda3/envs/radar/lib/python3.7/site-packages/pandas/core/indexing.py:1765: SettingWithCopyWarning: \n",
      "A value is trying to be set on a copy of a slice from a DataFrame.\n",
      "Try using .loc[row_indexer,col_indexer] = value instead\n",
      "\n",
      "See the caveats in the documentation: https://pandas.pydata.org/pandas-docs/stable/user_guide/indexing.html#returning-a-view-versus-a-copy\n",
      "  isetter(loc, value)\n"
     ]
    },
    {
     "data": {
      "application/vnd.jupyter.widget-view+json": {
       "model_id": "958681df6dc043569d3ff43a19dcdade",
       "version_major": 2,
       "version_minor": 0
      },
      "text/plain": [
       "HBox(children=(HTML(value='HRV Time Domain features '), FloatProgress(value=0.0, max=3308.0), HTML(value='')))"
      ]
     },
     "metadata": {},
     "output_type": "display_data"
    },
    {
     "name": "stdout",
     "output_type": "stream",
     "text": [
      "\n"
     ]
    },
    {
     "data": {
      "application/vnd.jupyter.widget-view+json": {
       "model_id": "d8004b2bed9e48da9fcefc2a92bc569b",
       "version_major": 2,
       "version_minor": 0
      },
      "text/plain": [
       "HBox(children=(HTML(value='HRV Frequency Domain features '), FloatProgress(value=0.0, max=3308.0), HTML(value=…"
      ]
     },
     "metadata": {},
     "output_type": "display_data"
    },
    {
     "name": "stdout",
     "output_type": "stream",
     "text": [
      "\n"
     ]
    },
    {
     "data": {
      "application/vnd.jupyter.widget-view+json": {
       "model_id": "224f523fa97542d59a7b8d66fa151e13",
       "version_major": 2,
       "version_minor": 0
      },
      "text/plain": [
       "HBox(children=(HTML(value='HRV Statistical features '), FloatProgress(value=0.0, max=3308.0), HTML(value='')))"
      ]
     },
     "metadata": {},
     "output_type": "display_data"
    },
    {
     "name": "stdout",
     "output_type": "stream",
     "text": [
      "\n",
      "Calculating EDA features\n"
     ]
    },
    {
     "data": {
      "application/vnd.jupyter.widget-view+json": {
       "model_id": "065f859c92cf430f8df8318f27d85b59",
       "version_major": 2,
       "version_minor": 0
      },
      "text/plain": [
       "HBox(children=(HTML(value='EDA features'), FloatProgress(value=0.0, max=6642.0), HTML(value='')))"
      ]
     },
     "metadata": {},
     "output_type": "display_data"
    },
    {
     "name": "stdout",
     "output_type": "stream",
     "text": [
      "\n",
      "Calculating ACC features\n"
     ]
    },
    {
     "name": "stderr",
     "output_type": "stream",
     "text": [
      "/Users/sfoell/anaconda3/envs/radar/lib/python3.7/site-packages/ipykernel_launcher.py:10: UserWarning: phasic_entropy contains more than 5% (actual: 70.43%) nan, inf, or -inf values. We recommend to delete this feature column.\n",
      "  # Remove the CWD from sys.path while we load stuff.\n"
     ]
    },
    {
     "data": {
      "application/vnd.jupyter.widget-view+json": {
       "model_id": "4220fa0c83fe4c3bb8d550c0620cfd27",
       "version_major": 2,
       "version_minor": 0
      },
      "text/plain": [
       "HBox(children=(HTML(value='ACC features'), FloatProgress(value=0.0, max=6643.0), HTML(value='')))"
      ]
     },
     "metadata": {},
     "output_type": "display_data"
    },
    {
     "name": "stdout",
     "output_type": "stream",
     "text": [
      "\n",
      "                           hrv_mean_nni  hrv_median_nni  hrv_range_nni  \\\n",
      "timedata                                                                 \n",
      "2017-08-10 07:11:56+00:00           NaN             NaN            NaN   \n",
      "2017-08-10 07:11:57+00:00           NaN             NaN            NaN   \n",
      "2017-08-10 07:11:58+00:00           NaN             NaN            NaN   \n",
      "2017-08-10 07:11:59+00:00           NaN             NaN            NaN   \n",
      "2017-08-10 07:12:00+00:00           NaN             NaN            NaN   \n",
      "...                                 ...             ...            ...   \n",
      "2017-08-10 09:02:34+00:00      762.8862      764.919717         218.76   \n",
      "2017-08-10 09:02:35+00:00      762.8862      764.919717         218.76   \n",
      "2017-08-10 09:02:36+00:00      762.8862      764.919717         218.76   \n",
      "2017-08-10 09:02:37+00:00      762.8862      764.919717         218.76   \n",
      "2017-08-10 09:02:38+00:00      762.8862      764.919717         218.76   \n",
      "\n",
      "                            hrv_sdsd  hrv_rmssd  hrv_nni_50  hrv_pnni_50  \\\n",
      "timedata                                                                   \n",
      "2017-08-10 07:11:56+00:00        NaN        NaN         NaN          NaN   \n",
      "2017-08-10 07:11:57+00:00        NaN        NaN         NaN          NaN   \n",
      "2017-08-10 07:11:58+00:00        NaN        NaN         NaN          NaN   \n",
      "2017-08-10 07:11:59+00:00        NaN        NaN         NaN          NaN   \n",
      "2017-08-10 07:12:00+00:00        NaN        NaN         NaN          NaN   \n",
      "...                              ...        ...         ...          ...   \n",
      "2017-08-10 09:02:34+00:00  71.583416  71.818241         8.0      47.3375   \n",
      "2017-08-10 09:02:35+00:00  71.583416  71.818241         8.0      47.3375   \n",
      "2017-08-10 09:02:36+00:00  71.583416  71.818241         8.0      47.3375   \n",
      "2017-08-10 09:02:37+00:00  71.583416  71.818241         8.0      47.3375   \n",
      "2017-08-10 09:02:38+00:00  71.583416  71.818241         8.0      47.3375   \n",
      "\n",
      "                           hrv_nni_20  hrv_pnni_20  hrv_cvsd  ...  \\\n",
      "timedata                                                      ...   \n",
      "2017-08-10 07:11:56+00:00         NaN          NaN       NaN  ...   \n",
      "2017-08-10 07:11:57+00:00         NaN          NaN       NaN  ...   \n",
      "2017-08-10 07:11:58+00:00         NaN          NaN       NaN  ...   \n",
      "2017-08-10 07:11:59+00:00         NaN          NaN       NaN  ...   \n",
      "2017-08-10 07:12:00+00:00         NaN          NaN       NaN  ...   \n",
      "...                               ...          ...       ...  ...   \n",
      "2017-08-10 09:02:34+00:00        13.0    76.923438   0.09414  ...   \n",
      "2017-08-10 09:02:35+00:00        13.0    76.923438   0.09414  ...   \n",
      "2017-08-10 09:02:36+00:00        13.0    76.923438   0.09414  ...   \n",
      "2017-08-10 09:02:37+00:00        13.0    76.923438   0.09414  ...   \n",
      "2017-08-10 09:02:38+00:00        13.0    76.923438   0.09414  ...   \n",
      "\n",
      "                           acc_l2_n_above_mean  acc_l2_n_below_mean  \\\n",
      "timedata                                                              \n",
      "2017-08-10 07:11:56+00:00                  370                 1550   \n",
      "2017-08-10 07:11:57+00:00                  374                 1546   \n",
      "2017-08-10 07:11:58+00:00                  375                 1545   \n",
      "2017-08-10 07:11:59+00:00                  375                 1545   \n",
      "2017-08-10 07:12:00+00:00                  375                 1545   \n",
      "...                                        ...                  ...   \n",
      "2017-08-10 09:02:34+00:00                   80                   72   \n",
      "2017-08-10 09:02:35+00:00                   61                   59   \n",
      "2017-08-10 09:02:36+00:00                   43                   45   \n",
      "2017-08-10 09:02:37+00:00                   31                   25   \n",
      "2017-08-10 09:02:38+00:00                   11                   13   \n",
      "\n",
      "                           acc_l2_n_sign_changes  acc_l2_iqr  acc_l2_iqr_5_95  \\\n",
      "timedata                                                                        \n",
      "2017-08-10 07:11:56+00:00                      0    0.055524        27.603826   \n",
      "2017-08-10 07:11:57+00:00                      0    0.128820        27.603826   \n",
      "2017-08-10 07:11:58+00:00                      0    0.263305        27.603826   \n",
      "2017-08-10 07:11:59+00:00                      0    0.263305        27.603826   \n",
      "2017-08-10 07:12:00+00:00                      0    0.318609        27.603826   \n",
      "...                                          ...         ...              ...   \n",
      "2017-08-10 09:02:34+00:00                      0    1.883215         5.975683   \n",
      "2017-08-10 09:02:35+00:00                      0    1.864548         7.314804   \n",
      "2017-08-10 09:02:36+00:00                      0    2.361400         8.662057   \n",
      "2017-08-10 09:02:37+00:00                      0    2.547315         7.000542   \n",
      "2017-08-10 09:02:38+00:00                      0    1.064885         4.282473   \n",
      "\n",
      "                           acc_l2_pct_5  acc_l2_pct_95  acc_l2_entropy  \\\n",
      "timedata                                                                 \n",
      "2017-08-10 07:11:56+00:00     54.210238      81.814064        7.544048   \n",
      "2017-08-10 07:11:57+00:00     54.210238      81.814064        7.544047   \n",
      "2017-08-10 07:11:58+00:00     54.210238      81.814064        7.544040   \n",
      "2017-08-10 07:11:59+00:00     54.210238      81.814064        7.544035   \n",
      "2017-08-10 07:12:00+00:00     54.210238      81.814064        7.544030   \n",
      "...                                 ...            ...             ...   \n",
      "2017-08-10 09:02:34+00:00     60.006481      65.982163        5.023146   \n",
      "2017-08-10 09:02:35+00:00     59.440720      66.755523        4.786614   \n",
      "2017-08-10 09:02:36+00:00     58.749718      67.411774        4.476190   \n",
      "2017-08-10 09:02:37+00:00     58.053282      65.053824        4.024538   \n",
      "2017-08-10 09:02:38+00:00     60.540362      64.822835        3.177850   \n",
      "\n",
      "                           acc_l2_perm_entropy  acc_l2_svd_entropy  \n",
      "timedata                                                            \n",
      "2017-08-10 07:11:56+00:00             0.912451            0.461459  \n",
      "2017-08-10 07:11:57+00:00             0.917773            0.461486  \n",
      "2017-08-10 07:11:58+00:00             0.919336            0.461526  \n",
      "2017-08-10 07:11:59+00:00             0.922413            0.461555  \n",
      "2017-08-10 07:12:00+00:00             0.928377            0.461585  \n",
      "...                                        ...                 ...  \n",
      "2017-08-10 09:02:34+00:00             0.994502            0.161127  \n",
      "2017-08-10 09:02:35+00:00             0.995727            0.173566  \n",
      "2017-08-10 09:02:36+00:00             0.999101            0.191519  \n",
      "2017-08-10 09:02:37+00:00             0.993570            0.140853  \n",
      "2017-08-10 09:02:38+00:00             0.985228            0.118786  \n",
      "\n",
      "[6643 rows x 177 columns]\n",
      "===================================\n",
      "Printing the timestamp for S15\n",
      "===================================\n",
      "   # ORDER   Base    Fun  Medi 1   TSST  Medi 2  bRead  fRead  sRead\n",
      "0  # START   4.25  29.26   40.11  54.14   80.38   24.5  36.27  68.43\n",
      "1    # END  24.20  35.58   47.08  66.00   87.35   26.0  37.33  69.50\n",
      "\n",
      "Start of the baseline: 4.25\n",
      "End of the baseline: 24.2\n",
      "Start of the fun: 29.26\n",
      "End of the fun: 35.58\n",
      "Start of the stress: 54.14\n",
      "End of the stress: 66.0\n",
      "mode # ORDER\n",
      "mode Base\n",
      "mode Fun\n",
      "mode Medi 1\n",
      "mode TSST\n",
      "mode Medi 2\n",
      "mode bRead\n",
      "mode fRead\n",
      "mode sRead\n",
      "                            ID  hrv_mean_nni  hrv_median_nni  hrv_range_nni  \\\n",
      "timedata                                                                      \n",
      "2017-06-13 12:28:50+00:00   S5    871.536234      880.506490     260.945038   \n",
      "2017-06-13 12:28:51+00:00   S5    871.539446      880.609628     261.151318   \n",
      "2017-06-13 12:28:52+00:00   S5    871.542658      880.712767     261.357598   \n",
      "2017-06-13 12:28:53+00:00   S5    871.545870      880.815905     261.563877   \n",
      "2017-06-13 12:28:54+00:00   S5    871.549082      880.919043     261.770157   \n",
      "...                        ...           ...             ...            ...   \n",
      "2017-08-10 08:17:52+00:00  S15    812.732792      813.045753     203.134000   \n",
      "2017-08-10 08:17:53+00:00  S15    810.569853      812.537000     203.134000   \n",
      "2017-08-10 08:17:54+00:00  S15    812.016288      819.516613     203.134000   \n",
      "2017-08-10 08:17:55+00:00  S15    815.931445      828.163000     203.134000   \n",
      "2017-08-10 08:17:56+00:00  S15    816.585261      828.163000     203.134000   \n",
      "\n",
      "                            hrv_sdsd  hrv_rmssd  hrv_nni_50  hrv_pnni_50  \\\n",
      "timedata                                                                   \n",
      "2017-06-13 12:28:50+00:00  80.505696  80.860610    6.000000    41.704339   \n",
      "2017-06-13 12:28:51+00:00  80.564772  80.920609    6.000000    41.700484   \n",
      "2017-06-13 12:28:52+00:00  80.623848  80.980608    6.000000    41.696629   \n",
      "2017-06-13 12:28:53+00:00  80.682924  81.040607    6.000000    41.692774   \n",
      "2017-06-13 12:28:54+00:00  80.742000  81.100606    6.000000    41.688920   \n",
      "...                              ...        ...         ...          ...   \n",
      "2017-08-10 08:17:52+00:00  41.294451  41.318597    4.000000    15.959928   \n",
      "2017-08-10 08:17:53+00:00  41.206529  41.215208    4.000000    16.786682   \n",
      "2017-08-10 08:17:54+00:00  41.688909  41.875237    4.000000    17.391304   \n",
      "2017-08-10 08:17:55+00:00  42.929957  43.044555    4.749040    20.647999   \n",
      "2017-08-10 08:17:56+00:00  43.816473  43.825189    5.008294    21.775191   \n",
      "\n",
      "                           hrv_nni_20  hrv_pnni_20  ...  acc_l2_n_below_mean  \\\n",
      "timedata                                            ...                        \n",
      "2017-06-13 12:28:50+00:00    9.000000    62.556509  ...                 1274   \n",
      "2017-06-13 12:28:51+00:00    9.000000    62.550726  ...                 1270   \n",
      "2017-06-13 12:28:52+00:00    9.000000    62.544944  ...                 1264   \n",
      "2017-06-13 12:28:53+00:00    9.000000    62.539162  ...                 1258   \n",
      "2017-06-13 12:28:54+00:00    9.000000    62.533379  ...                 1244   \n",
      "...                               ...          ...  ...                  ...   \n",
      "2017-08-10 08:17:52+00:00   14.065116    56.110197  ...                 1292   \n",
      "2017-08-10 08:17:53+00:00   13.000000    54.556716  ...                 1284   \n",
      "2017-08-10 08:17:54+00:00   13.000000    56.521739  ...                 1271   \n",
      "2017-08-10 08:17:55+00:00   13.000000    56.521739  ...                 1251   \n",
      "2017-08-10 08:17:56+00:00   14.000000    60.869565  ...                 1234   \n",
      "\n",
      "                           acc_l2_n_sign_changes  acc_l2_iqr  acc_l2_iqr_5_95  \\\n",
      "timedata                                                                        \n",
      "2017-06-13 12:28:50+00:00                      0    0.397128         6.270711   \n",
      "2017-06-13 12:28:51+00:00                      0    0.397128         7.407377   \n",
      "2017-06-13 12:28:52+00:00                      0    0.397128         8.112951   \n",
      "2017-06-13 12:28:53+00:00                      0    0.397128         8.547502   \n",
      "2017-06-13 12:28:54+00:00                      0    0.397128         8.646181   \n",
      "...                                          ...         ...              ...   \n",
      "2017-08-10 08:17:52+00:00                      0    0.596486         4.859677   \n",
      "2017-08-10 08:17:53+00:00                      0    0.628140         4.859677   \n",
      "2017-08-10 08:17:54+00:00                      0    0.683498         4.859677   \n",
      "2017-08-10 08:17:55+00:00                      0    0.730907         4.859677   \n",
      "2017-08-10 08:17:56+00:00                      0    0.786175         4.859677   \n",
      "\n",
      "                           acc_l2_pct_5  acc_l2_pct_95  acc_l2_entropy  \\\n",
      "timedata                                                                 \n",
      "2017-06-13 12:28:50+00:00     60.744959      67.015670        7.558265   \n",
      "2017-06-13 12:28:51+00:00     60.435085      67.842462        7.557919   \n",
      "2017-06-13 12:28:52+00:00     60.041652      68.154604        7.557738   \n",
      "2017-06-13 12:28:53+00:00     59.838531      68.386033        7.557592   \n",
      "2017-06-13 12:28:54+00:00     59.739852      68.386033        7.557580   \n",
      "...                                 ...            ...             ...   \n",
      "2017-08-10 08:17:52+00:00     61.031139      65.890816        7.558825   \n",
      "2017-08-10 08:17:53+00:00     61.031139      65.890816        7.558825   \n",
      "2017-08-10 08:17:54+00:00     61.031139      65.890816        7.558824   \n",
      "2017-08-10 08:17:55+00:00     61.031139      65.890816        7.558824   \n",
      "2017-08-10 08:17:56+00:00     61.031139      65.890816        7.558823   \n",
      "\n",
      "                           acc_l2_perm_entropy  acc_l2_svd_entropy  label  \n",
      "timedata                                                                   \n",
      "2017-06-13 12:28:50+00:00             0.948530            0.217955    0.0  \n",
      "2017-06-13 12:28:51+00:00             0.948530            0.240854    0.0  \n",
      "2017-06-13 12:28:52+00:00             0.948938            0.248568    0.0  \n",
      "2017-06-13 12:28:53+00:00             0.948530            0.257210    0.0  \n",
      "2017-06-13 12:28:54+00:00             0.951355            0.257665    0.0  \n",
      "...                                        ...                 ...    ...  \n",
      "2017-08-10 08:17:52+00:00             0.926910            0.172722    1.0  \n",
      "2017-08-10 08:17:53+00:00             0.928377            0.172762    1.0  \n",
      "2017-08-10 08:17:54+00:00             0.930310            0.172826    1.0  \n",
      "2017-08-10 08:17:55+00:00             0.930788            0.172878    1.0  \n",
      "2017-08-10 08:17:56+00:00             0.933625            0.172933    1.0  \n",
      "\n",
      "[33917 rows x 179 columns]\n"
     ]
    },
    {
     "name": "stderr",
     "output_type": "stream",
     "text": [
      "/Users/sfoell/anaconda3/envs/radar/lib/python3.7/site-packages/ipykernel_launcher.py:25: SettingWithCopyWarning: \n",
      "A value is trying to be set on a copy of a slice from a DataFrame.\n",
      "Try using .loc[row_indexer,col_indexer] = value instead\n",
      "\n",
      "See the caveats in the documentation: https://pandas.pydata.org/pandas-docs/stable/user_guide/indexing.html#returning-a-view-versus-a-copy\n",
      "/Users/sfoell/anaconda3/envs/radar/lib/python3.7/site-packages/pandas/core/indexing.py:1765: SettingWithCopyWarning: \n",
      "A value is trying to be set on a copy of a slice from a DataFrame.\n",
      "Try using .loc[row_indexer,col_indexer] = value instead\n",
      "\n",
      "See the caveats in the documentation: https://pandas.pydata.org/pandas-docs/stable/user_guide/indexing.html#returning-a-view-versus-a-copy\n",
      "  isetter(loc, value)\n"
     ]
    }
   ],
   "source": [
    "df_all = main()\n",
    "df_all.to_csv('hrv_eda_acc.csv')"
   ]
  },
  {
   "cell_type": "code",
   "execution_count": 21,
   "metadata": {},
   "outputs": [
    {
     "name": "stdout",
     "output_type": "stream",
     "text": [
      "['S5' 'S2' 'S3' 'S4' 'S17' 'S10' 'S11' 'S16' 'S8' 'S6' 'S7' 'S9' 'S13'\n",
      " 'S14' 'S15']\n"
     ]
    }
   ],
   "source": [
    "data = pd.read_csv('hrv_eda_acc.csv')\n",
    "data.set_index('timedata', inplace=True)\n",
    "label=data.label\n",
    "ID=data.ID\n",
    "print(ID.unique())"
   ]
  },
  {
   "cell_type": "code",
   "execution_count": 18,
   "metadata": {},
   "outputs": [],
   "source": [
    "data=data.filter(regex='^eda',axis=1)\n",
    "data['label']=label\n",
    "data['ID']=ID"
   ]
  },
  {
   "cell_type": "code",
   "execution_count": 22,
   "metadata": {},
   "outputs": [
    {
     "data": {
      "text/html": [
       "<div>\n",
       "<style scoped>\n",
       "    .dataframe tbody tr th:only-of-type {\n",
       "        vertical-align: middle;\n",
       "    }\n",
       "\n",
       "    .dataframe tbody tr th {\n",
       "        vertical-align: top;\n",
       "    }\n",
       "\n",
       "    .dataframe thead th {\n",
       "        text-align: right;\n",
       "    }\n",
       "</style>\n",
       "<table border=\"1\" class=\"dataframe\">\n",
       "  <thead>\n",
       "    <tr style=\"text-align: right;\">\n",
       "      <th></th>\n",
       "      <th>ID</th>\n",
       "      <th>hrv_mean_nni</th>\n",
       "      <th>hrv_median_nni</th>\n",
       "      <th>hrv_range_nni</th>\n",
       "      <th>hrv_sdsd</th>\n",
       "      <th>hrv_rmssd</th>\n",
       "      <th>hrv_nni_50</th>\n",
       "      <th>hrv_pnni_50</th>\n",
       "      <th>hrv_nni_20</th>\n",
       "      <th>hrv_pnni_20</th>\n",
       "      <th>...</th>\n",
       "      <th>acc_l2_n_below_mean</th>\n",
       "      <th>acc_l2_n_sign_changes</th>\n",
       "      <th>acc_l2_iqr</th>\n",
       "      <th>acc_l2_iqr_5_95</th>\n",
       "      <th>acc_l2_pct_5</th>\n",
       "      <th>acc_l2_pct_95</th>\n",
       "      <th>acc_l2_entropy</th>\n",
       "      <th>acc_l2_perm_entropy</th>\n",
       "      <th>acc_l2_svd_entropy</th>\n",
       "      <th>label</th>\n",
       "    </tr>\n",
       "    <tr>\n",
       "      <th>timedata</th>\n",
       "      <th></th>\n",
       "      <th></th>\n",
       "      <th></th>\n",
       "      <th></th>\n",
       "      <th></th>\n",
       "      <th></th>\n",
       "      <th></th>\n",
       "      <th></th>\n",
       "      <th></th>\n",
       "      <th></th>\n",
       "      <th></th>\n",
       "      <th></th>\n",
       "      <th></th>\n",
       "      <th></th>\n",
       "      <th></th>\n",
       "      <th></th>\n",
       "      <th></th>\n",
       "      <th></th>\n",
       "      <th></th>\n",
       "      <th></th>\n",
       "      <th></th>\n",
       "    </tr>\n",
       "  </thead>\n",
       "  <tbody>\n",
       "    <tr>\n",
       "      <th>2017-06-13 12:28:50+00:00</th>\n",
       "      <td>S5</td>\n",
       "      <td>871.536234</td>\n",
       "      <td>880.506490</td>\n",
       "      <td>260.945038</td>\n",
       "      <td>80.505696</td>\n",
       "      <td>80.860610</td>\n",
       "      <td>6.0</td>\n",
       "      <td>41.704339</td>\n",
       "      <td>9.0</td>\n",
       "      <td>62.556509</td>\n",
       "      <td>...</td>\n",
       "      <td>1274</td>\n",
       "      <td>0</td>\n",
       "      <td>0.397128</td>\n",
       "      <td>6.270711</td>\n",
       "      <td>60.744959</td>\n",
       "      <td>67.015670</td>\n",
       "      <td>7.558265</td>\n",
       "      <td>0.948530</td>\n",
       "      <td>0.217955</td>\n",
       "      <td>0.0</td>\n",
       "    </tr>\n",
       "    <tr>\n",
       "      <th>2017-06-13 12:28:51+00:00</th>\n",
       "      <td>S5</td>\n",
       "      <td>871.539446</td>\n",
       "      <td>880.609628</td>\n",
       "      <td>261.151318</td>\n",
       "      <td>80.564772</td>\n",
       "      <td>80.920609</td>\n",
       "      <td>6.0</td>\n",
       "      <td>41.700484</td>\n",
       "      <td>9.0</td>\n",
       "      <td>62.550726</td>\n",
       "      <td>...</td>\n",
       "      <td>1270</td>\n",
       "      <td>0</td>\n",
       "      <td>0.397128</td>\n",
       "      <td>7.407377</td>\n",
       "      <td>60.435085</td>\n",
       "      <td>67.842462</td>\n",
       "      <td>7.557919</td>\n",
       "      <td>0.948530</td>\n",
       "      <td>0.240854</td>\n",
       "      <td>0.0</td>\n",
       "    </tr>\n",
       "    <tr>\n",
       "      <th>2017-06-13 12:28:52+00:00</th>\n",
       "      <td>S5</td>\n",
       "      <td>871.542658</td>\n",
       "      <td>880.712767</td>\n",
       "      <td>261.357598</td>\n",
       "      <td>80.623848</td>\n",
       "      <td>80.980608</td>\n",
       "      <td>6.0</td>\n",
       "      <td>41.696629</td>\n",
       "      <td>9.0</td>\n",
       "      <td>62.544944</td>\n",
       "      <td>...</td>\n",
       "      <td>1264</td>\n",
       "      <td>0</td>\n",
       "      <td>0.397128</td>\n",
       "      <td>8.112951</td>\n",
       "      <td>60.041652</td>\n",
       "      <td>68.154604</td>\n",
       "      <td>7.557738</td>\n",
       "      <td>0.948938</td>\n",
       "      <td>0.248568</td>\n",
       "      <td>0.0</td>\n",
       "    </tr>\n",
       "    <tr>\n",
       "      <th>2017-06-13 12:28:53+00:00</th>\n",
       "      <td>S5</td>\n",
       "      <td>871.545870</td>\n",
       "      <td>880.815905</td>\n",
       "      <td>261.563877</td>\n",
       "      <td>80.682924</td>\n",
       "      <td>81.040607</td>\n",
       "      <td>6.0</td>\n",
       "      <td>41.692774</td>\n",
       "      <td>9.0</td>\n",
       "      <td>62.539162</td>\n",
       "      <td>...</td>\n",
       "      <td>1258</td>\n",
       "      <td>0</td>\n",
       "      <td>0.397128</td>\n",
       "      <td>8.547502</td>\n",
       "      <td>59.838531</td>\n",
       "      <td>68.386033</td>\n",
       "      <td>7.557592</td>\n",
       "      <td>0.948530</td>\n",
       "      <td>0.257210</td>\n",
       "      <td>0.0</td>\n",
       "    </tr>\n",
       "    <tr>\n",
       "      <th>2017-06-13 12:28:54+00:00</th>\n",
       "      <td>S5</td>\n",
       "      <td>871.549082</td>\n",
       "      <td>880.919043</td>\n",
       "      <td>261.770157</td>\n",
       "      <td>80.742000</td>\n",
       "      <td>81.100606</td>\n",
       "      <td>6.0</td>\n",
       "      <td>41.688920</td>\n",
       "      <td>9.0</td>\n",
       "      <td>62.533379</td>\n",
       "      <td>...</td>\n",
       "      <td>1244</td>\n",
       "      <td>0</td>\n",
       "      <td>0.397128</td>\n",
       "      <td>8.646181</td>\n",
       "      <td>59.739852</td>\n",
       "      <td>68.386033</td>\n",
       "      <td>7.557580</td>\n",
       "      <td>0.951355</td>\n",
       "      <td>0.257665</td>\n",
       "      <td>0.0</td>\n",
       "    </tr>\n",
       "  </tbody>\n",
       "</table>\n",
       "<p>5 rows × 179 columns</p>\n",
       "</div>"
      ],
      "text/plain": [
       "                           ID  hrv_mean_nni  hrv_median_nni  hrv_range_nni  \\\n",
       "timedata                                                                     \n",
       "2017-06-13 12:28:50+00:00  S5    871.536234      880.506490     260.945038   \n",
       "2017-06-13 12:28:51+00:00  S5    871.539446      880.609628     261.151318   \n",
       "2017-06-13 12:28:52+00:00  S5    871.542658      880.712767     261.357598   \n",
       "2017-06-13 12:28:53+00:00  S5    871.545870      880.815905     261.563877   \n",
       "2017-06-13 12:28:54+00:00  S5    871.549082      880.919043     261.770157   \n",
       "\n",
       "                            hrv_sdsd  hrv_rmssd  hrv_nni_50  hrv_pnni_50  \\\n",
       "timedata                                                                   \n",
       "2017-06-13 12:28:50+00:00  80.505696  80.860610         6.0    41.704339   \n",
       "2017-06-13 12:28:51+00:00  80.564772  80.920609         6.0    41.700484   \n",
       "2017-06-13 12:28:52+00:00  80.623848  80.980608         6.0    41.696629   \n",
       "2017-06-13 12:28:53+00:00  80.682924  81.040607         6.0    41.692774   \n",
       "2017-06-13 12:28:54+00:00  80.742000  81.100606         6.0    41.688920   \n",
       "\n",
       "                           hrv_nni_20  hrv_pnni_20  ...  acc_l2_n_below_mean  \\\n",
       "timedata                                            ...                        \n",
       "2017-06-13 12:28:50+00:00         9.0    62.556509  ...                 1274   \n",
       "2017-06-13 12:28:51+00:00         9.0    62.550726  ...                 1270   \n",
       "2017-06-13 12:28:52+00:00         9.0    62.544944  ...                 1264   \n",
       "2017-06-13 12:28:53+00:00         9.0    62.539162  ...                 1258   \n",
       "2017-06-13 12:28:54+00:00         9.0    62.533379  ...                 1244   \n",
       "\n",
       "                           acc_l2_n_sign_changes  acc_l2_iqr  acc_l2_iqr_5_95  \\\n",
       "timedata                                                                        \n",
       "2017-06-13 12:28:50+00:00                      0    0.397128         6.270711   \n",
       "2017-06-13 12:28:51+00:00                      0    0.397128         7.407377   \n",
       "2017-06-13 12:28:52+00:00                      0    0.397128         8.112951   \n",
       "2017-06-13 12:28:53+00:00                      0    0.397128         8.547502   \n",
       "2017-06-13 12:28:54+00:00                      0    0.397128         8.646181   \n",
       "\n",
       "                           acc_l2_pct_5  acc_l2_pct_95  acc_l2_entropy  \\\n",
       "timedata                                                                 \n",
       "2017-06-13 12:28:50+00:00     60.744959      67.015670        7.558265   \n",
       "2017-06-13 12:28:51+00:00     60.435085      67.842462        7.557919   \n",
       "2017-06-13 12:28:52+00:00     60.041652      68.154604        7.557738   \n",
       "2017-06-13 12:28:53+00:00     59.838531      68.386033        7.557592   \n",
       "2017-06-13 12:28:54+00:00     59.739852      68.386033        7.557580   \n",
       "\n",
       "                           acc_l2_perm_entropy  acc_l2_svd_entropy  label  \n",
       "timedata                                                                   \n",
       "2017-06-13 12:28:50+00:00             0.948530            0.217955    0.0  \n",
       "2017-06-13 12:28:51+00:00             0.948530            0.240854    0.0  \n",
       "2017-06-13 12:28:52+00:00             0.948938            0.248568    0.0  \n",
       "2017-06-13 12:28:53+00:00             0.948530            0.257210    0.0  \n",
       "2017-06-13 12:28:54+00:00             0.951355            0.257665    0.0  \n",
       "\n",
       "[5 rows x 179 columns]"
      ]
     },
     "execution_count": 22,
     "metadata": {},
     "output_type": "execute_result"
    }
   ],
   "source": [
    "data.head()"
   ]
  },
  {
   "cell_type": "markdown",
   "metadata": {},
   "source": [
    "# Prediction (LightGBM)\n"
   ]
  },
  {
   "cell_type": "code",
   "execution_count": 23,
   "metadata": {},
   "outputs": [
    {
     "name": "stdout",
     "output_type": "stream",
     "text": [
      "33917 179\n",
      "33917 174\n",
      "Columns dropped:  ['eda_tonic_entropy' 'eda_phasic_entropy' 'acc_acc_x_entropy'\n",
      " 'acc_acc_y_entropy' 'acc_acc_z_entropy']\n",
      "running 15-fold CV...\n",
      "              precision    recall  f1-score   support\n",
      "\n",
      "           0       0.87      0.94      0.90      1201\n",
      "           1       0.89      0.80      0.85       773\n",
      "           2       0.47      0.44      0.45       393\n",
      "\n",
      "    accuracy                           0.81      2367\n",
      "   macro avg       0.74      0.73      0.73      2367\n",
      "weighted avg       0.81      0.81      0.81      2367\n",
      "\n",
      "              precision    recall  f1-score   support\n",
      "\n",
      "           0       0.64      0.99      0.78      1201\n",
      "           1       0.97      0.39      0.56       701\n",
      "           2       0.41      0.15      0.22       389\n",
      "\n",
      "    accuracy                           0.67      2291\n",
      "   macro avg       0.67      0.51      0.52      2291\n",
      "weighted avg       0.70      0.67      0.62      2291\n",
      "\n",
      "              precision    recall  f1-score   support\n",
      "\n",
      "           0       0.64      1.00      0.78      1201\n",
      "           1       0.77      0.34      0.47       685\n",
      "           2       0.38      0.11      0.18       403\n",
      "\n",
      "    accuracy                           0.65      2289\n",
      "   macro avg       0.60      0.48      0.48      2289\n",
      "weighted avg       0.64      0.65      0.58      2289\n",
      "\n",
      "              precision    recall  f1-score   support\n",
      "\n",
      "           0       0.59      0.99      0.74      1201\n",
      "           1       0.31      0.07      0.12       696\n",
      "           2       0.05      0.01      0.02       393\n",
      "\n",
      "    accuracy                           0.55      2290\n",
      "   macro avg       0.32      0.36      0.29      2290\n",
      "weighted avg       0.41      0.55      0.43      2290\n",
      "\n",
      "              precision    recall  f1-score   support\n",
      "\n",
      "           0       0.93      0.71      0.81      1178\n",
      "           1       0.49      0.93      0.64       707\n",
      "           2       0.00      0.00      0.00       393\n",
      "\n",
      "    accuracy                           0.66      2278\n",
      "   macro avg       0.47      0.55      0.48      2278\n",
      "weighted avg       0.63      0.66      0.62      2278\n",
      "\n",
      "              precision    recall  f1-score   support\n",
      "\n",
      "           0       0.76      0.72      0.74      1201\n",
      "           1       0.46      0.49      0.48       721\n",
      "           2       0.28      0.28      0.28       344\n",
      "\n",
      "    accuracy                           0.58      2266\n",
      "   macro avg       0.50      0.50      0.50      2266\n",
      "weighted avg       0.59      0.58      0.59      2266\n",
      "\n",
      "              precision    recall  f1-score   support\n",
      "\n",
      "           0       0.79      0.95      0.86      1202\n",
      "           1       0.70      0.84      0.76       744\n",
      "           2       1.00      0.07      0.13       420\n",
      "\n",
      "    accuracy                           0.76      2366\n",
      "   macro avg       0.83      0.62      0.59      2366\n",
      "weighted avg       0.80      0.76      0.70      2366\n",
      "\n",
      "              precision    recall  f1-score   support\n",
      "\n",
      "           0       0.63      1.00      0.77      1165\n",
      "           1       0.62      0.31      0.41       609\n",
      "           2       1.00      0.02      0.03       383\n",
      "\n",
      "    accuracy                           0.63      2157\n",
      "   macro avg       0.75      0.44      0.40      2157\n",
      "weighted avg       0.69      0.63      0.54      2157\n",
      "\n"
     ]
    },
    {
     "name": "stderr",
     "output_type": "stream",
     "text": [
      "/Users/sfoell/anaconda3/envs/radar/lib/python3.7/site-packages/sklearn/metrics/_classification.py:1272: UndefinedMetricWarning: Precision and F-score are ill-defined and being set to 0.0 in labels with no predicted samples. Use `zero_division` parameter to control this behavior.\n",
      "  _warn_prf(average, modifier, msg_start, len(result))\n"
     ]
    },
    {
     "name": "stdout",
     "output_type": "stream",
     "text": [
      "              precision    recall  f1-score   support\n",
      "\n",
      "           0       0.94      0.89      0.91      1161\n",
      "           1       0.61      0.99      0.76       661\n",
      "           2       0.00      0.00      0.00       351\n",
      "\n",
      "    accuracy                           0.77      2173\n",
      "   macro avg       0.52      0.63      0.56      2173\n",
      "weighted avg       0.69      0.77      0.72      2173\n",
      "\n",
      "              precision    recall  f1-score   support\n",
      "\n",
      "           0       1.00      0.15      0.26      1152\n",
      "           1       0.33      1.00      0.50       674\n",
      "           2       0.00      0.00      0.00       393\n",
      "\n",
      "    accuracy                           0.38      2219\n",
      "   macro avg       0.44      0.38      0.25      2219\n",
      "weighted avg       0.62      0.38      0.29      2219\n",
      "\n",
      "              precision    recall  f1-score   support\n",
      "\n",
      "           0       0.95      0.85      0.90      1219\n",
      "           1       0.54      0.87      0.67       666\n",
      "           2       0.32      0.11      0.17       395\n",
      "\n",
      "    accuracy                           0.73      2280\n",
      "   macro avg       0.61      0.61      0.58      2280\n",
      "weighted avg       0.72      0.72      0.70      2280\n",
      "\n",
      "              precision    recall  f1-score   support\n",
      "\n",
      "           0       0.96      0.94      0.95      1201\n",
      "           1       0.64      0.88      0.74       671\n",
      "           2       0.29      0.14      0.19       393\n",
      "\n",
      "    accuracy                           0.78      2265\n",
      "   macro avg       0.63      0.65      0.63      2265\n",
      "weighted avg       0.75      0.78      0.76      2265\n",
      "\n",
      "              precision    recall  f1-score   support\n",
      "\n",
      "           0       0.72      1.00      0.84      1189\n",
      "           1       0.50      0.45      0.48       661\n",
      "           2       0.00      0.00      0.00       393\n",
      "\n",
      "    accuracy                           0.66      2243\n",
      "   macro avg       0.41      0.48      0.44      2243\n",
      "weighted avg       0.53      0.66      0.59      2243\n",
      "\n",
      "              precision    recall  f1-score   support\n",
      "\n",
      "           0       0.64      0.90      0.75      1190\n",
      "           1       0.69      0.51      0.59       664\n",
      "           2       0.00      0.00      0.00       364\n",
      "\n",
      "    accuracy                           0.64      2218\n",
      "   macro avg       0.44      0.47      0.44      2218\n",
      "weighted avg       0.55      0.64      0.58      2218\n",
      "\n",
      "              precision    recall  f1-score   support\n",
      "\n",
      "           0       0.87      0.77      0.82      1201\n",
      "           1       0.50      0.83      0.62       621\n",
      "           2       0.88      0.28      0.43       393\n",
      "\n",
      "    accuracy                           0.70      2215\n",
      "   macro avg       0.75      0.63      0.62      2215\n",
      "weighted avg       0.77      0.70      0.69      2215\n",
      "\n",
      "0.5009437151681088\n"
     ]
    }
   ],
   "source": [
    "df = data.replace([np.inf, -np.inf], np.nan) # np.inf leads to problems with some techniques\n",
    "\n",
    "# Clean columns that contain a lot of nan values \n",
    "print(len(df), len(df.columns))\n",
    "df = df.dropna(axis=1, thresh=int(len(df)*0.99))\n",
    "print(len(df), len(df.columns))\n",
    "print('Columns dropped: ', data.drop(df.columns, axis=1).columns.values)\n",
    "\n",
    "\n",
    "stats = []\n",
    "\n",
    "cv = model_selection.LeaveOneGroupOut()\n",
    "\n",
    "X = df.drop(columns=['label', 'ID'])\n",
    "y = df['label'].astype('int')\n",
    "groups = df['ID']\n",
    "print(\"running %d-fold CV...\" % (cv.get_n_splits(X, y, groups)))\n",
    "\n",
    "for train_index, test_index in cv.split(X, y, groups):\n",
    "    X_train, X_test = X.iloc[train_index], X.iloc[test_index]\n",
    "    y_train, y_test = y.iloc[train_index], y.iloc[test_index]\n",
    "\n",
    "    params = {'objective': 'binary', 'is_unbalance': True}\n",
    "    model = lgb.LGBMClassifier(**params)\n",
    "    model.fit(X_train, y_train)\n",
    "    y_pred = model.predict(X_test)\n",
    "    stats.append({\n",
    "        'f1': f1_score(y_test, y_pred, average=\"macro\"),\n",
    "        'accuracy': accuracy_score(y_test, y_pred)\n",
    "    })\n",
    "        \n",
    "    \n",
    "    print(metrics.classification_report(y_test, y_pred))\n",
    "\n",
    "stats = pd.DataFrame(stats)\n",
    "print(stats.f1.mean())"
   ]
  },
  {
   "cell_type": "code",
   "execution_count": 17,
   "metadata": {},
   "outputs": [
    {
     "name": "stdout",
     "output_type": "stream",
     "text": [
      "0.6686837095164828\n"
     ]
    }
   ],
   "source": [
    "print(stats.accuracy.mean())"
   ]
  },
  {
   "cell_type": "code",
   "execution_count": null,
   "metadata": {},
   "outputs": [],
   "source": []
  }
 ],
 "metadata": {
  "kernelspec": {
   "display_name": "Python 3",
   "language": "python",
   "name": "python3"
  },
  "language_info": {
   "codemirror_mode": {
    "name": "ipython",
    "version": 3
   },
   "file_extension": ".py",
   "mimetype": "text/x-python",
   "name": "python",
   "nbconvert_exporter": "python",
   "pygments_lexer": "ipython3",
   "version": "3.7.9"
  }
 },
 "nbformat": 4,
 "nbformat_minor": 4
}
