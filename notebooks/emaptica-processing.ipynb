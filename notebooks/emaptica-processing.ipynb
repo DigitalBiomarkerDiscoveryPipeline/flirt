{
 "cells": [
  {
   "cell_type": "markdown",
   "metadata": {},
   "source": [
    "# Empatica Feature Extraction Pipeline\n",
    "\n",
    "This notebook presents several examples of all flirt functionalities for the Empatica E4. We beginn by introducing the\n",
    "simplest case -- from the downloaded zip file to comprehensive features. In the subsequent sections, the more advanced\n",
    "functionalities will be introduced from"
   ]
  },
  {
   "cell_type": "code",
   "execution_count": 1,
   "metadata": {
    "pycharm": {
     "name": "#%%\n"
    }
   },
   "outputs": [
    {
     "data": {
      "text/plain": [
       "'My love for you goes on like the value of pi.'"
      ]
     },
     "execution_count": 1,
     "metadata": {},
     "output_type": "execute_result"
    }
   ],
   "source": [
    "import flirt.with_\n",
    "flirt.with_.me()"
   ]
  },
  {
   "cell_type": "markdown",
   "metadata": {
    "pycharm": {
     "name": "#%% md\n"
    }
   },
   "source": [
    "## The high-level case\n",
    "The easiest and fastest way to features is the \"simple\" functionality providing an off-the-shelf functionality to read\n",
    "and transform the Empatica .zip file directly into features. Features are calculated for each time window window_length.\n",
    "The overlapping sliding windows are shifted by the target_frequency. Features are calculated for ACC, EDA, HR, and IBI."
   ]
  },
  {
   "cell_type": "code",
   "execution_count": null,
   "metadata": {
    "pycharm": {
     "is_executing": true,
     "name": "#%%\n"
    }
   },
   "outputs": [
    {
     "name": "stdout",
     "output_type": "stream",
     "text": [
      "Reading files\n",
      "Calculating HRV features\n",
      "Cleaning data...\n",
      "Calculate td features\n"
     ]
    },
    {
     "data": {
      "application/vnd.jupyter.widget-view+json": {
       "model_id": "112add2da4c24e81b700cc5ec2da925d",
       "version_major": 2,
       "version_minor": 0
      },
      "text/plain": [
       "HBox(children=(HTML(value=''), FloatProgress(value=0.0, max=17865.0), HTML(value='')))"
      ]
     },
     "metadata": {},
     "output_type": "display_data"
    },
    {
     "name": "stdout",
     "output_type": "stream",
     "text": [
      "\n",
      "Calculate fd features\n"
     ]
    },
    {
     "data": {
      "application/vnd.jupyter.widget-view+json": {
       "model_id": "c42396c422ae459b80f606281a14e4ed",
       "version_major": 2,
       "version_minor": 0
      },
      "text/plain": [
       "HBox(children=(HTML(value=''), FloatProgress(value=0.0, max=17865.0), HTML(value='')))"
      ]
     },
     "metadata": {},
     "output_type": "display_data"
    },
    {
     "name": "stdout",
     "output_type": "stream",
     "text": [
      "\n",
      "Calculate stat features\n"
     ]
    },
    {
     "data": {
      "application/vnd.jupyter.widget-view+json": {
       "model_id": "fe1e46dc8dd845198082d7797aef1357",
       "version_major": 2,
       "version_minor": 0
      },
      "text/plain": [
       "HBox(children=(HTML(value=''), FloatProgress(value=0.0, max=17865.0), HTML(value='')))"
      ]
     },
     "metadata": {},
     "output_type": "display_data"
    },
    {
     "name": "stdout",
     "output_type": "stream",
     "text": [
      "\n",
      "Calculating EDA features\n"
     ]
    },
    {
     "data": {
      "application/vnd.jupyter.widget-view+json": {
       "model_id": "f8fc3287402541698654eac53069c3b0",
       "version_major": 2,
       "version_minor": 0
      },
      "text/plain": [
       "HBox(children=(HTML(value=''), FloatProgress(value=0.0, max=30693.0), HTML(value='')))"
      ]
     },
     "metadata": {},
     "output_type": "display_data"
    },
    {
     "name": "stdout",
     "output_type": "stream",
     "text": [
      "\n"
     ]
    },
    {
     "name": "stderr",
     "output_type": "stream",
     "text": [
      "/Users/sfoell/anaconda3/lib/python3.8/site-packages/flirt/flirt/simple/empatica.py:75: UserWarning: tonic_entropy contains more than 5%(0.09) nan values\n",
      "  window_step_size=window_step_size).add_prefix('eda_')\n",
      "/Users/sfoell/anaconda3/lib/python3.8/site-packages/flirt/flirt/simple/empatica.py:75: UserWarning: phasic_entropy contains more than 5%(0.73) nan values\n",
      "  window_step_size=window_step_size).add_prefix('eda_')\n"
     ]
    },
    {
     "name": "stdout",
     "output_type": "stream",
     "text": [
      "Calculating ACC features\n"
     ]
    },
    {
     "data": {
      "application/vnd.jupyter.widget-view+json": {
       "model_id": "8674b480aa5d441a97fd38254c67d53f",
       "version_major": 2,
       "version_minor": 0
      },
      "text/plain": [
       "HBox(children=(HTML(value=''), FloatProgress(value=0.0, max=30694.0), HTML(value='')))"
      ]
     },
     "metadata": {},
     "output_type": "display_data"
    }
   ],
   "source": [
    "import flirt.simple\n",
    "\n",
    "zip_file_path = \"../test/wearable-data/empatica/1560460372.zip\"\n",
    "\n",
    "data = flirt.simple.get_features_for_empatica_archive(zip_file_path= zip_file_path)\n",
    "data.sample(5)"
   ]
  },
  {
   "cell_type": "code",
   "execution_count": null,
   "metadata": {
    "pycharm": {
     "name": "#%%\n"
    }
   },
   "outputs": [],
   "source": [
    "#Select sensor modality and plot the first five features\n",
    "data.filter(regex='^hrv', axis=1).iloc[:, 0:5].plot(subplots=True, figsize=(24, 18))"
   ]
  },
  {
   "cell_type": "markdown",
   "metadata": {
    "pycharm": {
     "name": "#%% md\n"
    }
   },
   "source": [
    "## The low-level case\n",
    "Flirt allows its user to access low-level functionalities. A comprehensive pipeline can be set-up by building by chaining\n",
    " different components to each other."
   ]
  },
  {
   "cell_type": "markdown",
   "metadata": {
    "pycharm": {
     "name": "#%% md\n"
    }
   },
   "source": [
    "### Preparation\n",
    "Reading all desired sensor modalities to Python."
   ]
  },
  {
   "cell_type": "code",
   "execution_count": 9,
   "metadata": {
    "pycharm": {
     "name": "#%%\n"
    }
   },
   "outputs": [],
   "source": [
    "import flirt.reader.empatica\n",
    "\n",
    "#After unpacking the .zip file, read the desired sensor modality into Python\n",
    "acc_df = flirt.reader.empatica.read_acc_file_into_df(filepath_or_buffer=\"../test/wearable-data/empatica/ACC.csv\")\n",
    "ibi_file = flirt.reader.empatica.read_ibi_file_into_df(filepath_or_buffer=\"../test/wearable-data/empatica/IBI.csv\")\n",
    "eda_df = flirt.reader.empatica.read_eda_file_into_df(filepath_or_buffer=\"../test/wearable-data/empatica/EDA.csv\")\n",
    "\n",
    "#Support for additional sensor modalities\n",
    "bvp_df = flirt.reader.empatica.read_bvp_file_into_df(filepath_or_buffer=\"../test/wearable-data/empatica/BVP.csv\")\n",
    "hr_df = flirt.reader.empatica.read_hr_file_into_df(filepath_or_buffer=\"../test/wearable-data/empatica/HR.csv\")\n",
    "temp_file = flirt.reader.empatica.read_temp_file_into_df(filepath_or_buffer=\"../test/wearable-data/empatica/TEMP.csv\")"
   ]
  },
  {
   "cell_type": "markdown",
   "metadata": {
    "pycharm": {
     "name": "#%% md\n"
    }
   },
   "source": [
    "### ACC Features"
   ]
  },
  {
   "cell_type": "code",
   "execution_count": 10,
   "metadata": {
    "pycharm": {
     "name": "#%%\n"
    }
   },
   "outputs": [
    {
     "data": {
      "application/vnd.jupyter.widget-view+json": {
       "model_id": "8090d92f887740c79266e86d20012945",
       "version_major": 2,
       "version_minor": 0
      },
      "text/plain": [
       "HBox(children=(HTML(value=''), FloatProgress(value=0.0, max=313.0), HTML(value='')))"
      ]
     },
     "metadata": {},
     "output_type": "display_data"
    },
    {
     "name": "stdout",
     "output_type": "stream",
     "text": [
      "\n"
     ]
    }
   ],
   "source": [
    "import flirt.acc\n",
    "acc_features=flirt.acc.get_acc_features(data = acc_df)"
   ]
  },
  {
   "cell_type": "markdown",
   "metadata": {
    "pycharm": {
     "name": "#%% md\n"
    }
   },
   "source": [
    "### HRV\n"
   ]
  },
  {
   "cell_type": "code",
   "execution_count": null,
   "metadata": {
    "pycharm": {
     "name": "#%%\n"
    }
   },
   "outputs": [],
   "source": [
    "import flirt.hrv\n",
    "hrv_features=flirt.hrv.get_hrv_features(data = ibi_df)"
   ]
  },
  {
   "cell_type": "markdown",
   "metadata": {},
   "source": [
    "### EDA"
   ]
  },
  {
   "cell_type": "code",
   "execution_count": null,
   "metadata": {
    "pycharm": {
     "name": "#%%\n"
    }
   },
   "outputs": [],
   "source": [
    "import flirt.eda\n",
    "eda_features=flirt.eda.get_eda_features(data = eda_df)"
   ]
  }
 ],
 "metadata": {
  "kernelspec": {
   "display_name": "Python 3",
   "language": "python",
   "name": "python3"
  },
  "language_info": {
   "codemirror_mode": {
    "name": "ipython",
    "version": 3
   },
   "file_extension": ".py",
   "mimetype": "text/x-python",
   "name": "python",
   "nbconvert_exporter": "python",
   "pygments_lexer": "ipython3",
   "version": "3.7.9"
  }
 },
 "nbformat": 4,
 "nbformat_minor": 1
}